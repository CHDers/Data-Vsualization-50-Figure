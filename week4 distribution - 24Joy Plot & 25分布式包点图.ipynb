{
 "cells": [
  {
   "cell_type": "markdown",
   "metadata": {},
   "source": [
    "# **菊安酱与菜菜的Python机器学习可视化**"
   ]
  },
  {
   "cell_type": "markdown",
   "metadata": {},
   "source": [
    "### <font color='bule'>第四期  分布图：24 Joy Plot"
   ]
  },
  {
   "cell_type": "markdown",
   "metadata": {},
   "source": [
    "**注意：本篇中可能遇见无法在matpotlib和seaborn中显示中文或者负号的问题**  \n",
    "如果你遇见了，请参考链接，可永久解决中文和负号问题：https://www.jianshu.com/p/914b5f4ce6bf  \n",
    "或者你也可以在每次需要负号和中文的时候执行下面的代码来避免中文或负号显示不出来："
   ]
  },
  {
   "cell_type": "code",
   "execution_count": 1,
   "metadata": {},
   "outputs": [],
   "source": [
    "# import matplotlib.pyplot as plt\n",
    "\n",
    "# plt.rcParams['font.sans-serif']=['Simhei'] #显示中文\n",
    "# plt.rcParams['axes.unicode_minus']=False   #显示负号"
   ]
  },
  {
   "cell_type": "markdown",
   "metadata": {},
   "source": [
    "### <font color=bule> 24/50 Joy Plot"
   ]
  },
  {
   "cell_type": "markdown",
   "metadata": {},
   "source": [
    "**Joy Plot名字的由来**   \n",
    "2017年4月24日，Jenny Bryan在一条推文中创造了“joyplot”一词，这个想法是为了纪念Joy Division乐队，其1979年的专辑Unknown Pleasures在其封面上展示了无线电波作为交错线条的可视化，创造出类似3D的效果。然后2017年的时候迅速火起来。但是这个名字背后的历史故事相当黑暗，很快R语言就把这个名字弃用了，代替的是ggridges包。   \n",
    "\n",
    "<img src='http://pictes.oss-cn-beijing.aliyuncs.com/microclass-virtualisation/week4%20Distribution/joyplot%E7%94%B1%E6%9D%A5.png' width=400>"
   ]
  },
  {
   "cell_type": "markdown",
   "metadata": {},
   "source": [
    "**JoyPy包的安装**    \n",
    "今天我们要学习的是python中的joyplots（JoyPy），首先需要安装JoyPy包     \n",
    "可以直接运行下面代码，也可以在CMD中输入pip install joypy"
   ]
  },
  {
   "cell_type": "code",
   "execution_count": 2,
   "metadata": {},
   "outputs": [
    {
     "name": "stdout",
     "output_type": "stream",
     "text": [
      "Microsoft Windows [版本 10.0.17134.706]\n",
      "(c) 2018 Microsoft Corporation。保留所有权利。\n",
      "\n",
      "E:\\微课学院\\微课\\python50图\\课件\\04>pip install joypy\n",
      "Collecting joypy\n",
      "  Downloading https://files.pythonhosted.org/packages/0b/66/422f6a22c90033aff17a5357b0852ca6854e6deadfa516648f0ad72f200f/joypy-0.1.10-py2.py3-none-any.whl\n",
      "Requirement already satisfied: numpy in d:\\anaconda3\\lib\\site-packages (from joypy) (1.15.4)\n",
      "Requirement already satisfied: matplotlib in d:\\anaconda3\\lib\\site-packages (from joypy) (3.0.2)\n",
      "Requirement already satisfied: pandas>=0.20.0 in d:\\anaconda3\\lib\\site-packages (from joypy) (0.23.4)\n",
      "Requirement already satisfied: scipy>=0.11.0 in d:\\anaconda3\\lib\\site-packages (from joypy) (1.1.0)\n",
      "Requirement already satisfied: cycler>=0.10 in d:\\anaconda3\\lib\\site-packages (from matplotlib->joypy) (0.10.0)\n",
      "Requirement already satisfied: kiwisolver>=1.0.1 in d:\\anaconda3\\lib\\site-packages (from matplotlib->joypy) (1.0.1)\n",
      "Requirement already satisfied: pyparsing!=2.0.4,!=2.1.2,!=2.1.6,>=2.0.1 in d:\\anaconda3\\lib\\site-packages (from matplotlib->joypy) (2.3.0)\n",
      "Requirement already satisfied: python-dateutil>=2.1 in d:\\anaconda3\\lib\\site-packages (from matplotlib->joypy) (2.7.5)\n",
      "Requirement already satisfied: pytz>=2011k in d:\\anaconda3\\lib\\site-packages (from pandas>=0.20.0->joypy) (2018.7)\n",
      "Requirement already satisfied: six in d:\\anaconda3\\lib\\site-packages (from cycler>=0.10->matplotlib->joypy) (1.12.0)\n",
      "Requirement already satisfied: setuptools in d:\\anaconda3\\lib\\site-packages (from kiwisolver>=1.0.1->matplotlib->joypy) (40.6.3)\n",
      "Installing collected packages: joypy\n",
      "Successfully installed joypy-0.1.10\n",
      "\n",
      "E:\\微课学院\\微课\\python50图\\课件\\04>"
     ]
    }
   ],
   "source": [
    "%%cmd\n",
    "pip install joypy"
   ]
  },
  {
   "cell_type": "markdown",
   "metadata": {},
   "source": [
    "Joy Plot允许不同组的密度曲线重叠，这是一种可视化大量分组数据的彼此关系分布的方法。"
   ]
  },
  {
   "cell_type": "markdown",
   "metadata": {},
   "source": [
    "<img src='http://pictes.oss-cn-beijing.aliyuncs.com/microclass-virtualisation/week4%20Distribution/joy%20plot.png' width=500>"
   ]
  },
  {
   "cell_type": "markdown",
   "metadata": {},
   "source": [
    "这幅图的主要目的就是反映不同类型车辆的城市里程和公路里程的密度曲线"
   ]
  },
  {
   "cell_type": "markdown",
   "metadata": {},
   "source": [
    "横坐标：城市里程和公路里程数值       \n",
    "纵坐标：不同类型车的概率密度     \n",
    "颜色：两种颜色分别代表公路里程和城市里程   "
   ]
  },
  {
   "cell_type": "markdown",
   "metadata": {},
   "source": [
    "### 1. 导入需要的绘图库"
   ]
  },
  {
   "cell_type": "code",
   "execution_count": 1,
   "metadata": {},
   "outputs": [],
   "source": [
    "import pandas as pd\n",
    "import numpy as np\n",
    "import seaborn as sns\n",
    "import joypy\n",
    "import matplotlib.pyplot as plt\n",
    "%matplotlib inline\n",
    "#如果用jupyter notebook则需要这行代码让你的图像显示，如果是jupyterlab则不需要\n",
    "\n",
    "plt.rcParams['font.sans-serif']=['Simhei'] #显示中文\n",
    "plt.rcParams['axes.unicode_minus']=False   #显示负号"
   ]
  },
  {
   "cell_type": "markdown",
   "metadata": {},
   "source": [
    "### 2.认识绘制Joyplots的函数"
   ]
  },
  {
   "cell_type": "markdown",
   "metadata": {},
   "source": [
    "**joypy.joyplot**   \n",
    "函数功能： 使用Matplotlib和pandas绘制DF或者其他嵌套集合的joyplot    \n",
    "\n",
    "重要参数：   \n",
    ">'data':绘图数据集    \n",
    ">'column=None'：使用data中的有限列进行绘图     \n",
    ">'by=None'：分组列    \n",
    ">'grid=False'：添加网格线     \n",
    ">'xlabelsize=None':X轴标签大小     \n",
    ">'ylabelsize=None':Y轴标签大小   \n",
    ">'xrot=None':X轴刻度标签旋转角度   \n",
    ">'yrot=None':Y轴刻度标签旋转角度    \n",
    ">'hist=False':显示直方图    \n",
    ">'fade=False':如果设定True，则显示渐变色    \n",
    ">\"ylim='max'\":共享Y轴刻度    \n",
    ">'fill=True':曲线下填充颜色    \n",
    ">'linecolor=None':曲线颜色       \n",
    ">'background=None':背景颜色      \n",
    ">'overlap=1'：控制重叠程度   \n",
    ">'title=None':添加图表标题   \n",
    ">'colormap=None'：色谱    "
   ]
  },
  {
   "cell_type": "code",
   "execution_count": 3,
   "metadata": {},
   "outputs": [
    {
     "data": {
      "text/plain": [
       "\u001b[1;31mSignature:\u001b[0m\n",
       "\u001b[0mjoypy\u001b[0m\u001b[1;33m.\u001b[0m\u001b[0mjoyplot\u001b[0m\u001b[1;33m(\u001b[0m\u001b[1;33m\n",
       "\u001b[0m    \u001b[0mdata\u001b[0m\u001b[1;33m,\u001b[0m\u001b[1;33m\n",
       "\u001b[0m    \u001b[0mcolumn\u001b[0m\u001b[1;33m=\u001b[0m\u001b[1;32mNone\u001b[0m\u001b[1;33m,\u001b[0m\u001b[1;33m\n",
       "\u001b[0m    \u001b[0mby\u001b[0m\u001b[1;33m=\u001b[0m\u001b[1;32mNone\u001b[0m\u001b[1;33m,\u001b[0m\u001b[1;33m\n",
       "\u001b[0m    \u001b[0mgrid\u001b[0m\u001b[1;33m=\u001b[0m\u001b[1;32mFalse\u001b[0m\u001b[1;33m,\u001b[0m\u001b[1;33m\n",
       "\u001b[0m    \u001b[0mxlabelsize\u001b[0m\u001b[1;33m=\u001b[0m\u001b[1;32mNone\u001b[0m\u001b[1;33m,\u001b[0m\u001b[1;33m\n",
       "\u001b[0m    \u001b[0mxrot\u001b[0m\u001b[1;33m=\u001b[0m\u001b[1;32mNone\u001b[0m\u001b[1;33m,\u001b[0m\u001b[1;33m\n",
       "\u001b[0m    \u001b[0mylabelsize\u001b[0m\u001b[1;33m=\u001b[0m\u001b[1;32mNone\u001b[0m\u001b[1;33m,\u001b[0m\u001b[1;33m\n",
       "\u001b[0m    \u001b[0myrot\u001b[0m\u001b[1;33m=\u001b[0m\u001b[1;32mNone\u001b[0m\u001b[1;33m,\u001b[0m\u001b[1;33m\n",
       "\u001b[0m    \u001b[0max\u001b[0m\u001b[1;33m=\u001b[0m\u001b[1;32mNone\u001b[0m\u001b[1;33m,\u001b[0m\u001b[1;33m\n",
       "\u001b[0m    \u001b[0mfigsize\u001b[0m\u001b[1;33m=\u001b[0m\u001b[1;32mNone\u001b[0m\u001b[1;33m,\u001b[0m\u001b[1;33m\n",
       "\u001b[0m    \u001b[0mhist\u001b[0m\u001b[1;33m=\u001b[0m\u001b[1;32mFalse\u001b[0m\u001b[1;33m,\u001b[0m\u001b[1;33m\n",
       "\u001b[0m    \u001b[0mbins\u001b[0m\u001b[1;33m=\u001b[0m\u001b[1;36m10\u001b[0m\u001b[1;33m,\u001b[0m\u001b[1;33m\n",
       "\u001b[0m    \u001b[0mfade\u001b[0m\u001b[1;33m=\u001b[0m\u001b[1;32mFalse\u001b[0m\u001b[1;33m,\u001b[0m\u001b[1;33m\n",
       "\u001b[0m    \u001b[0mylim\u001b[0m\u001b[1;33m=\u001b[0m\u001b[1;34m'max'\u001b[0m\u001b[1;33m,\u001b[0m\u001b[1;33m\n",
       "\u001b[0m    \u001b[0mfill\u001b[0m\u001b[1;33m=\u001b[0m\u001b[1;32mTrue\u001b[0m\u001b[1;33m,\u001b[0m\u001b[1;33m\n",
       "\u001b[0m    \u001b[0mlinecolor\u001b[0m\u001b[1;33m=\u001b[0m\u001b[1;32mNone\u001b[0m\u001b[1;33m,\u001b[0m\u001b[1;33m\n",
       "\u001b[0m    \u001b[0moverlap\u001b[0m\u001b[1;33m=\u001b[0m\u001b[1;36m1\u001b[0m\u001b[1;33m,\u001b[0m\u001b[1;33m\n",
       "\u001b[0m    \u001b[0mbackground\u001b[0m\u001b[1;33m=\u001b[0m\u001b[1;32mNone\u001b[0m\u001b[1;33m,\u001b[0m\u001b[1;33m\n",
       "\u001b[0m    \u001b[0mlabels\u001b[0m\u001b[1;33m=\u001b[0m\u001b[1;32mNone\u001b[0m\u001b[1;33m,\u001b[0m\u001b[1;33m\n",
       "\u001b[0m    \u001b[0mxlabels\u001b[0m\u001b[1;33m=\u001b[0m\u001b[1;32mTrue\u001b[0m\u001b[1;33m,\u001b[0m\u001b[1;33m\n",
       "\u001b[0m    \u001b[0mylabels\u001b[0m\u001b[1;33m=\u001b[0m\u001b[1;32mTrue\u001b[0m\u001b[1;33m,\u001b[0m\u001b[1;33m\n",
       "\u001b[0m    \u001b[0mrange_style\u001b[0m\u001b[1;33m=\u001b[0m\u001b[1;34m'all'\u001b[0m\u001b[1;33m,\u001b[0m\u001b[1;33m\n",
       "\u001b[0m    \u001b[0mx_range\u001b[0m\u001b[1;33m=\u001b[0m\u001b[1;32mNone\u001b[0m\u001b[1;33m,\u001b[0m\u001b[1;33m\n",
       "\u001b[0m    \u001b[0mtitle\u001b[0m\u001b[1;33m=\u001b[0m\u001b[1;32mNone\u001b[0m\u001b[1;33m,\u001b[0m\u001b[1;33m\n",
       "\u001b[0m    \u001b[0mcolormap\u001b[0m\u001b[1;33m=\u001b[0m\u001b[1;32mNone\u001b[0m\u001b[1;33m,\u001b[0m\u001b[1;33m\n",
       "\u001b[0m    \u001b[0mcolor\u001b[0m\u001b[1;33m=\u001b[0m\u001b[1;32mNone\u001b[0m\u001b[1;33m,\u001b[0m\u001b[1;33m\n",
       "\u001b[0m    \u001b[1;33m**\u001b[0m\u001b[0mkwds\u001b[0m\u001b[1;33m,\u001b[0m\u001b[1;33m\n",
       "\u001b[0m\u001b[1;33m)\u001b[0m\u001b[1;33m\u001b[0m\u001b[1;33m\u001b[0m\u001b[0m\n",
       "\u001b[1;31mDocstring:\u001b[0m\n",
       "Draw joyplot of a DataFrame, or appropriately nested collection,\n",
       "using matplotlib and pandas.\n",
       "\n",
       "A joyplot is a stack of vertically aligned density plots / histograms.\n",
       "By default, if 'data' is a DataFrame,\n",
       "this function will plot a density plot for each column.\n",
       "\n",
       "This wrapper method tries to convert whatever structure is given\n",
       "to a nested collection of lists with additional information\n",
       "on labels, and use the private _joyplot function to actually\n",
       "draw theh plot.\n",
       "\n",
       "Parameters\n",
       "----------\n",
       "data : DataFrame, Series or nested collection\n",
       "column : string or sequence\n",
       "    If passed, will be used to limit data to a subset of columns\n",
       "by : object, optional\n",
       "    If passed, used to form separate plot groups\n",
       "grid : boolean, default True\n",
       "    Whether to show axis grid lines\n",
       "labels : boolean or list, default True.\n",
       "    If list, must be the same size of the de\n",
       "xlabelsize : int, default None\n",
       "    If specified changes the x-axis label size\n",
       "xrot : float, default None\n",
       "    rotation of x axis labels\n",
       "ylabelsize : int, default None\n",
       "    If specified changes the y-axis label size\n",
       "yrot : float, default None\n",
       "    rotation of y axis labels\n",
       "ax : matplotlib axes object, default None\n",
       "figsize : tuple\n",
       "    The size of the figure to create in inches by default\n",
       "hist : boolean, default False\n",
       "bins : integer, default 10\n",
       "    Number of histogram bins to be used\n",
       "color : color or colors to be used in the plots. It can be:\n",
       "    a string or anything interpretable as color by matplotib;\n",
       "    a list of colors. See docs / examples for more details.\n",
       "kwds : other plotting keyword arguments\n",
       "    To be passed to hist/kde plot function\n",
       "\u001b[1;31mFile:\u001b[0m      c:\\anaconda\\lib\\site-packages\\joypy\\joyplot.py\n",
       "\u001b[1;31mType:\u001b[0m      function\n"
      ]
     },
     "metadata": {},
     "output_type": "display_data"
    }
   ],
   "source": [
    "joypy.joyplot?"
   ]
  },
  {
   "cell_type": "markdown",
   "metadata": {},
   "source": [
    "### 3.绘制鸢尾花数据集的joyplots"
   ]
  },
  {
   "cell_type": "code",
   "execution_count": 13,
   "metadata": {},
   "outputs": [],
   "source": [
    "iris = sns.load_dataset('iris')"
   ]
  },
  {
   "cell_type": "code",
   "execution_count": 14,
   "metadata": {},
   "outputs": [
    {
     "data": {
      "text/html": [
       "<div>\n",
       "<style scoped>\n",
       "    .dataframe tbody tr th:only-of-type {\n",
       "        vertical-align: middle;\n",
       "    }\n",
       "\n",
       "    .dataframe tbody tr th {\n",
       "        vertical-align: top;\n",
       "    }\n",
       "\n",
       "    .dataframe thead th {\n",
       "        text-align: right;\n",
       "    }\n",
       "</style>\n",
       "<table border=\"1\" class=\"dataframe\">\n",
       "  <thead>\n",
       "    <tr style=\"text-align: right;\">\n",
       "      <th></th>\n",
       "      <th>sepal_length</th>\n",
       "      <th>sepal_width</th>\n",
       "      <th>petal_length</th>\n",
       "      <th>petal_width</th>\n",
       "      <th>species</th>\n",
       "    </tr>\n",
       "  </thead>\n",
       "  <tbody>\n",
       "    <tr>\n",
       "      <th>0</th>\n",
       "      <td>5.1</td>\n",
       "      <td>3.5</td>\n",
       "      <td>1.4</td>\n",
       "      <td>0.2</td>\n",
       "      <td>setosa</td>\n",
       "    </tr>\n",
       "    <tr>\n",
       "      <th>1</th>\n",
       "      <td>4.9</td>\n",
       "      <td>3.0</td>\n",
       "      <td>1.4</td>\n",
       "      <td>0.2</td>\n",
       "      <td>setosa</td>\n",
       "    </tr>\n",
       "    <tr>\n",
       "      <th>2</th>\n",
       "      <td>4.7</td>\n",
       "      <td>3.2</td>\n",
       "      <td>1.3</td>\n",
       "      <td>0.2</td>\n",
       "      <td>setosa</td>\n",
       "    </tr>\n",
       "    <tr>\n",
       "      <th>3</th>\n",
       "      <td>4.6</td>\n",
       "      <td>3.1</td>\n",
       "      <td>1.5</td>\n",
       "      <td>0.2</td>\n",
       "      <td>setosa</td>\n",
       "    </tr>\n",
       "    <tr>\n",
       "      <th>4</th>\n",
       "      <td>5.0</td>\n",
       "      <td>3.6</td>\n",
       "      <td>1.4</td>\n",
       "      <td>0.2</td>\n",
       "      <td>setosa</td>\n",
       "    </tr>\n",
       "  </tbody>\n",
       "</table>\n",
       "</div>"
      ],
      "text/plain": [
       "   sepal_length  sepal_width  petal_length  petal_width species\n",
       "0           5.1          3.5           1.4          0.2  setosa\n",
       "1           4.9          3.0           1.4          0.2  setosa\n",
       "2           4.7          3.2           1.3          0.2  setosa\n",
       "3           4.6          3.1           1.5          0.2  setosa\n",
       "4           5.0          3.6           1.4          0.2  setosa"
      ]
     },
     "execution_count": 14,
     "metadata": {},
     "output_type": "execute_result"
    }
   ],
   "source": [
    "iris.head()"
   ]
  },
  {
   "cell_type": "code",
   "execution_count": 15,
   "metadata": {},
   "outputs": [
    {
     "data": {
      "text/plain": [
       "(150, 5)"
      ]
     },
     "execution_count": 15,
     "metadata": {},
     "output_type": "execute_result"
    }
   ],
   "source": [
    "iris.shape"
   ]
  },
  {
   "cell_type": "code",
   "execution_count": 16,
   "metadata": {},
   "outputs": [
    {
     "data": {
      "image/png": "[encoded data removed]",
      "text/plain": [
       "<Figure size 432x288 with 5 Axes>"
      ]
     },
     "metadata": {
      "needs_background": "light"
     },
     "output_type": "display_data"
    }
   ],
   "source": [
    "joypy.joyplot(iris); #在所有参数都是默认值的情况下，绘制鸢尾花数据集的joyplot图形"
   ]
  },
  {
   "cell_type": "markdown",
   "metadata": {},
   "source": [
    "如果传递分组的DF，或者将列名传递给by参数，则会获得分组列中每个值的密度图。"
   ]
  },
  {
   "cell_type": "code",
   "execution_count": 22,
   "metadata": {},
   "outputs": [
    {
     "data": {
      "image/png": "[encoded data removed]",
      "text/plain": [
       "<Figure size 432x288 with 4 Axes>"
      ]
     },
     "metadata": {
      "needs_background": "light"
     },
     "output_type": "display_data"
    }
   ],
   "source": [
    "joypy.joyplot(iris\n",
    "              #,column=['sepal_length','petal_length'] #选择特征列进行绘图\n",
    "              ,by=\"species\" #分组依据列\n",
    "              ,xlabelsize=12 #X轴的标签大小\n",
    "              ,ylabelsize=12 #Y轴的标签大小\n",
    "              #,ylim='own' #共享Y轴刻度\n",
    "              #,grid=True #显示网格线\n",
    "              #,fill=False #曲线下面积要不要填充\n",
    "              #,hist=True #显示直方图\n",
    "              #,yrot=30 #Y轴刻度标签逆时针旋转的角度\n",
    "              #,xrot=60 #X轴刻度标签逆时针旋转的角度\n",
    "              #,fade=True #渐变色的设定，从上到下依次变深\n",
    "              #,overlap=3 #控制Y轴刻度之间的间隔，值越小间隔越大\n",
    "              #,linecolor='b' #密度曲线的颜色\n",
    "              #,background = 'grey' #设置背景色\n",
    "              ,title='Joyplots of iris' #设置图形标题\n",
    "              ,colormap=plt.cm.rainbow\n",
    "              );"
   ]
  },
  {
   "cell_type": "markdown",
   "metadata": {},
   "source": [
    "### 4.认识所用数据集"
   ]
  },
  {
   "cell_type": "code",
   "execution_count": 37,
   "metadata": {},
   "outputs": [],
   "source": [
    "#导入数据\n",
    "df = pd.read_csv('D:\\Python_data_processing__Data_processing\\Juanjiang_And_Caicai_Visualization\\data\\mpg_ggplot2.csv')"
   ]
  },
  {
   "cell_type": "code",
   "execution_count": 38,
   "metadata": {},
   "outputs": [
    {
     "data": {
      "text/html": [
       "<div>\n",
       "<style scoped>\n",
       "    .dataframe tbody tr th:only-of-type {\n",
       "        vertical-align: middle;\n",
       "    }\n",
       "\n",
       "    .dataframe tbody tr th {\n",
       "        vertical-align: top;\n",
       "    }\n",
       "\n",
       "    .dataframe thead th {\n",
       "        text-align: right;\n",
       "    }\n",
       "</style>\n",
       "<table border=\"1\" class=\"dataframe\">\n",
       "  <thead>\n",
       "    <tr style=\"text-align: right;\">\n",
       "      <th></th>\n",
       "      <th>manufacturer</th>\n",
       "      <th>model</th>\n",
       "      <th>displ</th>\n",
       "      <th>year</th>\n",
       "      <th>cyl</th>\n",
       "      <th>trans</th>\n",
       "      <th>drv</th>\n",
       "      <th>cty</th>\n",
       "      <th>hwy</th>\n",
       "      <th>fl</th>\n",
       "      <th>class</th>\n",
       "    </tr>\n",
       "  </thead>\n",
       "  <tbody>\n",
       "    <tr>\n",
       "      <th>0</th>\n",
       "      <td>audi</td>\n",
       "      <td>a4</td>\n",
       "      <td>1.8</td>\n",
       "      <td>1999</td>\n",
       "      <td>4</td>\n",
       "      <td>auto(l5)</td>\n",
       "      <td>f</td>\n",
       "      <td>18</td>\n",
       "      <td>29</td>\n",
       "      <td>p</td>\n",
       "      <td>compact</td>\n",
       "    </tr>\n",
       "    <tr>\n",
       "      <th>1</th>\n",
       "      <td>audi</td>\n",
       "      <td>a4</td>\n",
       "      <td>1.8</td>\n",
       "      <td>1999</td>\n",
       "      <td>4</td>\n",
       "      <td>manual(m5)</td>\n",
       "      <td>f</td>\n",
       "      <td>21</td>\n",
       "      <td>29</td>\n",
       "      <td>p</td>\n",
       "      <td>compact</td>\n",
       "    </tr>\n",
       "    <tr>\n",
       "      <th>2</th>\n",
       "      <td>audi</td>\n",
       "      <td>a4</td>\n",
       "      <td>2.0</td>\n",
       "      <td>2008</td>\n",
       "      <td>4</td>\n",
       "      <td>manual(m6)</td>\n",
       "      <td>f</td>\n",
       "      <td>20</td>\n",
       "      <td>31</td>\n",
       "      <td>p</td>\n",
       "      <td>compact</td>\n",
       "    </tr>\n",
       "    <tr>\n",
       "      <th>3</th>\n",
       "      <td>audi</td>\n",
       "      <td>a4</td>\n",
       "      <td>2.0</td>\n",
       "      <td>2008</td>\n",
       "      <td>4</td>\n",
       "      <td>auto(av)</td>\n",
       "      <td>f</td>\n",
       "      <td>21</td>\n",
       "      <td>30</td>\n",
       "      <td>p</td>\n",
       "      <td>compact</td>\n",
       "    </tr>\n",
       "    <tr>\n",
       "      <th>4</th>\n",
       "      <td>audi</td>\n",
       "      <td>a4</td>\n",
       "      <td>2.8</td>\n",
       "      <td>1999</td>\n",
       "      <td>6</td>\n",
       "      <td>auto(l5)</td>\n",
       "      <td>f</td>\n",
       "      <td>16</td>\n",
       "      <td>26</td>\n",
       "      <td>p</td>\n",
       "      <td>compact</td>\n",
       "    </tr>\n",
       "  </tbody>\n",
       "</table>\n",
       "</div>"
      ],
      "text/plain": [
       "  manufacturer model  displ  year  cyl       trans drv  cty  hwy fl    class\n",
       "0         audi    a4    1.8  1999    4    auto(l5)   f   18   29  p  compact\n",
       "1         audi    a4    1.8  1999    4  manual(m5)   f   21   29  p  compact\n",
       "2         audi    a4    2.0  2008    4  manual(m6)   f   20   31  p  compact\n",
       "3         audi    a4    2.0  2008    4    auto(av)   f   21   30  p  compact\n",
       "4         audi    a4    2.8  1999    6    auto(l5)   f   16   26  p  compact"
      ]
     },
     "execution_count": 38,
     "metadata": {},
     "output_type": "execute_result"
    }
   ],
   "source": [
    "df.head()"
   ]
  },
  {
   "cell_type": "code",
   "execution_count": 39,
   "metadata": {},
   "outputs": [
    {
     "data": {
      "text/plain": [
       "(234, 11)"
      ]
     },
     "execution_count": 39,
     "metadata": {},
     "output_type": "execute_result"
    }
   ],
   "source": [
    "df.shape"
   ]
  },
  {
   "cell_type": "code",
   "execution_count": 40,
   "metadata": {},
   "outputs": [],
   "source": [
    "name = [\"汽车制造商\",\"型号名称\",\"发动机排量(L)\",\"制造年份\",\"气缸数量\",\"手动/自动\"\n",
    "              ,\"驱动类型\",\"城市里程/加仑\",\"公路里程/加仑\",\"汽油种类\",\"车辆类型\"]"
   ]
  },
  {
   "cell_type": "code",
   "execution_count": 41,
   "metadata": {},
   "outputs": [
    {
     "data": {
      "text/plain": [
       "<zip at 0x14c26b01100>"
      ]
     },
     "execution_count": 41,
     "metadata": {},
     "output_type": "execute_result"
    }
   ],
   "source": [
    "zip(df.columns,np.array(name))"
   ]
  },
  {
   "cell_type": "code",
   "execution_count": 42,
   "metadata": {},
   "outputs": [
    {
     "data": {
      "text/plain": [
       "[('manufacturer', '汽车制造商'),\n",
       " ('model', '型号名称'),\n",
       " ('displ', '发动机排量(L)'),\n",
       " ('year', '制造年份'),\n",
       " ('cyl', '气缸数量'),\n",
       " ('trans', '手动/自动'),\n",
       " ('drv', '驱动类型'),\n",
       " ('cty', '城市里程/加仑'),\n",
       " ('hwy', '公路里程/加仑'),\n",
       " ('fl', '汽油种类'),\n",
       " ('class', '车辆类型')]"
      ]
     },
     "execution_count": 42,
     "metadata": {},
     "output_type": "execute_result"
    }
   ],
   "source": [
    "[*zip(df.columns,np.array(name))]"
   ]
  },
  {
   "cell_type": "markdown",
   "metadata": {},
   "source": [
    "### 5.绘制Joyplots"
   ]
  },
  {
   "cell_type": "code",
   "execution_count": 44,
   "metadata": {},
   "outputs": [
    {
     "data": {
      "text/plain": [
       "suv           62\n",
       "compact       47\n",
       "midsize       41\n",
       "subcompact    35\n",
       "pickup        33\n",
       "minivan       11\n",
       "2seater        5\n",
       "Name: class, dtype: int64"
      ]
     },
     "execution_count": 44,
     "metadata": {},
     "output_type": "execute_result"
    }
   ],
   "source": [
    "df['class'].value_counts()"
   ]
  },
  {
   "cell_type": "code",
   "execution_count": 43,
   "metadata": {},
   "outputs": [
    {
     "data": {
      "text/plain": [
       "<Figure size 960x600 with 0 Axes>"
      ]
     },
     "metadata": {},
     "output_type": "display_data"
    },
    {
     "data": {
      "image/png": "[encoded data removed]",
      "text/plain": [
       "<Figure size 720x432 with 8 Axes>"
      ]
     },
     "metadata": {
      "needs_background": "light"
     },
     "output_type": "display_data"
    }
   ],
   "source": [
    "#创建画布\n",
    "plt.figure(figsize=(16,10),dpi=60)\n",
    "#绘制joyplot\n",
    "fig, axes = joypy.joyplot(df,column=['cty','hwy'],by='class'\n",
    "                          ,ylim='own'\n",
    "                          ,figsize=(10,6)\n",
    "                          ,xlabelsize=12\n",
    "                          ,ylabelsize=12\n",
    "                          ,title='Joy Plot of City and Highway Mileage by Class'\n",
    "                         );"
   ]
  },
  {
   "cell_type": "code",
   "execution_count": 45,
   "metadata": {},
   "outputs": [
    {
     "data": {
      "text/plain": [
       "<Figure size 960x600 with 0 Axes>"
      ]
     },
     "metadata": {},
     "output_type": "display_data"
    },
    {
     "data": {
      "image/png": "[encoded data removed]",
      "text/plain": [
       "<Figure size 720x432 with 8 Axes>"
      ]
     },
     "metadata": {
      "needs_background": "light"
     },
     "output_type": "display_data"
    }
   ],
   "source": [
    "#源码\n",
    "# Import Data\n",
    "mpg = pd.read_csv(\"D:\\Python_data_processing__Data_processing\\Juanjiang_And_Caicai_Visualization\\data\\mpg_ggplot2.csv\")\n",
    "\n",
    "# Draw Plot\n",
    "plt.figure(figsize=(16,10), dpi=60)\n",
    "fig, axes = joypy.joyplot(mpg, column=['hwy', 'cty'], by=\"class\", ylim='own', figsize=(10,6))\n",
    "\n",
    "# Decoration\n",
    "plt.title('Joy Plot of City and Highway Mileage by Class', fontsize=22)\n",
    "plt.show()"
   ]
  },
  {
   "cell_type": "markdown",
   "metadata": {},
   "source": [
    "### 5. 图像解读"
   ]
  },
  {
   "cell_type": "code",
   "execution_count": null,
   "metadata": {},
   "outputs": [],
   "source": []
  },
  {
   "cell_type": "markdown",
   "metadata": {},
   "source": [
    "### <font color='bule'>25/50 分布式包点图（Distributed Dot Plot）"
   ]
  },
  {
   "cell_type": "markdown",
   "metadata": {},
   "source": [
    "分布式包点图可以显示按组划分的点的分布情况。点的颜色越暗说明该区域的点集中度越高。通过对中位数进行不同着色，组的真实定位也会表达得更明显。"
   ]
  },
  {
   "cell_type": "markdown",
   "metadata": {},
   "source": [
    "<img src='http://pictes.oss-cn-beijing.aliyuncs.com/microclass-virtualisation/week4%20Distribution/%E5%88%86%E5%B8%83%E5%BC%8F%E5%8C%85%E7%82%B9%E5%9B%BE.png' width=600>"
   ]
  },
  {
   "cell_type": "markdown",
   "metadata": {},
   "source": [
    "- 横坐标：城市里程\n",
    "- 纵坐标：汽车制造商  \n",
    "- 图例：每种汽车制造商所产汽车的城市里程中位数"
   ]
  },
  {
   "cell_type": "markdown",
   "metadata": {},
   "source": [
    "#### 这个图里面所有的绘图元素我们都讲过了，所以这里就直接开始绘制图形啦"
   ]
  },
  {
   "cell_type": "markdown",
   "metadata": {},
   "source": [
    "### 1.导入数据集并做简单数据处理"
   ]
  },
  {
   "cell_type": "code",
   "execution_count": 2,
   "metadata": {},
   "outputs": [],
   "source": [
    "#导入数据集\n",
    "df_raw = pd.read_csv(\"D:\\Python_data_processing__Data_processing\\Juanjiang_And_Caicai_Visualization\\data\\mpg_ggplot2.csv\")"
   ]
  },
  {
   "cell_type": "code",
   "execution_count": 3,
   "metadata": {},
   "outputs": [
    {
     "data": {
      "text/html": [
       "<div>\n",
       "<style scoped>\n",
       "    .dataframe tbody tr th:only-of-type {\n",
       "        vertical-align: middle;\n",
       "    }\n",
       "\n",
       "    .dataframe tbody tr th {\n",
       "        vertical-align: top;\n",
       "    }\n",
       "\n",
       "    .dataframe thead th {\n",
       "        text-align: right;\n",
       "    }\n",
       "</style>\n",
       "<table border=\"1\" class=\"dataframe\">\n",
       "  <thead>\n",
       "    <tr style=\"text-align: right;\">\n",
       "      <th></th>\n",
       "      <th>manufacturer</th>\n",
       "      <th>model</th>\n",
       "      <th>displ</th>\n",
       "      <th>year</th>\n",
       "      <th>cyl</th>\n",
       "      <th>trans</th>\n",
       "      <th>drv</th>\n",
       "      <th>cty</th>\n",
       "      <th>hwy</th>\n",
       "      <th>fl</th>\n",
       "      <th>class</th>\n",
       "    </tr>\n",
       "  </thead>\n",
       "  <tbody>\n",
       "    <tr>\n",
       "      <th>0</th>\n",
       "      <td>audi</td>\n",
       "      <td>a4</td>\n",
       "      <td>1.8</td>\n",
       "      <td>1999</td>\n",
       "      <td>4</td>\n",
       "      <td>auto(l5)</td>\n",
       "      <td>f</td>\n",
       "      <td>18</td>\n",
       "      <td>29</td>\n",
       "      <td>p</td>\n",
       "      <td>compact</td>\n",
       "    </tr>\n",
       "    <tr>\n",
       "      <th>1</th>\n",
       "      <td>audi</td>\n",
       "      <td>a4</td>\n",
       "      <td>1.8</td>\n",
       "      <td>1999</td>\n",
       "      <td>4</td>\n",
       "      <td>manual(m5)</td>\n",
       "      <td>f</td>\n",
       "      <td>21</td>\n",
       "      <td>29</td>\n",
       "      <td>p</td>\n",
       "      <td>compact</td>\n",
       "    </tr>\n",
       "    <tr>\n",
       "      <th>2</th>\n",
       "      <td>audi</td>\n",
       "      <td>a4</td>\n",
       "      <td>2.0</td>\n",
       "      <td>2008</td>\n",
       "      <td>4</td>\n",
       "      <td>manual(m6)</td>\n",
       "      <td>f</td>\n",
       "      <td>20</td>\n",
       "      <td>31</td>\n",
       "      <td>p</td>\n",
       "      <td>compact</td>\n",
       "    </tr>\n",
       "    <tr>\n",
       "      <th>3</th>\n",
       "      <td>audi</td>\n",
       "      <td>a4</td>\n",
       "      <td>2.0</td>\n",
       "      <td>2008</td>\n",
       "      <td>4</td>\n",
       "      <td>auto(av)</td>\n",
       "      <td>f</td>\n",
       "      <td>21</td>\n",
       "      <td>30</td>\n",
       "      <td>p</td>\n",
       "      <td>compact</td>\n",
       "    </tr>\n",
       "    <tr>\n",
       "      <th>4</th>\n",
       "      <td>audi</td>\n",
       "      <td>a4</td>\n",
       "      <td>2.8</td>\n",
       "      <td>1999</td>\n",
       "      <td>6</td>\n",
       "      <td>auto(l5)</td>\n",
       "      <td>f</td>\n",
       "      <td>16</td>\n",
       "      <td>26</td>\n",
       "      <td>p</td>\n",
       "      <td>compact</td>\n",
       "    </tr>\n",
       "  </tbody>\n",
       "</table>\n",
       "</div>"
      ],
      "text/plain": [
       "  manufacturer model  displ  year  cyl       trans drv  cty  hwy fl    class\n",
       "0         audi    a4    1.8  1999    4    auto(l5)   f   18   29  p  compact\n",
       "1         audi    a4    1.8  1999    4  manual(m5)   f   21   29  p  compact\n",
       "2         audi    a4    2.0  2008    4  manual(m6)   f   20   31  p  compact\n",
       "3         audi    a4    2.0  2008    4    auto(av)   f   21   30  p  compact\n",
       "4         audi    a4    2.8  1999    6    auto(l5)   f   16   26  p  compact"
      ]
     },
     "execution_count": 3,
     "metadata": {},
     "output_type": "execute_result"
    }
   ],
   "source": [
    "df_raw.head() #这个数据集我们已经非常熟悉了"
   ]
  },
  {
   "cell_type": "code",
   "execution_count": 4,
   "metadata": {},
   "outputs": [
    {
     "data": {
      "text/plain": [
       "4    81\n",
       "6    79\n",
       "8    70\n",
       "5     4\n",
       "Name: cyl, dtype: int64"
      ]
     },
     "execution_count": 4,
     "metadata": {},
     "output_type": "execute_result"
    }
   ],
   "source": [
    "df_raw['cyl'].value_counts()"
   ]
  },
  {
   "cell_type": "code",
   "execution_count": 5,
   "metadata": {},
   "outputs": [],
   "source": [
    "#给气缸数不同的车添加不同的颜色\n",
    "cyl_colors = {4:'tab:cyan', 5:'tab:green', 6:'tab:olive', 8:'tab:brown'}\n",
    "df_raw['cyl_color'] = df_raw.cyl.map(cyl_colors)"
   ]
  },
  {
   "cell_type": "code",
   "execution_count": 6,
   "metadata": {},
   "outputs": [
    {
     "data": {
      "text/html": [
       "<div>\n",
       "<style scoped>\n",
       "    .dataframe tbody tr th:only-of-type {\n",
       "        vertical-align: middle;\n",
       "    }\n",
       "\n",
       "    .dataframe tbody tr th {\n",
       "        vertical-align: top;\n",
       "    }\n",
       "\n",
       "    .dataframe thead th {\n",
       "        text-align: right;\n",
       "    }\n",
       "</style>\n",
       "<table border=\"1\" class=\"dataframe\">\n",
       "  <thead>\n",
       "    <tr style=\"text-align: right;\">\n",
       "      <th></th>\n",
       "      <th>manufacturer</th>\n",
       "      <th>model</th>\n",
       "      <th>displ</th>\n",
       "      <th>year</th>\n",
       "      <th>cyl</th>\n",
       "      <th>trans</th>\n",
       "      <th>drv</th>\n",
       "      <th>cty</th>\n",
       "      <th>hwy</th>\n",
       "      <th>fl</th>\n",
       "      <th>class</th>\n",
       "      <th>cyl_color</th>\n",
       "    </tr>\n",
       "  </thead>\n",
       "  <tbody>\n",
       "    <tr>\n",
       "      <th>0</th>\n",
       "      <td>audi</td>\n",
       "      <td>a4</td>\n",
       "      <td>1.8</td>\n",
       "      <td>1999</td>\n",
       "      <td>4</td>\n",
       "      <td>auto(l5)</td>\n",
       "      <td>f</td>\n",
       "      <td>18</td>\n",
       "      <td>29</td>\n",
       "      <td>p</td>\n",
       "      <td>compact</td>\n",
       "      <td>tab:cyan</td>\n",
       "    </tr>\n",
       "    <tr>\n",
       "      <th>1</th>\n",
       "      <td>audi</td>\n",
       "      <td>a4</td>\n",
       "      <td>1.8</td>\n",
       "      <td>1999</td>\n",
       "      <td>4</td>\n",
       "      <td>manual(m5)</td>\n",
       "      <td>f</td>\n",
       "      <td>21</td>\n",
       "      <td>29</td>\n",
       "      <td>p</td>\n",
       "      <td>compact</td>\n",
       "      <td>tab:cyan</td>\n",
       "    </tr>\n",
       "    <tr>\n",
       "      <th>2</th>\n",
       "      <td>audi</td>\n",
       "      <td>a4</td>\n",
       "      <td>2.0</td>\n",
       "      <td>2008</td>\n",
       "      <td>4</td>\n",
       "      <td>manual(m6)</td>\n",
       "      <td>f</td>\n",
       "      <td>20</td>\n",
       "      <td>31</td>\n",
       "      <td>p</td>\n",
       "      <td>compact</td>\n",
       "      <td>tab:cyan</td>\n",
       "    </tr>\n",
       "    <tr>\n",
       "      <th>3</th>\n",
       "      <td>audi</td>\n",
       "      <td>a4</td>\n",
       "      <td>2.0</td>\n",
       "      <td>2008</td>\n",
       "      <td>4</td>\n",
       "      <td>auto(av)</td>\n",
       "      <td>f</td>\n",
       "      <td>21</td>\n",
       "      <td>30</td>\n",
       "      <td>p</td>\n",
       "      <td>compact</td>\n",
       "      <td>tab:cyan</td>\n",
       "    </tr>\n",
       "    <tr>\n",
       "      <th>4</th>\n",
       "      <td>audi</td>\n",
       "      <td>a4</td>\n",
       "      <td>2.8</td>\n",
       "      <td>1999</td>\n",
       "      <td>6</td>\n",
       "      <td>auto(l5)</td>\n",
       "      <td>f</td>\n",
       "      <td>16</td>\n",
       "      <td>26</td>\n",
       "      <td>p</td>\n",
       "      <td>compact</td>\n",
       "      <td>tab:olive</td>\n",
       "    </tr>\n",
       "  </tbody>\n",
       "</table>\n",
       "</div>"
      ],
      "text/plain": [
       "  manufacturer model  displ  year  cyl       trans drv  cty  hwy fl    class  \\\n",
       "0         audi    a4    1.8  1999    4    auto(l5)   f   18   29  p  compact   \n",
       "1         audi    a4    1.8  1999    4  manual(m5)   f   21   29  p  compact   \n",
       "2         audi    a4    2.0  2008    4  manual(m6)   f   20   31  p  compact   \n",
       "3         audi    a4    2.0  2008    4    auto(av)   f   21   30  p  compact   \n",
       "4         audi    a4    2.8  1999    6    auto(l5)   f   16   26  p  compact   \n",
       "\n",
       "   cyl_color  \n",
       "0   tab:cyan  \n",
       "1   tab:cyan  \n",
       "2   tab:cyan  \n",
       "3   tab:cyan  \n",
       "4  tab:olive  "
      ]
     },
     "execution_count": 6,
     "metadata": {},
     "output_type": "execute_result"
    }
   ],
   "source": [
    "df_raw.head()"
   ]
  },
  {
   "cell_type": "code",
   "execution_count": 7,
   "metadata": {},
   "outputs": [],
   "source": [
    "#计算每一个汽车制造商的城市里程平均数\n",
    "df = df_raw[['cty', 'manufacturer']].groupby('manufacturer').apply(lambda x: x.mean())"
   ]
  },
  {
   "cell_type": "code",
   "execution_count": 8,
   "metadata": {},
   "outputs": [
    {
     "data": {
      "text/html": [
       "<div>\n",
       "<style scoped>\n",
       "    .dataframe tbody tr th:only-of-type {\n",
       "        vertical-align: middle;\n",
       "    }\n",
       "\n",
       "    .dataframe tbody tr th {\n",
       "        vertical-align: top;\n",
       "    }\n",
       "\n",
       "    .dataframe thead th {\n",
       "        text-align: right;\n",
       "    }\n",
       "</style>\n",
       "<table border=\"1\" class=\"dataframe\">\n",
       "  <thead>\n",
       "    <tr style=\"text-align: right;\">\n",
       "      <th></th>\n",
       "      <th>cty</th>\n",
       "    </tr>\n",
       "    <tr>\n",
       "      <th>manufacturer</th>\n",
       "      <th></th>\n",
       "    </tr>\n",
       "  </thead>\n",
       "  <tbody>\n",
       "    <tr>\n",
       "      <th>audi</th>\n",
       "      <td>17.611111</td>\n",
       "    </tr>\n",
       "    <tr>\n",
       "      <th>chevrolet</th>\n",
       "      <td>15.000000</td>\n",
       "    </tr>\n",
       "    <tr>\n",
       "      <th>dodge</th>\n",
       "      <td>13.135135</td>\n",
       "    </tr>\n",
       "    <tr>\n",
       "      <th>ford</th>\n",
       "      <td>14.000000</td>\n",
       "    </tr>\n",
       "    <tr>\n",
       "      <th>honda</th>\n",
       "      <td>24.444444</td>\n",
       "    </tr>\n",
       "    <tr>\n",
       "      <th>hyundai</th>\n",
       "      <td>18.642857</td>\n",
       "    </tr>\n",
       "    <tr>\n",
       "      <th>jeep</th>\n",
       "      <td>13.500000</td>\n",
       "    </tr>\n",
       "    <tr>\n",
       "      <th>land rover</th>\n",
       "      <td>11.500000</td>\n",
       "    </tr>\n",
       "    <tr>\n",
       "      <th>lincoln</th>\n",
       "      <td>11.333333</td>\n",
       "    </tr>\n",
       "    <tr>\n",
       "      <th>mercury</th>\n",
       "      <td>13.250000</td>\n",
       "    </tr>\n",
       "    <tr>\n",
       "      <th>nissan</th>\n",
       "      <td>18.076923</td>\n",
       "    </tr>\n",
       "    <tr>\n",
       "      <th>pontiac</th>\n",
       "      <td>17.000000</td>\n",
       "    </tr>\n",
       "    <tr>\n",
       "      <th>subaru</th>\n",
       "      <td>19.285714</td>\n",
       "    </tr>\n",
       "    <tr>\n",
       "      <th>toyota</th>\n",
       "      <td>18.529412</td>\n",
       "    </tr>\n",
       "    <tr>\n",
       "      <th>volkswagen</th>\n",
       "      <td>20.925926</td>\n",
       "    </tr>\n",
       "  </tbody>\n",
       "</table>\n",
       "</div>"
      ],
      "text/plain": [
       "                    cty\n",
       "manufacturer           \n",
       "audi          17.611111\n",
       "chevrolet     15.000000\n",
       "dodge         13.135135\n",
       "ford          14.000000\n",
       "honda         24.444444\n",
       "hyundai       18.642857\n",
       "jeep          13.500000\n",
       "land rover    11.500000\n",
       "lincoln       11.333333\n",
       "mercury       13.250000\n",
       "nissan        18.076923\n",
       "pontiac       17.000000\n",
       "subaru        19.285714\n",
       "toyota        18.529412\n",
       "volkswagen    20.925926"
      ]
     },
     "execution_count": 8,
     "metadata": {},
     "output_type": "execute_result"
    }
   ],
   "source": [
    "df"
   ]
  },
  {
   "cell_type": "code",
   "execution_count": 9,
   "metadata": {},
   "outputs": [],
   "source": [
    "df.sort_values('cty', ascending=False, inplace=True) #根据城市里程从大到小排序，inplace=True代表在原数据集上进行修改"
   ]
  },
  {
   "cell_type": "code",
   "execution_count": 10,
   "metadata": {},
   "outputs": [
    {
     "data": {
      "text/html": [
       "<div>\n",
       "<style scoped>\n",
       "    .dataframe tbody tr th:only-of-type {\n",
       "        vertical-align: middle;\n",
       "    }\n",
       "\n",
       "    .dataframe tbody tr th {\n",
       "        vertical-align: top;\n",
       "    }\n",
       "\n",
       "    .dataframe thead th {\n",
       "        text-align: right;\n",
       "    }\n",
       "</style>\n",
       "<table border=\"1\" class=\"dataframe\">\n",
       "  <thead>\n",
       "    <tr style=\"text-align: right;\">\n",
       "      <th></th>\n",
       "      <th>cty</th>\n",
       "    </tr>\n",
       "    <tr>\n",
       "      <th>manufacturer</th>\n",
       "      <th></th>\n",
       "    </tr>\n",
       "  </thead>\n",
       "  <tbody>\n",
       "    <tr>\n",
       "      <th>honda</th>\n",
       "      <td>24.444444</td>\n",
       "    </tr>\n",
       "    <tr>\n",
       "      <th>volkswagen</th>\n",
       "      <td>20.925926</td>\n",
       "    </tr>\n",
       "    <tr>\n",
       "      <th>subaru</th>\n",
       "      <td>19.285714</td>\n",
       "    </tr>\n",
       "    <tr>\n",
       "      <th>hyundai</th>\n",
       "      <td>18.642857</td>\n",
       "    </tr>\n",
       "    <tr>\n",
       "      <th>toyota</th>\n",
       "      <td>18.529412</td>\n",
       "    </tr>\n",
       "    <tr>\n",
       "      <th>nissan</th>\n",
       "      <td>18.076923</td>\n",
       "    </tr>\n",
       "    <tr>\n",
       "      <th>audi</th>\n",
       "      <td>17.611111</td>\n",
       "    </tr>\n",
       "    <tr>\n",
       "      <th>pontiac</th>\n",
       "      <td>17.000000</td>\n",
       "    </tr>\n",
       "    <tr>\n",
       "      <th>chevrolet</th>\n",
       "      <td>15.000000</td>\n",
       "    </tr>\n",
       "    <tr>\n",
       "      <th>ford</th>\n",
       "      <td>14.000000</td>\n",
       "    </tr>\n",
       "    <tr>\n",
       "      <th>jeep</th>\n",
       "      <td>13.500000</td>\n",
       "    </tr>\n",
       "    <tr>\n",
       "      <th>mercury</th>\n",
       "      <td>13.250000</td>\n",
       "    </tr>\n",
       "    <tr>\n",
       "      <th>dodge</th>\n",
       "      <td>13.135135</td>\n",
       "    </tr>\n",
       "    <tr>\n",
       "      <th>land rover</th>\n",
       "      <td>11.500000</td>\n",
       "    </tr>\n",
       "    <tr>\n",
       "      <th>lincoln</th>\n",
       "      <td>11.333333</td>\n",
       "    </tr>\n",
       "  </tbody>\n",
       "</table>\n",
       "</div>"
      ],
      "text/plain": [
       "                    cty\n",
       "manufacturer           \n",
       "honda         24.444444\n",
       "volkswagen    20.925926\n",
       "subaru        19.285714\n",
       "hyundai       18.642857\n",
       "toyota        18.529412\n",
       "nissan        18.076923\n",
       "audi          17.611111\n",
       "pontiac       17.000000\n",
       "chevrolet     15.000000\n",
       "ford          14.000000\n",
       "jeep          13.500000\n",
       "mercury       13.250000\n",
       "dodge         13.135135\n",
       "land rover    11.500000\n",
       "lincoln       11.333333"
      ]
     },
     "execution_count": 10,
     "metadata": {},
     "output_type": "execute_result"
    }
   ],
   "source": [
    "df"
   ]
  },
  {
   "cell_type": "code",
   "execution_count": 11,
   "metadata": {},
   "outputs": [],
   "source": [
    "df.reset_index(inplace=True) #重置排序后的索引"
   ]
  },
  {
   "cell_type": "code",
   "execution_count": 12,
   "metadata": {},
   "outputs": [
    {
     "data": {
      "text/html": [
       "<div>\n",
       "<style scoped>\n",
       "    .dataframe tbody tr th:only-of-type {\n",
       "        vertical-align: middle;\n",
       "    }\n",
       "\n",
       "    .dataframe tbody tr th {\n",
       "        vertical-align: top;\n",
       "    }\n",
       "\n",
       "    .dataframe thead th {\n",
       "        text-align: right;\n",
       "    }\n",
       "</style>\n",
       "<table border=\"1\" class=\"dataframe\">\n",
       "  <thead>\n",
       "    <tr style=\"text-align: right;\">\n",
       "      <th></th>\n",
       "      <th>manufacturer</th>\n",
       "      <th>cty</th>\n",
       "    </tr>\n",
       "  </thead>\n",
       "  <tbody>\n",
       "    <tr>\n",
       "      <th>0</th>\n",
       "      <td>honda</td>\n",
       "      <td>24.444444</td>\n",
       "    </tr>\n",
       "    <tr>\n",
       "      <th>1</th>\n",
       "      <td>volkswagen</td>\n",
       "      <td>20.925926</td>\n",
       "    </tr>\n",
       "    <tr>\n",
       "      <th>2</th>\n",
       "      <td>subaru</td>\n",
       "      <td>19.285714</td>\n",
       "    </tr>\n",
       "    <tr>\n",
       "      <th>3</th>\n",
       "      <td>hyundai</td>\n",
       "      <td>18.642857</td>\n",
       "    </tr>\n",
       "    <tr>\n",
       "      <th>4</th>\n",
       "      <td>toyota</td>\n",
       "      <td>18.529412</td>\n",
       "    </tr>\n",
       "    <tr>\n",
       "      <th>5</th>\n",
       "      <td>nissan</td>\n",
       "      <td>18.076923</td>\n",
       "    </tr>\n",
       "    <tr>\n",
       "      <th>6</th>\n",
       "      <td>audi</td>\n",
       "      <td>17.611111</td>\n",
       "    </tr>\n",
       "    <tr>\n",
       "      <th>7</th>\n",
       "      <td>pontiac</td>\n",
       "      <td>17.000000</td>\n",
       "    </tr>\n",
       "    <tr>\n",
       "      <th>8</th>\n",
       "      <td>chevrolet</td>\n",
       "      <td>15.000000</td>\n",
       "    </tr>\n",
       "    <tr>\n",
       "      <th>9</th>\n",
       "      <td>ford</td>\n",
       "      <td>14.000000</td>\n",
       "    </tr>\n",
       "    <tr>\n",
       "      <th>10</th>\n",
       "      <td>jeep</td>\n",
       "      <td>13.500000</td>\n",
       "    </tr>\n",
       "    <tr>\n",
       "      <th>11</th>\n",
       "      <td>mercury</td>\n",
       "      <td>13.250000</td>\n",
       "    </tr>\n",
       "    <tr>\n",
       "      <th>12</th>\n",
       "      <td>dodge</td>\n",
       "      <td>13.135135</td>\n",
       "    </tr>\n",
       "    <tr>\n",
       "      <th>13</th>\n",
       "      <td>land rover</td>\n",
       "      <td>11.500000</td>\n",
       "    </tr>\n",
       "    <tr>\n",
       "      <th>14</th>\n",
       "      <td>lincoln</td>\n",
       "      <td>11.333333</td>\n",
       "    </tr>\n",
       "  </tbody>\n",
       "</table>\n",
       "</div>"
      ],
      "text/plain": [
       "   manufacturer        cty\n",
       "0         honda  24.444444\n",
       "1    volkswagen  20.925926\n",
       "2        subaru  19.285714\n",
       "3       hyundai  18.642857\n",
       "4        toyota  18.529412\n",
       "5        nissan  18.076923\n",
       "6          audi  17.611111\n",
       "7       pontiac  17.000000\n",
       "8     chevrolet  15.000000\n",
       "9          ford  14.000000\n",
       "10         jeep  13.500000\n",
       "11      mercury  13.250000\n",
       "12        dodge  13.135135\n",
       "13   land rover  11.500000\n",
       "14      lincoln  11.333333"
      ]
     },
     "execution_count": 12,
     "metadata": {},
     "output_type": "execute_result"
    }
   ],
   "source": [
    "df"
   ]
  },
  {
   "cell_type": "code",
   "execution_count": 13,
   "metadata": {},
   "outputs": [],
   "source": [
    "#计算每一个汽车制造商的城市里程中位数\n",
    "df_median = df_raw[['cty', 'manufacturer']].groupby('manufacturer').apply(lambda x: x.median())"
   ]
  },
  {
   "cell_type": "code",
   "execution_count": 14,
   "metadata": {},
   "outputs": [
    {
     "data": {
      "text/html": [
       "<div>\n",
       "<style scoped>\n",
       "    .dataframe tbody tr th:only-of-type {\n",
       "        vertical-align: middle;\n",
       "    }\n",
       "\n",
       "    .dataframe tbody tr th {\n",
       "        vertical-align: top;\n",
       "    }\n",
       "\n",
       "    .dataframe thead th {\n",
       "        text-align: right;\n",
       "    }\n",
       "</style>\n",
       "<table border=\"1\" class=\"dataframe\">\n",
       "  <thead>\n",
       "    <tr style=\"text-align: right;\">\n",
       "      <th></th>\n",
       "      <th>cty</th>\n",
       "    </tr>\n",
       "    <tr>\n",
       "      <th>manufacturer</th>\n",
       "      <th></th>\n",
       "    </tr>\n",
       "  </thead>\n",
       "  <tbody>\n",
       "    <tr>\n",
       "      <th>audi</th>\n",
       "      <td>17.5</td>\n",
       "    </tr>\n",
       "    <tr>\n",
       "      <th>chevrolet</th>\n",
       "      <td>15.0</td>\n",
       "    </tr>\n",
       "    <tr>\n",
       "      <th>dodge</th>\n",
       "      <td>13.0</td>\n",
       "    </tr>\n",
       "    <tr>\n",
       "      <th>ford</th>\n",
       "      <td>14.0</td>\n",
       "    </tr>\n",
       "    <tr>\n",
       "      <th>honda</th>\n",
       "      <td>24.0</td>\n",
       "    </tr>\n",
       "    <tr>\n",
       "      <th>hyundai</th>\n",
       "      <td>18.5</td>\n",
       "    </tr>\n",
       "    <tr>\n",
       "      <th>jeep</th>\n",
       "      <td>14.0</td>\n",
       "    </tr>\n",
       "    <tr>\n",
       "      <th>land rover</th>\n",
       "      <td>11.5</td>\n",
       "    </tr>\n",
       "    <tr>\n",
       "      <th>lincoln</th>\n",
       "      <td>11.0</td>\n",
       "    </tr>\n",
       "    <tr>\n",
       "      <th>mercury</th>\n",
       "      <td>13.0</td>\n",
       "    </tr>\n",
       "    <tr>\n",
       "      <th>nissan</th>\n",
       "      <td>19.0</td>\n",
       "    </tr>\n",
       "    <tr>\n",
       "      <th>pontiac</th>\n",
       "      <td>17.0</td>\n",
       "    </tr>\n",
       "    <tr>\n",
       "      <th>subaru</th>\n",
       "      <td>19.0</td>\n",
       "    </tr>\n",
       "    <tr>\n",
       "      <th>toyota</th>\n",
       "      <td>18.0</td>\n",
       "    </tr>\n",
       "    <tr>\n",
       "      <th>volkswagen</th>\n",
       "      <td>21.0</td>\n",
       "    </tr>\n",
       "  </tbody>\n",
       "</table>\n",
       "</div>"
      ],
      "text/plain": [
       "               cty\n",
       "manufacturer      \n",
       "audi          17.5\n",
       "chevrolet     15.0\n",
       "dodge         13.0\n",
       "ford          14.0\n",
       "honda         24.0\n",
       "hyundai       18.5\n",
       "jeep          14.0\n",
       "land rover    11.5\n",
       "lincoln       11.0\n",
       "mercury       13.0\n",
       "nissan        19.0\n",
       "pontiac       17.0\n",
       "subaru        19.0\n",
       "toyota        18.0\n",
       "volkswagen    21.0"
      ]
     },
     "execution_count": 14,
     "metadata": {},
     "output_type": "execute_result"
    }
   ],
   "source": [
    "df_median"
   ]
  },
  {
   "cell_type": "markdown",
   "metadata": {},
   "source": [
    "### 2.绘制目标图形"
   ]
  },
  {
   "cell_type": "code",
   "execution_count": 15,
   "metadata": {},
   "outputs": [
    {
     "data": {
      "text/plain": [
       "RangeIndex(start=0, stop=15, step=1)"
      ]
     },
     "execution_count": 15,
     "metadata": {},
     "output_type": "execute_result"
    }
   ],
   "source": [
    "df.index"
   ]
  },
  {
   "cell_type": "code",
   "execution_count": 26,
   "metadata": {},
   "outputs": [
    {
     "data": {
      "image/png": "[encoded data removed]",
      "text/plain": [
       "<Figure size 840x480 with 1 Axes>"
      ]
     },
     "metadata": {
      "needs_background": "light"
     },
     "output_type": "display_data"
    }
   ],
   "source": [
    "#创建画布\n",
    "fig, ax = plt.subplots(figsize=(14,8), dpi=60) #画布和子图分开\n",
    "#根据每个制造商所产汽车的城市里程均值大小，绘制水平线图\n",
    "ax.hlines(y=df.index, xmin=0, xmax=40, color='gray', alpha=0.5, linewidth=.5, linestyles='dashdot') \n",
    "\n",
    "#绘制每个制造商所产汽车的城市里程散点图\n",
    "for i, make in enumerate(df.manufacturer):\n",
    "    df_make = df_raw.loc[df_raw.manufacturer==make, :]   #提取出每个制造商的相关数据\n",
    "    ax.scatter(y=[np.repeat(i,df_make.shape[0])],x='cty',data=df_make,s=75,edgecolors='gray',c='w',alpha=0.5) #在一行中绘制出所有的城市里程数据点\n",
    "    ax.scatter(y=i,x='cty',data=df_median.loc[df_median.index==make,:],s=75,c='firebrick') #绘制出每个制造商所产汽车的城市里程中位数\n",
    "    \n",
    "#添加文本说明\n",
    "ax.text(33, 13, \"$red\\ dots\\ are\\ the\\ median$\", fontdict={'size':12}, color='firebrick') \n",
    "\n",
    "#去掉图形边框\n",
    "plt.gca().spines[\"top\"].set_visible(False)   \n",
    "#plt.gca().spines[\"top\"].set_alpha(0) \n",
    "plt.gca().spines[\"bottom\"].set_visible(False)    \n",
    "plt.gca().spines[\"right\"].set_visible(False)    \n",
    "plt.gca().spines[\"left\"].set_visible(False)   \n",
    "\n",
    "#添加装饰\n",
    "ax.set_title('Distribution of City Mileage by Make', fontdict={'size':22}) #添加标题\n",
    "ax.set_xlabel('Miles Per Gallon (City)', alpha=0.7) #设定X轴标题\n",
    "plt.xticks(alpha=0.7)   #设定X轴刻度\n",
    "ax.set_yticks(df.index) #设定Y轴刻度\n",
    "ax.set_yticklabels(df.manufacturer.str.title(), fontdict={'horizontalalignment': 'right'}, alpha=0.7) #设定Y轴标题\n",
    "ax.set_xlim(1, 40)#设定X轴刻度范围\n",
    "\n",
    "#添加图例\n",
    "red_patch = plt.plot([],[], marker=\"o\", ms=10, ls=\"\", mec=None, color='firebrick', label=\"Median\")\n",
    "ax.legend(handles=red_patch)\n",
    "plt.grid(axis='both', alpha=.4, linewidth=.1)#配置网格线\n",
    "plt.show() #本地显示图像"
   ]
  },
  {
   "cell_type": "code",
   "execution_count": 64,
   "metadata": {},
   "outputs": [
    {
     "data": {
      "text/plain": [
       "[(0, 'honda'),\n",
       " (1, 'volkswagen'),\n",
       " (2, 'subaru'),\n",
       " (3, 'hyundai'),\n",
       " (4, 'toyota'),\n",
       " (5, 'nissan'),\n",
       " (6, 'audi'),\n",
       " (7, 'pontiac'),\n",
       " (8, 'chevrolet'),\n",
       " (9, 'ford'),\n",
       " (10, 'jeep'),\n",
       " (11, 'mercury'),\n",
       " (12, 'dodge'),\n",
       " (13, 'land rover'),\n",
       " (14, 'lincoln')]"
      ]
     },
     "execution_count": 64,
     "metadata": {},
     "output_type": "execute_result"
    }
   ],
   "source": [
    "[*enumerate(df.manufacturer)]"
   ]
  },
  {
   "cell_type": "code",
   "execution_count": 65,
   "metadata": {},
   "outputs": [
    {
     "data": {
      "text/html": [
       "<div>\n",
       "<style scoped>\n",
       "    .dataframe tbody tr th:only-of-type {\n",
       "        vertical-align: middle;\n",
       "    }\n",
       "\n",
       "    .dataframe tbody tr th {\n",
       "        vertical-align: top;\n",
       "    }\n",
       "\n",
       "    .dataframe thead th {\n",
       "        text-align: right;\n",
       "    }\n",
       "</style>\n",
       "<table border=\"1\" class=\"dataframe\">\n",
       "  <thead>\n",
       "    <tr style=\"text-align: right;\">\n",
       "      <th></th>\n",
       "      <th>manufacturer</th>\n",
       "      <th>model</th>\n",
       "      <th>displ</th>\n",
       "      <th>year</th>\n",
       "      <th>cyl</th>\n",
       "      <th>trans</th>\n",
       "      <th>drv</th>\n",
       "      <th>cty</th>\n",
       "      <th>hwy</th>\n",
       "      <th>fl</th>\n",
       "      <th>class</th>\n",
       "      <th>cyl_color</th>\n",
       "    </tr>\n",
       "  </thead>\n",
       "  <tbody>\n",
       "    <tr>\n",
       "      <th>99</th>\n",
       "      <td>honda</td>\n",
       "      <td>civic</td>\n",
       "      <td>1.6</td>\n",
       "      <td>1999</td>\n",
       "      <td>4</td>\n",
       "      <td>manual(m5)</td>\n",
       "      <td>f</td>\n",
       "      <td>28</td>\n",
       "      <td>33</td>\n",
       "      <td>r</td>\n",
       "      <td>subcompact</td>\n",
       "      <td>tab:cyan</td>\n",
       "    </tr>\n",
       "    <tr>\n",
       "      <th>100</th>\n",
       "      <td>honda</td>\n",
       "      <td>civic</td>\n",
       "      <td>1.6</td>\n",
       "      <td>1999</td>\n",
       "      <td>4</td>\n",
       "      <td>auto(l4)</td>\n",
       "      <td>f</td>\n",
       "      <td>24</td>\n",
       "      <td>32</td>\n",
       "      <td>r</td>\n",
       "      <td>subcompact</td>\n",
       "      <td>tab:cyan</td>\n",
       "    </tr>\n",
       "    <tr>\n",
       "      <th>101</th>\n",
       "      <td>honda</td>\n",
       "      <td>civic</td>\n",
       "      <td>1.6</td>\n",
       "      <td>1999</td>\n",
       "      <td>4</td>\n",
       "      <td>manual(m5)</td>\n",
       "      <td>f</td>\n",
       "      <td>25</td>\n",
       "      <td>32</td>\n",
       "      <td>r</td>\n",
       "      <td>subcompact</td>\n",
       "      <td>tab:cyan</td>\n",
       "    </tr>\n",
       "    <tr>\n",
       "      <th>102</th>\n",
       "      <td>honda</td>\n",
       "      <td>civic</td>\n",
       "      <td>1.6</td>\n",
       "      <td>1999</td>\n",
       "      <td>4</td>\n",
       "      <td>manual(m5)</td>\n",
       "      <td>f</td>\n",
       "      <td>23</td>\n",
       "      <td>29</td>\n",
       "      <td>p</td>\n",
       "      <td>subcompact</td>\n",
       "      <td>tab:cyan</td>\n",
       "    </tr>\n",
       "    <tr>\n",
       "      <th>103</th>\n",
       "      <td>honda</td>\n",
       "      <td>civic</td>\n",
       "      <td>1.6</td>\n",
       "      <td>1999</td>\n",
       "      <td>4</td>\n",
       "      <td>auto(l4)</td>\n",
       "      <td>f</td>\n",
       "      <td>24</td>\n",
       "      <td>32</td>\n",
       "      <td>r</td>\n",
       "      <td>subcompact</td>\n",
       "      <td>tab:cyan</td>\n",
       "    </tr>\n",
       "    <tr>\n",
       "      <th>104</th>\n",
       "      <td>honda</td>\n",
       "      <td>civic</td>\n",
       "      <td>1.8</td>\n",
       "      <td>2008</td>\n",
       "      <td>4</td>\n",
       "      <td>manual(m5)</td>\n",
       "      <td>f</td>\n",
       "      <td>26</td>\n",
       "      <td>34</td>\n",
       "      <td>r</td>\n",
       "      <td>subcompact</td>\n",
       "      <td>tab:cyan</td>\n",
       "    </tr>\n",
       "    <tr>\n",
       "      <th>105</th>\n",
       "      <td>honda</td>\n",
       "      <td>civic</td>\n",
       "      <td>1.8</td>\n",
       "      <td>2008</td>\n",
       "      <td>4</td>\n",
       "      <td>auto(l5)</td>\n",
       "      <td>f</td>\n",
       "      <td>25</td>\n",
       "      <td>36</td>\n",
       "      <td>r</td>\n",
       "      <td>subcompact</td>\n",
       "      <td>tab:cyan</td>\n",
       "    </tr>\n",
       "    <tr>\n",
       "      <th>106</th>\n",
       "      <td>honda</td>\n",
       "      <td>civic</td>\n",
       "      <td>1.8</td>\n",
       "      <td>2008</td>\n",
       "      <td>4</td>\n",
       "      <td>auto(l5)</td>\n",
       "      <td>f</td>\n",
       "      <td>24</td>\n",
       "      <td>36</td>\n",
       "      <td>c</td>\n",
       "      <td>subcompact</td>\n",
       "      <td>tab:cyan</td>\n",
       "    </tr>\n",
       "    <tr>\n",
       "      <th>107</th>\n",
       "      <td>honda</td>\n",
       "      <td>civic</td>\n",
       "      <td>2.0</td>\n",
       "      <td>2008</td>\n",
       "      <td>4</td>\n",
       "      <td>manual(m6)</td>\n",
       "      <td>f</td>\n",
       "      <td>21</td>\n",
       "      <td>29</td>\n",
       "      <td>p</td>\n",
       "      <td>subcompact</td>\n",
       "      <td>tab:cyan</td>\n",
       "    </tr>\n",
       "  </tbody>\n",
       "</table>\n",
       "</div>"
      ],
      "text/plain": [
       "    manufacturer  model  displ  year  cyl       trans drv  cty  hwy fl  \\\n",
       "99         honda  civic    1.6  1999    4  manual(m5)   f   28   33  r   \n",
       "100        honda  civic    1.6  1999    4    auto(l4)   f   24   32  r   \n",
       "101        honda  civic    1.6  1999    4  manual(m5)   f   25   32  r   \n",
       "102        honda  civic    1.6  1999    4  manual(m5)   f   23   29  p   \n",
       "103        honda  civic    1.6  1999    4    auto(l4)   f   24   32  r   \n",
       "104        honda  civic    1.8  2008    4  manual(m5)   f   26   34  r   \n",
       "105        honda  civic    1.8  2008    4    auto(l5)   f   25   36  r   \n",
       "106        honda  civic    1.8  2008    4    auto(l5)   f   24   36  c   \n",
       "107        honda  civic    2.0  2008    4  manual(m6)   f   21   29  p   \n",
       "\n",
       "          class cyl_color  \n",
       "99   subcompact  tab:cyan  \n",
       "100  subcompact  tab:cyan  \n",
       "101  subcompact  tab:cyan  \n",
       "102  subcompact  tab:cyan  \n",
       "103  subcompact  tab:cyan  \n",
       "104  subcompact  tab:cyan  \n",
       "105  subcompact  tab:cyan  \n",
       "106  subcompact  tab:cyan  \n",
       "107  subcompact  tab:cyan  "
      ]
     },
     "execution_count": 65,
     "metadata": {},
     "output_type": "execute_result"
    }
   ],
   "source": [
    "df_make = df_raw.loc[df_raw.manufacturer=='honda', :]\n",
    "df_make"
   ]
  },
  {
   "cell_type": "code",
   "execution_count": 66,
   "metadata": {},
   "outputs": [
    {
     "data": {
      "text/plain": [
       "array([0, 0, 0, 0, 0, 0, 0, 0, 0])"
      ]
     },
     "execution_count": 66,
     "metadata": {},
     "output_type": "execute_result"
    }
   ],
   "source": [
    "np.repeat(0, df_make.shape[0]) #重复元素（把 0 重复df_make.shape[0]次）"
   ]
  },
  {
   "cell_type": "code",
   "execution_count": 45,
   "metadata": {},
   "outputs": [
    {
     "data": {
      "image/png": "[encoded data removed]",
      "text/plain": [
       "<Figure size 1120x640 with 1 Axes>"
      ]
     },
     "metadata": {
      "needs_background": "light"
     },
     "output_type": "display_data"
    }
   ],
   "source": [
    "#源代码\n",
    "# import matplotlib.patches as mpatches  #此处绘图中没用到\n",
    "\n",
    "# Prepare Data\n",
    "df_raw = pd.read_csv('D:\\Python_data_processing__Data_processing\\Juanjiang_And_Caicai_Visualization\\data\\mpg_ggplot2.csv')\n",
    "# cyl_colors = {4:'tab:red', 5:'tab:green', 6:'tab:blue', 8:'tab:orange'} #此图中未用到\n",
    "# df_raw['cyl_color'] = df_raw.cyl.map(cyl_colors) #此图中未用到\n",
    "\n",
    "# Mean and Median city mileage by make\n",
    "df = df_raw[['cty', 'manufacturer']].groupby('manufacturer').apply(lambda x: x.mean()) #每种汽车制造商的cty的均值\n",
    "df.sort_values('cty', ascending=False, inplace=True)\n",
    "df.reset_index(inplace=True)\n",
    "df_median = df_raw[['cty', 'manufacturer']].groupby('manufacturer').apply(lambda x: x.median())\n",
    "\n",
    "# Draw horizontal lines\n",
    "fig, ax = plt.subplots(figsize=(14,8), dpi=80)\n",
    "ax.hlines(y=df.index, xmin=0, xmax=40, color='gray', alpha=0.5, linewidth=.5, linestyles='dashdot')\n",
    "\n",
    "# Draw the Dots\n",
    "for i, make in enumerate(df.manufacturer):\n",
    "    df_make = df_raw.loc[df_raw.manufacturer==make, :]\n",
    "    ax.scatter(y=[np.repeat(i, df_make.shape[0])], x='cty', data=df_make, s=75, edgecolors='gray',c='w' , alpha=0.5)\n",
    "    ax.scatter(y=i, x='cty', data=df_median.loc[df_median.index==make, :], s=75, c='firebrick')\n",
    "\n",
    "# Annotate    \n",
    "ax.text(33, 13, \"$red \\; dots \\; are \\; the \\: median$\", fontdict={'size':12}, color='firebrick')\n",
    "# ax.text(33, 13, \"$red\\ dots\\ are\\ the\\ median$\", fontdict={'size':12}, color='firebrick')\n",
    "\n",
    "# Decorations\n",
    "red_patch = plt.plot([],[], marker=\"o\", ms=10, ls=\"\", mec=None, color='firebrick', label=\"Median\")\n",
    "plt.legend(handles=red_patch)\n",
    "ax.set_title('Distribution of City Mileage by Make', fontdict={'size':22})\n",
    "ax.set_xlabel('Miles Per Gallon (City)', alpha=0.7)\n",
    "ax.set_yticks(df.index)\n",
    "ax.set_yticklabels(df.manufacturer.str.title(), fontdict={'horizontalalignment': 'right'}, alpha=0.7)\n",
    "ax.set_xlim(1, 40)\n",
    "plt.xticks(alpha=0.7)\n",
    "plt.gca().spines[\"top\"].set_visible(False)    \n",
    "plt.gca().spines[\"bottom\"].set_visible(False)    \n",
    "plt.gca().spines[\"right\"].set_visible(False)    \n",
    "plt.gca().spines[\"left\"].set_visible(False)   \n",
    "plt.grid(axis='both', alpha=.4, linewidth=.1)\n",
    "plt.show()"
   ]
  },
  {
   "cell_type": "markdown",
   "metadata": {},
   "source": [
    "#### <font color='blue'>如果我们想根据气缸数的不同给包点着上不同颜色……"
   ]
  },
  {
   "cell_type": "code",
   "execution_count": 39,
   "metadata": {},
   "outputs": [],
   "source": [
    "#导入数据集\n",
    "df_raw = pd.read_csv('D:\\Python_data_processing__Data_processing\\Juanjiang_And_Caicai_Visualization\\data\\mpg_ggplot2.csv')\n",
    "\n",
    "#给气缸数不同的车添加不同的颜色\n",
    "cyl_colors = {4:'tab:cyan', 5:'tab:green', 6:'tab:olive', 8:'tab:brown'}\n",
    "df_raw['cyl_color'] = df_raw.cyl.map(cyl_colors)\n",
    "\n",
    "#计算每一个汽车制造商的城市里程平均数\n",
    "df = df_raw[['cty', 'manufacturer']].groupby('manufacturer').apply(lambda x: x.mean())\n",
    "df.sort_values('cty', ascending=False, inplace=True) #根据城市里程从大到小排序\n",
    "df.reset_index(inplace=True)#重置排序后的索引\n",
    "\n",
    "#计算每一个汽车制造商的城市里程中位数\n",
    "df_median = df_raw[['cty', 'manufacturer']].groupby('manufacturer').apply(lambda x: x.median())"
   ]
  },
  {
   "cell_type": "code",
   "execution_count": 43,
   "metadata": {},
   "outputs": [
    {
     "data": {
      "image/png": "[encoded data removed]",
      "text/plain": [
       "<Figure size 840x480 with 1 Axes>"
      ]
     },
     "metadata": {
      "needs_background": "light"
     },
     "output_type": "display_data"
    }
   ],
   "source": [
    "#创建画布\n",
    "fig, ax = plt.subplots(figsize=(14,8), dpi= 60) #画布和子图分开\n",
    "#根据每个制造商所产汽车的城市里程均值大小，绘制水平线图\n",
    "ax.hlines(y=df.index, xmin=0, xmax=40, color='gray', alpha=0.5, linewidth=.5, linestyles='dashdot') \n",
    "\n",
    "#绘制每个制造商所产汽车的城市里程散点图\n",
    "for i, make in enumerate(df.manufacturer):\n",
    "    df_make = df_raw.loc[df_raw.manufacturer==make, :]   #提取出每个制造商的相关数据\n",
    "    ax.scatter(y=[np.repeat(i, df_make.shape[0])], x='cty', data=df_make, s=75, edgecolors='gray'\n",
    "               ,c=df_make['cyl_color'] , alpha=0.5) #在一行中绘制出所有的城市里程数据点\n",
    "    ax.scatter(y=i, x='cty', data=df_median.loc[df_median.index==make, :], s=75, c='firebrick') #绘制出每个制造商所产汽车的城市里程中位数\n",
    "    \n",
    "#添加文本说明\n",
    "ax.text(33, 11, \"$red\\ dots\\ are\\ the\\ median$\", fontdict={'size':12}, color='firebrick') \n",
    "\n",
    "#去掉图形边框\n",
    "plt.gca().spines[\"top\"].set_visible(False)   \n",
    "#plt.gca().spines[\"top\"].set_alpha(0) \n",
    "plt.gca().spines[\"bottom\"].set_visible(False)    \n",
    "plt.gca().spines[\"right\"].set_visible(False)    \n",
    "plt.gca().spines[\"left\"].set_visible(False)   \n",
    "\n",
    "#添加装饰\n",
    "ax.set_title('Distribution of City Mileage by Make', fontdict={'size':22}) #添加标题\n",
    "ax.set_xlabel('Miles Per Gallon (City)', alpha=0.7) #设定X轴标题\n",
    "plt.xticks(alpha=0.7)   #设定X轴刻度\n",
    "ax.set_yticks(df.index) #设定Y轴刻度\n",
    "ax.set_yticklabels(df.manufacturer.str.title(), fontdict={'horizontalalignment': 'right'}, alpha=0.7) #设定Y轴标题\n",
    "ax.set_xlim(1, 40)#设定X轴刻度范围\n",
    "\n",
    "#添加图例\n",
    "red_patch = plt.plot([],[], marker=\"o\", ms=10, ls=\"\", mec=None, color='firebrick', label=\"Median\")\n",
    "patch1 = plt.plot([],[], marker=\"o\", ms=10, ls=\"\", mec=None, color='tab:cyan', label=\"cyl = 4\")\n",
    "patch2 = plt.plot([],[], marker=\"o\", ms=10, ls=\"\", mec=None, color='tab:green', label=\"cyl = 5\")\n",
    "patch3 = plt.plot([],[], marker=\"o\", ms=10, ls=\"\", mec=None, color='tab:olive', label=\"cyl = 6\")\n",
    "patch3 = plt.plot([],[], marker=\"o\", ms=10, ls=\"\", mec=None, color='tab:brown', label=\"cyl = 8\")\n",
    "ax.legend(fontsize=12,frameon=False)\n",
    "\n",
    "plt.grid(axis='both', alpha=.4, linewidth=.1)#配置网格线\n",
    "plt.show() #本地显示图像"
   ]
  },
  {
   "cell_type": "markdown",
   "metadata": {},
   "source": [
    "### 3.图像解读"
   ]
  },
  {
   "cell_type": "code",
   "execution_count": null,
   "metadata": {},
   "outputs": [],
   "source": []
  },
  {
   "cell_type": "code",
   "execution_count": null,
   "metadata": {},
   "outputs": [],
   "source": []
  }
 ],
 "metadata": {
  "kernelspec": {
   "display_name": "Python 3",
   "language": "python",
   "name": "python3"
  },
  "language_info": {
   "codemirror_mode": {
    "name": "ipython",
    "version": 3
   },
   "file_extension": ".py",
   "mimetype": "text/x-python",
   "name": "python",
   "nbconvert_exporter": "python",
   "pygments_lexer": "ipython3",
   "version": "3.8.5"
  }
 },
 "nbformat": 4,
 "nbformat_minor": 4
}
