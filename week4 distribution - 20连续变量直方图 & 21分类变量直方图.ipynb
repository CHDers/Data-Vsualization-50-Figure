{
 "cells": [
  {
   "cell_type": "markdown",
   "metadata": {},
   "source": [
    "# **菊安酱与菜菜的Python机器学习可视化**"
   ]
  },
  {
   "cell_type": "markdown",
   "metadata": {},
   "source": [
    "### <font color='bule'>第四期  分布图：20连续变量直方图 & 21分类变量直方图\n"
   ]
  },
  {
   "cell_type": "markdown",
   "metadata": {},
   "source": [
    "**注意：本篇中可能遇见无法在matpotlib和seaborn中显示中文或者负号的问题**  \n",
    "如果你遇见了，请参考链接，可永久解决中文和负号问题：https://www.jianshu.com/p/914b5f4ce6bf  \n",
    "或者你也可以在每次需要负号和中文的时候执行下面的代码来避免中文或负号显示不出来："
   ]
  },
  {
   "cell_type": "code",
   "execution_count": 1,
   "metadata": {},
   "outputs": [],
   "source": [
    "# import matplotlib.pyplot as plt\n",
    "\n",
    "# plt.rcParams['font.sans-serif']=['Simhei'] #显示中文\n",
    "# plt.rcParams['axes.unicode_minus']=False   #显示负号"
   ]
  },
  {
   "cell_type": "markdown",
   "metadata": {},
   "source": [
    "## **分布图 Distribution**"
   ]
  },
  {
   "cell_type": "markdown",
   "metadata": {},
   "source": [
    "分布图是python机器学习中比较常见的一种图形    \n",
    "如果你想要查看多组数据之间的分布有什么不同的时候，分布图就是一个很好的选择。   \n",
    "你可以用分布图查看一个特征中不同种类之间的分布关系，也可以查看多个特征之间的分布    "
   ]
  },
  {
   "cell_type": "markdown",
   "metadata": {},
   "source": [
    "典型的分布图有：直方图、密度图、箱型图……"
   ]
  },
  {
   "cell_type": "markdown",
   "metadata": {},
   "source": [
    "<img src='http://pictes.oss-cn-beijing.aliyuncs.com/microclass-virtualisation/week4%20Distribution/%E5%88%86%E5%B8%83%E5%9B%BE.png'>"
   ]
  },
  {
   "cell_type": "markdown",
   "metadata": {},
   "source": [
    "### 我们什么时候需要分布图呢？  \n",
    "1. 数据探索 & 数据解读：<br>\n",
    ">探索数据关系，了解数据分布状况，为决策提供依据<br>\n",
    "2. 数据报告 & 学术研究：<br>\n",
    ">纵向对比：同一个特征中不同类别之间的分布状况<br>\n",
    ">横向对比：不同特征之间的分布状况\n"
   ]
  },
  {
   "cell_type": "markdown",
   "metadata": {},
   "source": [
    "### <font color=bule> 20/50 连续变量直方图（Histogram for Continuous Variable）"
   ]
  },
  {
   "cell_type": "markdown",
   "metadata": {},
   "source": [
    "直方图是我们探索数据时常用的一种方法，它可以显示给定变量的频率分布，非常直观。     \n",
    "一般的直方图对于单变量来说非常的友好，能够清晰的表达出变量的分布状况。     \n",
    "但是对于多变量来说，一般的直方图就没办法清楚的传递信息，解决方案之一就是堆积直方图（如下图所示）。     \n",
    "下图基于分类变量对频率条进行分组，可以更好地了解连续变量和分类变量。   "
   ]
  },
  {
   "cell_type": "markdown",
   "metadata": {},
   "source": [
    "<img src=\"http://pictes.oss-cn-beijing.aliyuncs.com/microclass-virtualisation/week4%20Distribution/%E8%BF%9E%E7%BB%AD%E5%8F%98%E9%87%8F%E7%9B%B4%E6%96%B9%E5%9B%BE.png\" width=700>"
   ]
  },
  {
   "cell_type": "markdown",
   "metadata": {},
   "source": [
    "- 横坐标：发动机排量   \n",
    "- 纵坐标：频数   \n",
    "- 图例：汽车类型   "
   ]
  },
  {
   "cell_type": "markdown",
   "metadata": {},
   "source": [
    "### 1.导入绘图的包"
   ]
  },
  {
   "cell_type": "code",
   "execution_count": 1,
   "metadata": {},
   "outputs": [],
   "source": [
    "import pandas as pd\n",
    "import numpy as np\n",
    "import seaborn as sns\n",
    "import matplotlib.pyplot as plt\n",
    "%matplotlib inline\n",
    "#如果用jupyter notebook则需要这行代码让你的图像显示，如果是jupyterlab则不需要\n",
    "\n",
    "plt.rcParams['font.sans-serif']=['Simhei'] #显示中文\n",
    "plt.rcParams['axes.unicode_minus']=False   #显示负号"
   ]
  },
  {
   "cell_type": "markdown",
   "metadata": {},
   "source": [
    "### 2.认识绘制连续变量直方图的函数"
   ]
  },
  {
   "cell_type": "markdown",
   "metadata": {},
   "source": [
    "**plt.hist**    \n",
    "\n",
    "重要参数：    \n",
    ">'x':绘图数据     \n",
    ">'bins=None'：控制直方图的分组数（即条形的个数）   \n",
    ">'range=None'：直方图横坐标的范围     \n",
    ">'density=None'：如果设定True,则纵坐标表示为概率密度的值    \n",
    ">'weights=None'：设定每个数据的权重，长度与x相同    \n",
    ">'cumulative=False'：如果设定为True，则直方图累积显示   \n",
    ">\"histtype='bar'\"：绘制直方图的类型,默认为'bar'        \n",
    ">> 'bar':传统的直方图   \n",
    ">> 'barstacked':堆叠直方图   \n",
    ">> 'step':默认未填充的线图   \n",
    ">> 'stepfilled':默认填充的线图    \n",
    "\n",
    ">\"align='mid'\"：直方图对齐方式，可选项{'left'，'mid'，'right'}   \n",
    ">\"orientation='vertical'\":控制直方图的方向，{'horizontal', 'vertical'}   \n",
    ">'color=None':直方图的颜色    \n",
    ">'label=None'：标签    \n",
    ">'stacked=False'：控制堆叠参数   \n",
    "\n",
    "返回结果：     \n",
    "> n：直方图纵坐标的值    \n",
    "> bins:直方图箱体    \n",
    "> patches：patches对象   "
   ]
  },
  {
   "cell_type": "code",
   "execution_count": 2,
   "metadata": {
    "collapsed": true,
    "jupyter": {
     "outputs_hidden": true
    }
   },
   "outputs": [
    {
     "data": {
      "text/plain": [
       "\u001b[1;31mSignature:\u001b[0m\n",
       "\u001b[0mplt\u001b[0m\u001b[1;33m.\u001b[0m\u001b[0mhist\u001b[0m\u001b[1;33m(\u001b[0m\u001b[1;33m\n",
       "\u001b[0m    \u001b[0mx\u001b[0m\u001b[1;33m,\u001b[0m\u001b[1;33m\n",
       "\u001b[0m    \u001b[0mbins\u001b[0m\u001b[1;33m=\u001b[0m\u001b[1;32mNone\u001b[0m\u001b[1;33m,\u001b[0m\u001b[1;33m\n",
       "\u001b[0m    \u001b[0mrange\u001b[0m\u001b[1;33m=\u001b[0m\u001b[1;32mNone\u001b[0m\u001b[1;33m,\u001b[0m\u001b[1;33m\n",
       "\u001b[0m    \u001b[0mdensity\u001b[0m\u001b[1;33m=\u001b[0m\u001b[1;32mFalse\u001b[0m\u001b[1;33m,\u001b[0m\u001b[1;33m\n",
       "\u001b[0m    \u001b[0mweights\u001b[0m\u001b[1;33m=\u001b[0m\u001b[1;32mNone\u001b[0m\u001b[1;33m,\u001b[0m\u001b[1;33m\n",
       "\u001b[0m    \u001b[0mcumulative\u001b[0m\u001b[1;33m=\u001b[0m\u001b[1;32mFalse\u001b[0m\u001b[1;33m,\u001b[0m\u001b[1;33m\n",
       "\u001b[0m    \u001b[0mbottom\u001b[0m\u001b[1;33m=\u001b[0m\u001b[1;32mNone\u001b[0m\u001b[1;33m,\u001b[0m\u001b[1;33m\n",
       "\u001b[0m    \u001b[0mhisttype\u001b[0m\u001b[1;33m=\u001b[0m\u001b[1;34m'bar'\u001b[0m\u001b[1;33m,\u001b[0m\u001b[1;33m\n",
       "\u001b[0m    \u001b[0malign\u001b[0m\u001b[1;33m=\u001b[0m\u001b[1;34m'mid'\u001b[0m\u001b[1;33m,\u001b[0m\u001b[1;33m\n",
       "\u001b[0m    \u001b[0morientation\u001b[0m\u001b[1;33m=\u001b[0m\u001b[1;34m'vertical'\u001b[0m\u001b[1;33m,\u001b[0m\u001b[1;33m\n",
       "\u001b[0m    \u001b[0mrwidth\u001b[0m\u001b[1;33m=\u001b[0m\u001b[1;32mNone\u001b[0m\u001b[1;33m,\u001b[0m\u001b[1;33m\n",
       "\u001b[0m    \u001b[0mlog\u001b[0m\u001b[1;33m=\u001b[0m\u001b[1;32mFalse\u001b[0m\u001b[1;33m,\u001b[0m\u001b[1;33m\n",
       "\u001b[0m    \u001b[0mcolor\u001b[0m\u001b[1;33m=\u001b[0m\u001b[1;32mNone\u001b[0m\u001b[1;33m,\u001b[0m\u001b[1;33m\n",
       "\u001b[0m    \u001b[0mlabel\u001b[0m\u001b[1;33m=\u001b[0m\u001b[1;32mNone\u001b[0m\u001b[1;33m,\u001b[0m\u001b[1;33m\n",
       "\u001b[0m    \u001b[0mstacked\u001b[0m\u001b[1;33m=\u001b[0m\u001b[1;32mFalse\u001b[0m\u001b[1;33m,\u001b[0m\u001b[1;33m\n",
       "\u001b[0m    \u001b[1;33m*\u001b[0m\u001b[1;33m,\u001b[0m\u001b[1;33m\n",
       "\u001b[0m    \u001b[0mdata\u001b[0m\u001b[1;33m=\u001b[0m\u001b[1;32mNone\u001b[0m\u001b[1;33m,\u001b[0m\u001b[1;33m\n",
       "\u001b[0m    \u001b[1;33m**\u001b[0m\u001b[0mkwargs\u001b[0m\u001b[1;33m,\u001b[0m\u001b[1;33m\n",
       "\u001b[0m\u001b[1;33m)\u001b[0m\u001b[1;33m\u001b[0m\u001b[1;33m\u001b[0m\u001b[0m\n",
       "\u001b[1;31mDocstring:\u001b[0m\n",
       "Plot a histogram.\n",
       "\n",
       "Compute and draw the histogram of *x*.  The return value is a tuple\n",
       "(*n*, *bins*, *patches*) or ([*n0*, *n1*, ...], *bins*, [*patches0*,\n",
       "*patches1*, ...]) if the input contains multiple data.  See the\n",
       "documentation of the *weights* parameter to draw a histogram of\n",
       "already-binned data.\n",
       "\n",
       "Multiple data can be provided via *x* as a list of datasets\n",
       "of potentially different length ([*x0*, *x1*, ...]), or as\n",
       "a 2-D ndarray in which each column is a dataset.  Note that\n",
       "the ndarray form is transposed relative to the list form.\n",
       "\n",
       "Masked arrays are not supported.\n",
       "\n",
       "The *bins*, *range*, *weights*, and *density* parameters behave as in\n",
       "`numpy.histogram`.\n",
       "\n",
       "Parameters\n",
       "----------\n",
       "x : (n,) array or sequence of (n,) arrays\n",
       "    Input values, this takes either a single array or a sequence of\n",
       "    arrays which are not required to be of the same length.\n",
       "\n",
       "bins : int or sequence or str, default: :rc:`hist.bins`\n",
       "    If *bins* is an integer, it defines the number of equal-width bins\n",
       "    in the range.\n",
       "\n",
       "    If *bins* is a sequence, it defines the bin edges, including the\n",
       "    left edge of the first bin and the right edge of the last bin;\n",
       "    in this case, bins may be unequally spaced.  All but the last\n",
       "    (righthand-most) bin is half-open.  In other words, if *bins* is::\n",
       "\n",
       "        [1, 2, 3, 4]\n",
       "\n",
       "    then the first bin is ``[1, 2)`` (including 1, but excluding 2) and\n",
       "    the second ``[2, 3)``.  The last bin, however, is ``[3, 4]``, which\n",
       "    *includes* 4.\n",
       "\n",
       "    If *bins* is a string, it is one of the binning strategies\n",
       "    supported by `numpy.histogram_bin_edges`: 'auto', 'fd', 'doane',\n",
       "    'scott', 'stone', 'rice', 'sturges', or 'sqrt'.\n",
       "\n",
       "range : tuple or None, default: None\n",
       "    The lower and upper range of the bins. Lower and upper outliers\n",
       "    are ignored. If not provided, *range* is ``(x.min(), x.max())``.\n",
       "    Range has no effect if *bins* is a sequence.\n",
       "\n",
       "    If *bins* is a sequence or *range* is specified, autoscaling\n",
       "    is based on the specified bin range instead of the\n",
       "    range of x.\n",
       "\n",
       "density : bool, default: False\n",
       "    If ``True``, draw and return a probability density: each bin\n",
       "    will display the bin's raw count divided by the total number of\n",
       "    counts *and the bin width*\n",
       "    (``density = counts / (sum(counts) * np.diff(bins))``),\n",
       "    so that the area under the histogram integrates to 1\n",
       "    (``np.sum(density * np.diff(bins)) == 1``).\n",
       "\n",
       "    If *stacked* is also ``True``, the sum of the histograms is\n",
       "    normalized to 1.\n",
       "\n",
       "weights : (n,) array-like or None, default: None\n",
       "    An array of weights, of the same shape as *x*.  Each value in\n",
       "    *x* only contributes its associated weight towards the bin count\n",
       "    (instead of 1).  If *density* is ``True``, the weights are\n",
       "    normalized, so that the integral of the density over the range\n",
       "    remains 1.\n",
       "\n",
       "    This parameter can be used to draw a histogram of data that has\n",
       "    already been binned, e.g. using `numpy.histogram` (by treating each\n",
       "    bin as a single point with a weight equal to its count) ::\n",
       "\n",
       "        counts, bins = np.histogram(data)\n",
       "        plt.hist(bins[:-1], bins, weights=counts)\n",
       "\n",
       "    (or you may alternatively use `~.bar()`).\n",
       "\n",
       "cumulative : bool or -1, default: False\n",
       "    If ``True``, then a histogram is computed where each bin gives the\n",
       "    counts in that bin plus all bins for smaller values. The last bin\n",
       "    gives the total number of datapoints.\n",
       "\n",
       "    If *density* is also ``True`` then the histogram is normalized such\n",
       "    that the last bin equals 1.\n",
       "\n",
       "    If *cumulative* is a number less than 0 (e.g., -1), the direction\n",
       "    of accumulation is reversed.  In this case, if *density* is also\n",
       "    ``True``, then the histogram is normalized such that the first bin\n",
       "    equals 1.\n",
       "\n",
       "bottom : array-like, scalar, or None, default: None\n",
       "    Location of the bottom of each bin, ie. bins are drawn from\n",
       "    ``bottom`` to ``bottom + hist(x, bins)`` If a scalar, the bottom\n",
       "    of each bin is shifted by the same amount. If an array, each bin\n",
       "    is shifted independently and the length of bottom must match the\n",
       "    number of bins. If None, defaults to 0.\n",
       "\n",
       "histtype : {'bar', 'barstacked', 'step', 'stepfilled'}, default: 'bar'\n",
       "    The type of histogram to draw.\n",
       "\n",
       "    - 'bar' is a traditional bar-type histogram.  If multiple data\n",
       "      are given the bars are arranged side by side.\n",
       "    - 'barstacked' is a bar-type histogram where multiple\n",
       "      data are stacked on top of each other.\n",
       "    - 'step' generates a lineplot that is by default unfilled.\n",
       "    - 'stepfilled' generates a lineplot that is by default filled.\n",
       "\n",
       "align : {'left', 'mid', 'right'}, default: 'mid'\n",
       "    The horizontal alignment of the histogram bars.\n",
       "\n",
       "    - 'left': bars are centered on the left bin edges.\n",
       "    - 'mid': bars are centered between the bin edges.\n",
       "    - 'right': bars are centered on the right bin edges.\n",
       "\n",
       "orientation : {'vertical', 'horizontal'}, default: 'vertical'\n",
       "    If 'horizontal', `~.Axes.barh` will be used for bar-type histograms\n",
       "    and the *bottom* kwarg will be the left edges.\n",
       "\n",
       "rwidth : float or None, default: None\n",
       "    The relative width of the bars as a fraction of the bin width.  If\n",
       "    ``None``, automatically compute the width.\n",
       "\n",
       "    Ignored if *histtype* is 'step' or 'stepfilled'.\n",
       "\n",
       "log : bool, default: False\n",
       "    If ``True``, the histogram axis will be set to a log scale. If\n",
       "    *log* is ``True`` and *x* is a 1D array, empty bins will be\n",
       "    filtered out and only the non-empty ``(n, bins, patches)``\n",
       "    will be returned.\n",
       "\n",
       "color : color or array-like of colors or None, default: None\n",
       "    Color or sequence of colors, one per dataset.  Default (``None``)\n",
       "    uses the standard line color sequence.\n",
       "\n",
       "label : str or None, default: None\n",
       "    String, or sequence of strings to match multiple datasets.  Bar\n",
       "    charts yield multiple patches per dataset, but only the first gets\n",
       "    the label, so that `~.Axes.legend` will work as expected.\n",
       "\n",
       "stacked : bool, default: False\n",
       "    If ``True``, multiple data are stacked on top of each other If\n",
       "    ``False`` multiple data are arranged side by side if histtype is\n",
       "    'bar' or on top of each other if histtype is 'step'\n",
       "\n",
       "Returns\n",
       "-------\n",
       "n : array or list of arrays\n",
       "    The values of the histogram bins. See *density* and *weights* for a\n",
       "    description of the possible semantics.  If input *x* is an array,\n",
       "    then this is an array of length *nbins*. If input is a sequence of\n",
       "    arrays ``[data1, data2, ...]``, then this is a list of arrays with\n",
       "    the values of the histograms for each of the arrays in the same\n",
       "    order.  The dtype of the array *n* (or of its element arrays) will\n",
       "    always be float even if no weighting or normalization is used.\n",
       "\n",
       "bins : array\n",
       "    The edges of the bins. Length nbins + 1 (nbins left edges and right\n",
       "    edge of last bin).  Always a single array even when multiple data\n",
       "    sets are passed in.\n",
       "\n",
       "patches : `.BarContainer` or list of a single `.Polygon` or list of such objects\n",
       "    Container of individual artists used to create the histogram\n",
       "    or list of such containers if there are multiple input datasets.\n",
       "\n",
       "Other Parameters\n",
       "----------------\n",
       "**kwargs\n",
       "    `~matplotlib.patches.Patch` properties\n",
       "\n",
       "See Also\n",
       "--------\n",
       "hist2d : 2D histograms\n",
       "\n",
       "Notes\n",
       "-----\n",
       "For large numbers of bins (>1000), 'step' and 'stepfilled' can be\n",
       "significantly faster than 'bar' and 'barstacked'.\n",
       "\n",
       ".. note::\n",
       "    In addition to the above described arguments, this function can take\n",
       "    a *data* keyword argument. If such a *data* argument is given,\n",
       "    the following arguments can also be string ``s``, which is\n",
       "    interpreted as ``data[s]`` (unless this raises an exception):\n",
       "    *x*, *weights*.\n",
       "\n",
       "    Objects passed as **data** must support item access (``data[s]``) and\n",
       "    membership test (``s in data``).\n",
       "\u001b[1;31mFile:\u001b[0m      c:\\anaconda\\lib\\site-packages\\matplotlib\\pyplot.py\n",
       "\u001b[1;31mType:\u001b[0m      function\n"
      ]
     },
     "metadata": {},
     "output_type": "display_data"
    }
   ],
   "source": [
    "plt.hist?"
   ]
  },
  {
   "cell_type": "markdown",
   "metadata": {},
   "source": [
    "### 3.导入绘图数据集"
   ]
  },
  {
   "cell_type": "code",
   "execution_count": 6,
   "metadata": {},
   "outputs": [],
   "source": [
    "df = pd.read_csv(\"‪D:\\Python_data_processing__Data_processing\\Juanjiang_And_Caicai_Visualization\\data\\mpg_ggplot2.csv\")"
   ]
  },
  {
   "cell_type": "code",
   "execution_count": 7,
   "metadata": {},
   "outputs": [
    {
     "data": {
      "text/html": [
       "<div>\n",
       "<style scoped>\n",
       "    .dataframe tbody tr th:only-of-type {\n",
       "        vertical-align: middle;\n",
       "    }\n",
       "\n",
       "    .dataframe tbody tr th {\n",
       "        vertical-align: top;\n",
       "    }\n",
       "\n",
       "    .dataframe thead th {\n",
       "        text-align: right;\n",
       "    }\n",
       "</style>\n",
       "<table border=\"1\" class=\"dataframe\">\n",
       "  <thead>\n",
       "    <tr style=\"text-align: right;\">\n",
       "      <th></th>\n",
       "      <th>manufacturer</th>\n",
       "      <th>model</th>\n",
       "      <th>displ</th>\n",
       "      <th>year</th>\n",
       "      <th>cyl</th>\n",
       "      <th>trans</th>\n",
       "      <th>drv</th>\n",
       "      <th>cty</th>\n",
       "      <th>hwy</th>\n",
       "      <th>fl</th>\n",
       "      <th>class</th>\n",
       "    </tr>\n",
       "  </thead>\n",
       "  <tbody>\n",
       "    <tr>\n",
       "      <th>0</th>\n",
       "      <td>audi</td>\n",
       "      <td>a4</td>\n",
       "      <td>1.8</td>\n",
       "      <td>1999</td>\n",
       "      <td>4</td>\n",
       "      <td>auto(l5)</td>\n",
       "      <td>f</td>\n",
       "      <td>18</td>\n",
       "      <td>29</td>\n",
       "      <td>p</td>\n",
       "      <td>compact</td>\n",
       "    </tr>\n",
       "    <tr>\n",
       "      <th>1</th>\n",
       "      <td>audi</td>\n",
       "      <td>a4</td>\n",
       "      <td>1.8</td>\n",
       "      <td>1999</td>\n",
       "      <td>4</td>\n",
       "      <td>manual(m5)</td>\n",
       "      <td>f</td>\n",
       "      <td>21</td>\n",
       "      <td>29</td>\n",
       "      <td>p</td>\n",
       "      <td>compact</td>\n",
       "    </tr>\n",
       "    <tr>\n",
       "      <th>2</th>\n",
       "      <td>audi</td>\n",
       "      <td>a4</td>\n",
       "      <td>2.0</td>\n",
       "      <td>2008</td>\n",
       "      <td>4</td>\n",
       "      <td>manual(m6)</td>\n",
       "      <td>f</td>\n",
       "      <td>20</td>\n",
       "      <td>31</td>\n",
       "      <td>p</td>\n",
       "      <td>compact</td>\n",
       "    </tr>\n",
       "    <tr>\n",
       "      <th>3</th>\n",
       "      <td>audi</td>\n",
       "      <td>a4</td>\n",
       "      <td>2.0</td>\n",
       "      <td>2008</td>\n",
       "      <td>4</td>\n",
       "      <td>auto(av)</td>\n",
       "      <td>f</td>\n",
       "      <td>21</td>\n",
       "      <td>30</td>\n",
       "      <td>p</td>\n",
       "      <td>compact</td>\n",
       "    </tr>\n",
       "    <tr>\n",
       "      <th>4</th>\n",
       "      <td>audi</td>\n",
       "      <td>a4</td>\n",
       "      <td>2.8</td>\n",
       "      <td>1999</td>\n",
       "      <td>6</td>\n",
       "      <td>auto(l5)</td>\n",
       "      <td>f</td>\n",
       "      <td>16</td>\n",
       "      <td>26</td>\n",
       "      <td>p</td>\n",
       "      <td>compact</td>\n",
       "    </tr>\n",
       "  </tbody>\n",
       "</table>\n",
       "</div>"
      ],
      "text/plain": [
       "  manufacturer model  displ  year  cyl       trans drv  cty  hwy fl    class\n",
       "0         audi    a4    1.8  1999    4    auto(l5)   f   18   29  p  compact\n",
       "1         audi    a4    1.8  1999    4  manual(m5)   f   21   29  p  compact\n",
       "2         audi    a4    2.0  2008    4  manual(m6)   f   20   31  p  compact\n",
       "3         audi    a4    2.0  2008    4    auto(av)   f   21   30  p  compact\n",
       "4         audi    a4    2.8  1999    6    auto(l5)   f   16   26  p  compact"
      ]
     },
     "execution_count": 7,
     "metadata": {},
     "output_type": "execute_result"
    }
   ],
   "source": [
    "df.head()"
   ]
  },
  {
   "cell_type": "code",
   "execution_count": 8,
   "metadata": {},
   "outputs": [
    {
     "data": {
      "text/plain": [
       "(234, 11)"
      ]
     },
     "execution_count": 8,
     "metadata": {},
     "output_type": "execute_result"
    }
   ],
   "source": [
    "df.shape"
   ]
  },
  {
   "cell_type": "code",
   "execution_count": 9,
   "metadata": {},
   "outputs": [],
   "source": [
    "name = [\"汽车制造商\",\"型号名称\",\"发动机排量(L)\",\"制造年份\",\"气缸数量\",\"手动/自动\"\n",
    "              ,\"驱动类型\",\"城市里程/加仑\",\"公路里程/加仑\",\"汽油种类\",\"车辆类型\"]"
   ]
  },
  {
   "cell_type": "code",
   "execution_count": 10,
   "metadata": {},
   "outputs": [
    {
     "data": {
      "text/plain": [
       "[('manufacturer', '汽车制造商'),\n",
       " ('model', '型号名称'),\n",
       " ('displ', '发动机排量(L)'),\n",
       " ('year', '制造年份'),\n",
       " ('cyl', '气缸数量'),\n",
       " ('trans', '手动/自动'),\n",
       " ('drv', '驱动类型'),\n",
       " ('cty', '城市里程/加仑'),\n",
       " ('hwy', '公路里程/加仑'),\n",
       " ('fl', '汽油种类'),\n",
       " ('class', '车辆类型')]"
      ]
     },
     "execution_count": 10,
     "metadata": {},
     "output_type": "execute_result"
    }
   ],
   "source": [
    "[*zip(df.columns,name)]"
   ]
  },
  {
   "cell_type": "markdown",
   "metadata": {},
   "source": [
    "**绘制简单的直方图**"
   ]
  },
  {
   "cell_type": "code",
   "execution_count": 13,
   "metadata": {},
   "outputs": [
    {
     "data": {
      "text/plain": [
       "(array([82., 55., 59., 32.,  6.]),\n",
       " array([1.6 , 2.68, 3.76, 4.84, 5.92, 7.  ]),\n",
       " <BarContainer object of 5 artists>)"
      ]
     },
     "execution_count": 13,
     "metadata": {},
     "output_type": "execute_result"
    },
    {
     "data": {
      "image/png": "[encoded data removed]",
      "text/plain": [
       "<Figure size 432x288 with 1 Axes>"
      ]
     },
     "metadata": {
      "needs_background": "light"
     },
     "output_type": "display_data"
    }
   ],
   "source": [
    "plt.hist(df.displ\n",
    "         ,bins=5\n",
    "         #,range=(df.displ.min(),df.displ.max()) #改变横坐标的范围\n",
    "         #,range=(2,5)\n",
    "         #,density=True   #将纵坐标变成密度概率\n",
    "         #,cumulative=True\n",
    "         #,histtype='stepfilled'  #可选项：'bar'/'barstacked'/'step'/'stepfilled'\n",
    "         #,align='left'       #可选项：'mid'/'left'/'right'\n",
    "         #,orientation='horizontal' #可选项:'horizontal'/'vertical'\n",
    "         #,stacked=True #堆叠\n",
    "        )"
   ]
  },
  {
   "cell_type": "markdown",
   "metadata": {},
   "source": [
    "### 4.绘制连续变量直方图"
   ]
  },
  {
   "cell_type": "markdown",
   "metadata": {},
   "source": [
    "根据目标图形可以看出，横坐标需要的是特征displ，还需要将class进行分组求和，得到每一种类车的数量"
   ]
  },
  {
   "cell_type": "code",
   "execution_count": 14,
   "metadata": {},
   "outputs": [
    {
     "data": {
      "text/html": [
       "<div>\n",
       "<style scoped>\n",
       "    .dataframe tbody tr th:only-of-type {\n",
       "        vertical-align: middle;\n",
       "    }\n",
       "\n",
       "    .dataframe tbody tr th {\n",
       "        vertical-align: top;\n",
       "    }\n",
       "\n",
       "    .dataframe thead th {\n",
       "        text-align: right;\n",
       "    }\n",
       "</style>\n",
       "<table border=\"1\" class=\"dataframe\">\n",
       "  <thead>\n",
       "    <tr style=\"text-align: right;\">\n",
       "      <th></th>\n",
       "      <th>displ</th>\n",
       "      <th>class</th>\n",
       "    </tr>\n",
       "  </thead>\n",
       "  <tbody>\n",
       "    <tr>\n",
       "      <th>0</th>\n",
       "      <td>1.8</td>\n",
       "      <td>compact</td>\n",
       "    </tr>\n",
       "    <tr>\n",
       "      <th>1</th>\n",
       "      <td>1.8</td>\n",
       "      <td>compact</td>\n",
       "    </tr>\n",
       "    <tr>\n",
       "      <th>2</th>\n",
       "      <td>2.0</td>\n",
       "      <td>compact</td>\n",
       "    </tr>\n",
       "    <tr>\n",
       "      <th>3</th>\n",
       "      <td>2.0</td>\n",
       "      <td>compact</td>\n",
       "    </tr>\n",
       "    <tr>\n",
       "      <th>4</th>\n",
       "      <td>2.8</td>\n",
       "      <td>compact</td>\n",
       "    </tr>\n",
       "    <tr>\n",
       "      <th>...</th>\n",
       "      <td>...</td>\n",
       "      <td>...</td>\n",
       "    </tr>\n",
       "    <tr>\n",
       "      <th>229</th>\n",
       "      <td>2.0</td>\n",
       "      <td>midsize</td>\n",
       "    </tr>\n",
       "    <tr>\n",
       "      <th>230</th>\n",
       "      <td>2.0</td>\n",
       "      <td>midsize</td>\n",
       "    </tr>\n",
       "    <tr>\n",
       "      <th>231</th>\n",
       "      <td>2.8</td>\n",
       "      <td>midsize</td>\n",
       "    </tr>\n",
       "    <tr>\n",
       "      <th>232</th>\n",
       "      <td>2.8</td>\n",
       "      <td>midsize</td>\n",
       "    </tr>\n",
       "    <tr>\n",
       "      <th>233</th>\n",
       "      <td>3.6</td>\n",
       "      <td>midsize</td>\n",
       "    </tr>\n",
       "  </tbody>\n",
       "</table>\n",
       "<p>234 rows × 2 columns</p>\n",
       "</div>"
      ],
      "text/plain": [
       "     displ    class\n",
       "0      1.8  compact\n",
       "1      1.8  compact\n",
       "2      2.0  compact\n",
       "3      2.0  compact\n",
       "4      2.8  compact\n",
       "..     ...      ...\n",
       "229    2.0  midsize\n",
       "230    2.0  midsize\n",
       "231    2.8  midsize\n",
       "232    2.8  midsize\n",
       "233    3.6  midsize\n",
       "\n",
       "[234 rows x 2 columns]"
      ]
     },
     "execution_count": 14,
     "metadata": {},
     "output_type": "execute_result"
    }
   ],
   "source": [
    "df.loc[:,['displ','class']]"
   ]
  },
  {
   "cell_type": "code",
   "execution_count": 15,
   "metadata": {},
   "outputs": [],
   "source": [
    "#数据处理\n",
    "df_agg = df.loc[:,['displ','class']].groupby('class')"
   ]
  },
  {
   "cell_type": "code",
   "execution_count": 16,
   "metadata": {},
   "outputs": [
    {
     "data": {
      "text/plain": [
       "<pandas.core.groupby.generic.DataFrameGroupBy object at 0x000002606BEB1430>"
      ]
     },
     "execution_count": 16,
     "metadata": {},
     "output_type": "execute_result"
    }
   ],
   "source": [
    "df_agg"
   ]
  },
  {
   "cell_type": "code",
   "execution_count": 22,
   "metadata": {},
   "outputs": [
    {
     "data": {
      "text/html": [
       "<div>\n",
       "<style scoped>\n",
       "    .dataframe tbody tr th:only-of-type {\n",
       "        vertical-align: middle;\n",
       "    }\n",
       "\n",
       "    .dataframe tbody tr th {\n",
       "        vertical-align: top;\n",
       "    }\n",
       "\n",
       "    .dataframe thead th {\n",
       "        text-align: right;\n",
       "    }\n",
       "</style>\n",
       "<table border=\"1\" class=\"dataframe\">\n",
       "  <thead>\n",
       "    <tr style=\"text-align: right;\">\n",
       "      <th></th>\n",
       "      <th>manufacturer</th>\n",
       "      <th>model</th>\n",
       "      <th>displ</th>\n",
       "      <th>year</th>\n",
       "      <th>cyl</th>\n",
       "      <th>trans</th>\n",
       "      <th>drv</th>\n",
       "      <th>cty</th>\n",
       "      <th>hwy</th>\n",
       "      <th>fl</th>\n",
       "      <th>class</th>\n",
       "    </tr>\n",
       "  </thead>\n",
       "  <tbody>\n",
       "    <tr>\n",
       "      <th>0</th>\n",
       "      <td>audi</td>\n",
       "      <td>a4</td>\n",
       "      <td>1.8</td>\n",
       "      <td>1999</td>\n",
       "      <td>4</td>\n",
       "      <td>auto(l5)</td>\n",
       "      <td>f</td>\n",
       "      <td>18</td>\n",
       "      <td>29</td>\n",
       "      <td>p</td>\n",
       "      <td>compact</td>\n",
       "    </tr>\n",
       "    <tr>\n",
       "      <th>1</th>\n",
       "      <td>audi</td>\n",
       "      <td>a4</td>\n",
       "      <td>1.8</td>\n",
       "      <td>1999</td>\n",
       "      <td>4</td>\n",
       "      <td>manual(m5)</td>\n",
       "      <td>f</td>\n",
       "      <td>21</td>\n",
       "      <td>29</td>\n",
       "      <td>p</td>\n",
       "      <td>compact</td>\n",
       "    </tr>\n",
       "    <tr>\n",
       "      <th>2</th>\n",
       "      <td>audi</td>\n",
       "      <td>a4</td>\n",
       "      <td>2.0</td>\n",
       "      <td>2008</td>\n",
       "      <td>4</td>\n",
       "      <td>manual(m6)</td>\n",
       "      <td>f</td>\n",
       "      <td>20</td>\n",
       "      <td>31</td>\n",
       "      <td>p</td>\n",
       "      <td>compact</td>\n",
       "    </tr>\n",
       "    <tr>\n",
       "      <th>3</th>\n",
       "      <td>audi</td>\n",
       "      <td>a4</td>\n",
       "      <td>2.0</td>\n",
       "      <td>2008</td>\n",
       "      <td>4</td>\n",
       "      <td>auto(av)</td>\n",
       "      <td>f</td>\n",
       "      <td>21</td>\n",
       "      <td>30</td>\n",
       "      <td>p</td>\n",
       "      <td>compact</td>\n",
       "    </tr>\n",
       "    <tr>\n",
       "      <th>4</th>\n",
       "      <td>audi</td>\n",
       "      <td>a4</td>\n",
       "      <td>2.8</td>\n",
       "      <td>1999</td>\n",
       "      <td>6</td>\n",
       "      <td>auto(l5)</td>\n",
       "      <td>f</td>\n",
       "      <td>16</td>\n",
       "      <td>26</td>\n",
       "      <td>p</td>\n",
       "      <td>compact</td>\n",
       "    </tr>\n",
       "    <tr>\n",
       "      <th>...</th>\n",
       "      <td>...</td>\n",
       "      <td>...</td>\n",
       "      <td>...</td>\n",
       "      <td>...</td>\n",
       "      <td>...</td>\n",
       "      <td>...</td>\n",
       "      <td>...</td>\n",
       "      <td>...</td>\n",
       "      <td>...</td>\n",
       "      <td>...</td>\n",
       "      <td>...</td>\n",
       "    </tr>\n",
       "    <tr>\n",
       "      <th>229</th>\n",
       "      <td>volkswagen</td>\n",
       "      <td>passat</td>\n",
       "      <td>2.0</td>\n",
       "      <td>2008</td>\n",
       "      <td>4</td>\n",
       "      <td>auto(s6)</td>\n",
       "      <td>f</td>\n",
       "      <td>19</td>\n",
       "      <td>28</td>\n",
       "      <td>p</td>\n",
       "      <td>midsize</td>\n",
       "    </tr>\n",
       "    <tr>\n",
       "      <th>230</th>\n",
       "      <td>volkswagen</td>\n",
       "      <td>passat</td>\n",
       "      <td>2.0</td>\n",
       "      <td>2008</td>\n",
       "      <td>4</td>\n",
       "      <td>manual(m6)</td>\n",
       "      <td>f</td>\n",
       "      <td>21</td>\n",
       "      <td>29</td>\n",
       "      <td>p</td>\n",
       "      <td>midsize</td>\n",
       "    </tr>\n",
       "    <tr>\n",
       "      <th>231</th>\n",
       "      <td>volkswagen</td>\n",
       "      <td>passat</td>\n",
       "      <td>2.8</td>\n",
       "      <td>1999</td>\n",
       "      <td>6</td>\n",
       "      <td>auto(l5)</td>\n",
       "      <td>f</td>\n",
       "      <td>16</td>\n",
       "      <td>26</td>\n",
       "      <td>p</td>\n",
       "      <td>midsize</td>\n",
       "    </tr>\n",
       "    <tr>\n",
       "      <th>232</th>\n",
       "      <td>volkswagen</td>\n",
       "      <td>passat</td>\n",
       "      <td>2.8</td>\n",
       "      <td>1999</td>\n",
       "      <td>6</td>\n",
       "      <td>manual(m5)</td>\n",
       "      <td>f</td>\n",
       "      <td>18</td>\n",
       "      <td>26</td>\n",
       "      <td>p</td>\n",
       "      <td>midsize</td>\n",
       "    </tr>\n",
       "    <tr>\n",
       "      <th>233</th>\n",
       "      <td>volkswagen</td>\n",
       "      <td>passat</td>\n",
       "      <td>3.6</td>\n",
       "      <td>2008</td>\n",
       "      <td>6</td>\n",
       "      <td>auto(s6)</td>\n",
       "      <td>f</td>\n",
       "      <td>17</td>\n",
       "      <td>26</td>\n",
       "      <td>p</td>\n",
       "      <td>midsize</td>\n",
       "    </tr>\n",
       "  </tbody>\n",
       "</table>\n",
       "<p>234 rows × 11 columns</p>\n",
       "</div>"
      ],
      "text/plain": [
       "    manufacturer   model  displ  year  cyl       trans drv  cty  hwy fl  \\\n",
       "0           audi      a4    1.8  1999    4    auto(l5)   f   18   29  p   \n",
       "1           audi      a4    1.8  1999    4  manual(m5)   f   21   29  p   \n",
       "2           audi      a4    2.0  2008    4  manual(m6)   f   20   31  p   \n",
       "3           audi      a4    2.0  2008    4    auto(av)   f   21   30  p   \n",
       "4           audi      a4    2.8  1999    6    auto(l5)   f   16   26  p   \n",
       "..           ...     ...    ...   ...  ...         ...  ..  ...  ... ..   \n",
       "229   volkswagen  passat    2.0  2008    4    auto(s6)   f   19   28  p   \n",
       "230   volkswagen  passat    2.0  2008    4  manual(m6)   f   21   29  p   \n",
       "231   volkswagen  passat    2.8  1999    6    auto(l5)   f   16   26  p   \n",
       "232   volkswagen  passat    2.8  1999    6  manual(m5)   f   18   26  p   \n",
       "233   volkswagen  passat    3.6  2008    6    auto(s6)   f   17   26  p   \n",
       "\n",
       "       class  \n",
       "0    compact  \n",
       "1    compact  \n",
       "2    compact  \n",
       "3    compact  \n",
       "4    compact  \n",
       "..       ...  \n",
       "229  midsize  \n",
       "230  midsize  \n",
       "231  midsize  \n",
       "232  midsize  \n",
       "233  midsize  \n",
       "\n",
       "[234 rows x 11 columns]"
      ]
     },
     "execution_count": 22,
     "metadata": {},
     "output_type": "execute_result"
    }
   ],
   "source": [
    "df"
   ]
  },
  {
   "cell_type": "code",
   "execution_count": 23,
   "metadata": {
    "collapsed": true,
    "jupyter": {
     "outputs_hidden": true
    }
   },
   "outputs": [
    {
     "name": "stdout",
     "output_type": "stream",
     "text": [
      "2seater     displ    class\n",
      "23    5.7  2seater\n",
      "24    5.7  2seater\n",
      "25    6.2  2seater\n",
      "26    6.2  2seater\n",
      "27    7.0  2seater\n",
      "compact      displ    class\n",
      "0      1.8  compact\n",
      "1      1.8  compact\n",
      "2      2.0  compact\n",
      "3      2.0  compact\n",
      "4      2.8  compact\n",
      "5      2.8  compact\n",
      "6      3.1  compact\n",
      "7      1.8  compact\n",
      "8      1.8  compact\n",
      "9      2.0  compact\n",
      "10     2.0  compact\n",
      "11     2.8  compact\n",
      "12     2.8  compact\n",
      "13     3.1  compact\n",
      "14     3.1  compact\n",
      "141    2.4  compact\n",
      "142    2.4  compact\n",
      "169    2.5  compact\n",
      "170    2.5  compact\n",
      "171    2.5  compact\n",
      "172    2.5  compact\n",
      "186    2.2  compact\n",
      "187    2.2  compact\n",
      "188    2.4  compact\n",
      "189    2.4  compact\n",
      "190    3.0  compact\n",
      "191    3.0  compact\n",
      "192    3.3  compact\n",
      "193    1.8  compact\n",
      "194    1.8  compact\n",
      "195    1.8  compact\n",
      "196    1.8  compact\n",
      "197    1.8  compact\n",
      "207    2.0  compact\n",
      "208    2.0  compact\n",
      "209    2.0  compact\n",
      "210    2.0  compact\n",
      "211    2.8  compact\n",
      "212    1.9  compact\n",
      "213    2.0  compact\n",
      "214    2.0  compact\n",
      "215    2.0  compact\n",
      "216    2.0  compact\n",
      "217    2.5  compact\n",
      "218    2.5  compact\n",
      "219    2.8  compact\n",
      "220    2.8  compact\n",
      "midsize      displ    class\n",
      "15     2.8  midsize\n",
      "16     3.1  midsize\n",
      "17     4.2  midsize\n",
      "32     2.4  midsize\n",
      "33     2.4  midsize\n",
      "34     3.1  midsize\n",
      "35     3.5  midsize\n",
      "36     3.6  midsize\n",
      "108    2.4  midsize\n",
      "109    2.4  midsize\n",
      "110    2.4  midsize\n",
      "111    2.4  midsize\n",
      "112    2.5  midsize\n",
      "113    2.5  midsize\n",
      "114    3.3  midsize\n",
      "143    2.5  midsize\n",
      "144    2.5  midsize\n",
      "145    3.5  midsize\n",
      "146    3.5  midsize\n",
      "147    3.0  midsize\n",
      "148    3.0  midsize\n",
      "149    3.5  midsize\n",
      "154    3.1  midsize\n",
      "155    3.8  midsize\n",
      "156    3.8  midsize\n",
      "157    3.8  midsize\n",
      "158    5.3  midsize\n",
      "179    2.2  midsize\n",
      "180    2.2  midsize\n",
      "181    2.4  midsize\n",
      "182    2.4  midsize\n",
      "183    3.0  midsize\n",
      "184    3.0  midsize\n",
      "185    3.5  midsize\n",
      "227    1.8  midsize\n",
      "228    1.8  midsize\n",
      "229    2.0  midsize\n",
      "230    2.0  midsize\n",
      "231    2.8  midsize\n",
      "232    2.8  midsize\n",
      "233    3.6  midsize\n",
      "minivan     displ    class\n",
      "37    2.4  minivan\n",
      "38    3.0  minivan\n",
      "39    3.3  minivan\n",
      "40    3.3  minivan\n",
      "41    3.3  minivan\n",
      "42    3.3  minivan\n",
      "43    3.3  minivan\n",
      "44    3.8  minivan\n",
      "45    3.8  minivan\n",
      "46    3.8  minivan\n",
      "47    4.0  minivan\n",
      "pickup      displ   class\n",
      "48     3.7  pickup\n",
      "49     3.7  pickup\n",
      "50     3.9  pickup\n",
      "51     3.9  pickup\n",
      "52     4.7  pickup\n",
      "53     4.7  pickup\n",
      "54     4.7  pickup\n",
      "55     5.2  pickup\n",
      "56     5.2  pickup\n",
      "64     4.7  pickup\n",
      "65     4.7  pickup\n",
      "66     4.7  pickup\n",
      "67     4.7  pickup\n",
      "68     4.7  pickup\n",
      "69     4.7  pickup\n",
      "70     5.2  pickup\n",
      "71     5.2  pickup\n",
      "72     5.7  pickup\n",
      "73     5.9  pickup\n",
      "83     4.2  pickup\n",
      "84     4.2  pickup\n",
      "85     4.6  pickup\n",
      "86     4.6  pickup\n",
      "87     4.6  pickup\n",
      "88     5.4  pickup\n",
      "89     5.4  pickup\n",
      "200    2.7  pickup\n",
      "201    2.7  pickup\n",
      "202    2.7  pickup\n",
      "203    3.4  pickup\n",
      "204    3.4  pickup\n",
      "205    4.0  pickup\n",
      "206    4.0  pickup\n",
      "subcompact      displ       class\n",
      "90     3.8  subcompact\n",
      "91     3.8  subcompact\n",
      "92     4.0  subcompact\n",
      "93     4.0  subcompact\n",
      "94     4.6  subcompact\n",
      "95     4.6  subcompact\n",
      "96     4.6  subcompact\n",
      "97     4.6  subcompact\n",
      "98     5.4  subcompact\n",
      "99     1.6  subcompact\n",
      "100    1.6  subcompact\n",
      "101    1.6  subcompact\n",
      "102    1.6  subcompact\n",
      "103    1.6  subcompact\n",
      "104    1.8  subcompact\n",
      "105    1.8  subcompact\n",
      "106    1.8  subcompact\n",
      "107    2.0  subcompact\n",
      "115    2.0  subcompact\n",
      "116    2.0  subcompact\n",
      "117    2.0  subcompact\n",
      "118    2.0  subcompact\n",
      "119    2.7  subcompact\n",
      "120    2.7  subcompact\n",
      "121    2.7  subcompact\n",
      "165    2.2  subcompact\n",
      "166    2.2  subcompact\n",
      "167    2.5  subcompact\n",
      "168    2.5  subcompact\n",
      "221    1.9  subcompact\n",
      "222    1.9  subcompact\n",
      "223    2.0  subcompact\n",
      "224    2.0  subcompact\n",
      "225    2.5  subcompact\n",
      "226    2.5  subcompact\n",
      "suv      displ class\n",
      "18     5.3   suv\n",
      "19     5.3   suv\n",
      "20     5.3   suv\n",
      "21     5.7   suv\n",
      "22     6.0   suv\n",
      "..     ...   ...\n",
      "176    3.4   suv\n",
      "177    4.0   suv\n",
      "178    4.7   suv\n",
      "198    4.7   suv\n",
      "199    5.7   suv\n",
      "\n",
      "[62 rows x 2 columns]\n"
     ]
    }
   ],
   "source": [
    "for i,df0 in df_agg:\n",
    "    print(i,df0)"
   ]
  },
  {
   "cell_type": "code",
   "execution_count": 18,
   "metadata": {},
   "outputs": [
    {
     "data": {
      "text/plain": [
       "[5.3,\n",
       " 5.3,\n",
       " 5.3,\n",
       " 5.7,\n",
       " 6.0,\n",
       " 5.3,\n",
       " 5.3,\n",
       " 5.7,\n",
       " 6.5,\n",
       " 3.9,\n",
       " 4.7,\n",
       " 4.7,\n",
       " 4.7,\n",
       " 5.2,\n",
       " 5.7,\n",
       " 5.9,\n",
       " 4.6,\n",
       " 5.4,\n",
       " 5.4,\n",
       " 4.0,\n",
       " 4.0,\n",
       " 4.0,\n",
       " 4.0,\n",
       " 4.6,\n",
       " 5.0,\n",
       " 3.0,\n",
       " 3.7,\n",
       " 4.0,\n",
       " 4.7,\n",
       " 4.7,\n",
       " 4.7,\n",
       " 5.7,\n",
       " 6.1,\n",
       " 4.0,\n",
       " 4.2,\n",
       " 4.4,\n",
       " 4.6,\n",
       " 5.4,\n",
       " 5.4,\n",
       " 5.4,\n",
       " 4.0,\n",
       " 4.0,\n",
       " 4.6,\n",
       " 5.0,\n",
       " 3.3,\n",
       " 3.3,\n",
       " 4.0,\n",
       " 5.6,\n",
       " 2.5,\n",
       " 2.5,\n",
       " 2.5,\n",
       " 2.5,\n",
       " 2.5,\n",
       " 2.5,\n",
       " 2.7,\n",
       " 2.7,\n",
       " 3.4,\n",
       " 3.4,\n",
       " 4.0,\n",
       " 4.7,\n",
       " 4.7,\n",
       " 5.7]"
      ]
     },
     "execution_count": 18,
     "metadata": {},
     "output_type": "execute_result"
    }
   ],
   "source": [
    "df0['displ'].values.tolist()"
   ]
  },
  {
   "cell_type": "code",
   "execution_count": 19,
   "metadata": {},
   "outputs": [],
   "source": [
    "#提取出每一款车型的发动机排量\n",
    "vals = [df0['displ'].values.tolist() for i,df0 in df_agg]"
   ]
  },
  {
   "cell_type": "code",
   "execution_count": 20,
   "metadata": {
    "collapsed": true,
    "jupyter": {
     "outputs_hidden": true
    }
   },
   "outputs": [
    {
     "data": {
      "text/plain": [
       "[[5.7, 5.7, 6.2, 6.2, 7.0],\n",
       " [1.8,\n",
       "  1.8,\n",
       "  2.0,\n",
       "  2.0,\n",
       "  2.8,\n",
       "  2.8,\n",
       "  3.1,\n",
       "  1.8,\n",
       "  1.8,\n",
       "  2.0,\n",
       "  2.0,\n",
       "  2.8,\n",
       "  2.8,\n",
       "  3.1,\n",
       "  3.1,\n",
       "  2.4,\n",
       "  2.4,\n",
       "  2.5,\n",
       "  2.5,\n",
       "  2.5,\n",
       "  2.5,\n",
       "  2.2,\n",
       "  2.2,\n",
       "  2.4,\n",
       "  2.4,\n",
       "  3.0,\n",
       "  3.0,\n",
       "  3.3,\n",
       "  1.8,\n",
       "  1.8,\n",
       "  1.8,\n",
       "  1.8,\n",
       "  1.8,\n",
       "  2.0,\n",
       "  2.0,\n",
       "  2.0,\n",
       "  2.0,\n",
       "  2.8,\n",
       "  1.9,\n",
       "  2.0,\n",
       "  2.0,\n",
       "  2.0,\n",
       "  2.0,\n",
       "  2.5,\n",
       "  2.5,\n",
       "  2.8,\n",
       "  2.8],\n",
       " [2.8,\n",
       "  3.1,\n",
       "  4.2,\n",
       "  2.4,\n",
       "  2.4,\n",
       "  3.1,\n",
       "  3.5,\n",
       "  3.6,\n",
       "  2.4,\n",
       "  2.4,\n",
       "  2.4,\n",
       "  2.4,\n",
       "  2.5,\n",
       "  2.5,\n",
       "  3.3,\n",
       "  2.5,\n",
       "  2.5,\n",
       "  3.5,\n",
       "  3.5,\n",
       "  3.0,\n",
       "  3.0,\n",
       "  3.5,\n",
       "  3.1,\n",
       "  3.8,\n",
       "  3.8,\n",
       "  3.8,\n",
       "  5.3,\n",
       "  2.2,\n",
       "  2.2,\n",
       "  2.4,\n",
       "  2.4,\n",
       "  3.0,\n",
       "  3.0,\n",
       "  3.5,\n",
       "  1.8,\n",
       "  1.8,\n",
       "  2.0,\n",
       "  2.0,\n",
       "  2.8,\n",
       "  2.8,\n",
       "  3.6],\n",
       " [2.4, 3.0, 3.3, 3.3, 3.3, 3.3, 3.3, 3.8, 3.8, 3.8, 4.0],\n",
       " [3.7,\n",
       "  3.7,\n",
       "  3.9,\n",
       "  3.9,\n",
       "  4.7,\n",
       "  4.7,\n",
       "  4.7,\n",
       "  5.2,\n",
       "  5.2,\n",
       "  4.7,\n",
       "  4.7,\n",
       "  4.7,\n",
       "  4.7,\n",
       "  4.7,\n",
       "  4.7,\n",
       "  5.2,\n",
       "  5.2,\n",
       "  5.7,\n",
       "  5.9,\n",
       "  4.2,\n",
       "  4.2,\n",
       "  4.6,\n",
       "  4.6,\n",
       "  4.6,\n",
       "  5.4,\n",
       "  5.4,\n",
       "  2.7,\n",
       "  2.7,\n",
       "  2.7,\n",
       "  3.4,\n",
       "  3.4,\n",
       "  4.0,\n",
       "  4.0],\n",
       " [3.8,\n",
       "  3.8,\n",
       "  4.0,\n",
       "  4.0,\n",
       "  4.6,\n",
       "  4.6,\n",
       "  4.6,\n",
       "  4.6,\n",
       "  5.4,\n",
       "  1.6,\n",
       "  1.6,\n",
       "  1.6,\n",
       "  1.6,\n",
       "  1.6,\n",
       "  1.8,\n",
       "  1.8,\n",
       "  1.8,\n",
       "  2.0,\n",
       "  2.0,\n",
       "  2.0,\n",
       "  2.0,\n",
       "  2.0,\n",
       "  2.7,\n",
       "  2.7,\n",
       "  2.7,\n",
       "  2.2,\n",
       "  2.2,\n",
       "  2.5,\n",
       "  2.5,\n",
       "  1.9,\n",
       "  1.9,\n",
       "  2.0,\n",
       "  2.0,\n",
       "  2.5,\n",
       "  2.5],\n",
       " [5.3,\n",
       "  5.3,\n",
       "  5.3,\n",
       "  5.7,\n",
       "  6.0,\n",
       "  5.3,\n",
       "  5.3,\n",
       "  5.7,\n",
       "  6.5,\n",
       "  3.9,\n",
       "  4.7,\n",
       "  4.7,\n",
       "  4.7,\n",
       "  5.2,\n",
       "  5.7,\n",
       "  5.9,\n",
       "  4.6,\n",
       "  5.4,\n",
       "  5.4,\n",
       "  4.0,\n",
       "  4.0,\n",
       "  4.0,\n",
       "  4.0,\n",
       "  4.6,\n",
       "  5.0,\n",
       "  3.0,\n",
       "  3.7,\n",
       "  4.0,\n",
       "  4.7,\n",
       "  4.7,\n",
       "  4.7,\n",
       "  5.7,\n",
       "  6.1,\n",
       "  4.0,\n",
       "  4.2,\n",
       "  4.4,\n",
       "  4.6,\n",
       "  5.4,\n",
       "  5.4,\n",
       "  5.4,\n",
       "  4.0,\n",
       "  4.0,\n",
       "  4.6,\n",
       "  5.0,\n",
       "  3.3,\n",
       "  3.3,\n",
       "  4.0,\n",
       "  5.6,\n",
       "  2.5,\n",
       "  2.5,\n",
       "  2.5,\n",
       "  2.5,\n",
       "  2.5,\n",
       "  2.5,\n",
       "  2.7,\n",
       "  2.7,\n",
       "  3.4,\n",
       "  3.4,\n",
       "  4.0,\n",
       "  4.7,\n",
       "  4.7,\n",
       "  5.7]]"
      ]
     },
     "execution_count": 20,
     "metadata": {},
     "output_type": "execute_result"
    }
   ],
   "source": [
    "vals"
   ]
  },
  {
   "cell_type": "markdown",
   "metadata": {},
   "source": [
    "绘制连续变量直方图"
   ]
  },
  {
   "cell_type": "code",
   "execution_count": 25,
   "metadata": {},
   "outputs": [
    {
     "data": {
      "text/html": [
       "<div>\n",
       "<style scoped>\n",
       "    .dataframe tbody tr th:only-of-type {\n",
       "        vertical-align: middle;\n",
       "    }\n",
       "\n",
       "    .dataframe tbody tr th {\n",
       "        vertical-align: top;\n",
       "    }\n",
       "\n",
       "    .dataframe thead th {\n",
       "        text-align: right;\n",
       "    }\n",
       "</style>\n",
       "<table border=\"1\" class=\"dataframe\">\n",
       "  <thead>\n",
       "    <tr style=\"text-align: right;\">\n",
       "      <th></th>\n",
       "      <th>0</th>\n",
       "      <th>1</th>\n",
       "      <th>2</th>\n",
       "      <th>3</th>\n",
       "      <th>4</th>\n",
       "      <th>5</th>\n",
       "      <th>6</th>\n",
       "      <th>7</th>\n",
       "      <th>8</th>\n",
       "      <th>9</th>\n",
       "      <th>...</th>\n",
       "      <th>52</th>\n",
       "      <th>53</th>\n",
       "      <th>54</th>\n",
       "      <th>55</th>\n",
       "      <th>56</th>\n",
       "      <th>57</th>\n",
       "      <th>58</th>\n",
       "      <th>59</th>\n",
       "      <th>60</th>\n",
       "      <th>61</th>\n",
       "    </tr>\n",
       "  </thead>\n",
       "  <tbody>\n",
       "    <tr>\n",
       "      <th>0</th>\n",
       "      <td>5.7</td>\n",
       "      <td>5.7</td>\n",
       "      <td>6.2</td>\n",
       "      <td>6.2</td>\n",
       "      <td>7.0</td>\n",
       "      <td>NaN</td>\n",
       "      <td>NaN</td>\n",
       "      <td>NaN</td>\n",
       "      <td>NaN</td>\n",
       "      <td>NaN</td>\n",
       "      <td>...</td>\n",
       "      <td>NaN</td>\n",
       "      <td>NaN</td>\n",
       "      <td>NaN</td>\n",
       "      <td>NaN</td>\n",
       "      <td>NaN</td>\n",
       "      <td>NaN</td>\n",
       "      <td>NaN</td>\n",
       "      <td>NaN</td>\n",
       "      <td>NaN</td>\n",
       "      <td>NaN</td>\n",
       "    </tr>\n",
       "    <tr>\n",
       "      <th>1</th>\n",
       "      <td>1.8</td>\n",
       "      <td>1.8</td>\n",
       "      <td>2.0</td>\n",
       "      <td>2.0</td>\n",
       "      <td>2.8</td>\n",
       "      <td>2.8</td>\n",
       "      <td>3.1</td>\n",
       "      <td>1.8</td>\n",
       "      <td>1.8</td>\n",
       "      <td>2.0</td>\n",
       "      <td>...</td>\n",
       "      <td>NaN</td>\n",
       "      <td>NaN</td>\n",
       "      <td>NaN</td>\n",
       "      <td>NaN</td>\n",
       "      <td>NaN</td>\n",
       "      <td>NaN</td>\n",
       "      <td>NaN</td>\n",
       "      <td>NaN</td>\n",
       "      <td>NaN</td>\n",
       "      <td>NaN</td>\n",
       "    </tr>\n",
       "    <tr>\n",
       "      <th>2</th>\n",
       "      <td>2.8</td>\n",
       "      <td>3.1</td>\n",
       "      <td>4.2</td>\n",
       "      <td>2.4</td>\n",
       "      <td>2.4</td>\n",
       "      <td>3.1</td>\n",
       "      <td>3.5</td>\n",
       "      <td>3.6</td>\n",
       "      <td>2.4</td>\n",
       "      <td>2.4</td>\n",
       "      <td>...</td>\n",
       "      <td>NaN</td>\n",
       "      <td>NaN</td>\n",
       "      <td>NaN</td>\n",
       "      <td>NaN</td>\n",
       "      <td>NaN</td>\n",
       "      <td>NaN</td>\n",
       "      <td>NaN</td>\n",
       "      <td>NaN</td>\n",
       "      <td>NaN</td>\n",
       "      <td>NaN</td>\n",
       "    </tr>\n",
       "    <tr>\n",
       "      <th>3</th>\n",
       "      <td>2.4</td>\n",
       "      <td>3.0</td>\n",
       "      <td>3.3</td>\n",
       "      <td>3.3</td>\n",
       "      <td>3.3</td>\n",
       "      <td>3.3</td>\n",
       "      <td>3.3</td>\n",
       "      <td>3.8</td>\n",
       "      <td>3.8</td>\n",
       "      <td>3.8</td>\n",
       "      <td>...</td>\n",
       "      <td>NaN</td>\n",
       "      <td>NaN</td>\n",
       "      <td>NaN</td>\n",
       "      <td>NaN</td>\n",
       "      <td>NaN</td>\n",
       "      <td>NaN</td>\n",
       "      <td>NaN</td>\n",
       "      <td>NaN</td>\n",
       "      <td>NaN</td>\n",
       "      <td>NaN</td>\n",
       "    </tr>\n",
       "    <tr>\n",
       "      <th>4</th>\n",
       "      <td>3.7</td>\n",
       "      <td>3.7</td>\n",
       "      <td>3.9</td>\n",
       "      <td>3.9</td>\n",
       "      <td>4.7</td>\n",
       "      <td>4.7</td>\n",
       "      <td>4.7</td>\n",
       "      <td>5.2</td>\n",
       "      <td>5.2</td>\n",
       "      <td>4.7</td>\n",
       "      <td>...</td>\n",
       "      <td>NaN</td>\n",
       "      <td>NaN</td>\n",
       "      <td>NaN</td>\n",
       "      <td>NaN</td>\n",
       "      <td>NaN</td>\n",
       "      <td>NaN</td>\n",
       "      <td>NaN</td>\n",
       "      <td>NaN</td>\n",
       "      <td>NaN</td>\n",
       "      <td>NaN</td>\n",
       "    </tr>\n",
       "    <tr>\n",
       "      <th>5</th>\n",
       "      <td>3.8</td>\n",
       "      <td>3.8</td>\n",
       "      <td>4.0</td>\n",
       "      <td>4.0</td>\n",
       "      <td>4.6</td>\n",
       "      <td>4.6</td>\n",
       "      <td>4.6</td>\n",
       "      <td>4.6</td>\n",
       "      <td>5.4</td>\n",
       "      <td>1.6</td>\n",
       "      <td>...</td>\n",
       "      <td>NaN</td>\n",
       "      <td>NaN</td>\n",
       "      <td>NaN</td>\n",
       "      <td>NaN</td>\n",
       "      <td>NaN</td>\n",
       "      <td>NaN</td>\n",
       "      <td>NaN</td>\n",
       "      <td>NaN</td>\n",
       "      <td>NaN</td>\n",
       "      <td>NaN</td>\n",
       "    </tr>\n",
       "    <tr>\n",
       "      <th>6</th>\n",
       "      <td>5.3</td>\n",
       "      <td>5.3</td>\n",
       "      <td>5.3</td>\n",
       "      <td>5.7</td>\n",
       "      <td>6.0</td>\n",
       "      <td>5.3</td>\n",
       "      <td>5.3</td>\n",
       "      <td>5.7</td>\n",
       "      <td>6.5</td>\n",
       "      <td>3.9</td>\n",
       "      <td>...</td>\n",
       "      <td>2.5</td>\n",
       "      <td>2.5</td>\n",
       "      <td>2.7</td>\n",
       "      <td>2.7</td>\n",
       "      <td>3.4</td>\n",
       "      <td>3.4</td>\n",
       "      <td>4.0</td>\n",
       "      <td>4.7</td>\n",
       "      <td>4.7</td>\n",
       "      <td>5.7</td>\n",
       "    </tr>\n",
       "  </tbody>\n",
       "</table>\n",
       "<p>7 rows × 62 columns</p>\n",
       "</div>"
      ],
      "text/plain": [
       "    0    1    2    3    4    5    6    7    8    9   ...   52   53   54   55  \\\n",
       "0  5.7  5.7  6.2  6.2  7.0  NaN  NaN  NaN  NaN  NaN  ...  NaN  NaN  NaN  NaN   \n",
       "1  1.8  1.8  2.0  2.0  2.8  2.8  3.1  1.8  1.8  2.0  ...  NaN  NaN  NaN  NaN   \n",
       "2  2.8  3.1  4.2  2.4  2.4  3.1  3.5  3.6  2.4  2.4  ...  NaN  NaN  NaN  NaN   \n",
       "3  2.4  3.0  3.3  3.3  3.3  3.3  3.3  3.8  3.8  3.8  ...  NaN  NaN  NaN  NaN   \n",
       "4  3.7  3.7  3.9  3.9  4.7  4.7  4.7  5.2  5.2  4.7  ...  NaN  NaN  NaN  NaN   \n",
       "5  3.8  3.8  4.0  4.0  4.6  4.6  4.6  4.6  5.4  1.6  ...  NaN  NaN  NaN  NaN   \n",
       "6  5.3  5.3  5.3  5.7  6.0  5.3  5.3  5.7  6.5  3.9  ...  2.5  2.5  2.7  2.7   \n",
       "\n",
       "    56   57   58   59   60   61  \n",
       "0  NaN  NaN  NaN  NaN  NaN  NaN  \n",
       "1  NaN  NaN  NaN  NaN  NaN  NaN  \n",
       "2  NaN  NaN  NaN  NaN  NaN  NaN  \n",
       "3  NaN  NaN  NaN  NaN  NaN  NaN  \n",
       "4  NaN  NaN  NaN  NaN  NaN  NaN  \n",
       "5  NaN  NaN  NaN  NaN  NaN  NaN  \n",
       "6  3.4  3.4  4.0  4.7  4.7  5.7  \n",
       "\n",
       "[7 rows x 62 columns]"
      ]
     },
     "execution_count": 25,
     "metadata": {},
     "output_type": "execute_result"
    }
   ],
   "source": [
    "pd.DataFrame(vals)"
   ]
  },
  {
   "cell_type": "code",
   "execution_count": 27,
   "metadata": {},
   "outputs": [
    {
     "data": {
      "image/png": "[encoded data removed]",
      "text/plain": [
       "<Figure size 432x288 with 1 Axes>"
      ]
     },
     "metadata": {
      "needs_background": "light"
     },
     "output_type": "display_data"
    }
   ],
   "source": [
    "plt.hist(vals,30,stacked=True);"
   ]
  },
  {
   "cell_type": "markdown",
   "metadata": {},
   "source": [
    "添加装饰"
   ]
  },
  {
   "cell_type": "code",
   "execution_count": 30,
   "metadata": {},
   "outputs": [
    {
     "data": {
      "text/plain": [
       "array([1.6 , 1.78, 1.96, 2.14, 2.32, 2.5 , 2.68, 2.86, 3.04, 3.22, 3.4 ,\n",
       "       3.58, 3.76, 3.94, 4.12, 4.3 , 4.48, 4.66, 4.84, 5.02, 5.2 , 5.38,\n",
       "       5.56, 5.74, 5.92, 6.1 , 6.28, 6.46, 6.64, 6.82, 7.  ])"
      ]
     },
     "execution_count": 30,
     "metadata": {},
     "output_type": "execute_result"
    }
   ],
   "source": [
    "bins"
   ]
  },
  {
   "cell_type": "code",
   "execution_count": 31,
   "metadata": {},
   "outputs": [
    {
     "data": {
      "text/plain": [
       "31"
      ]
     },
     "execution_count": 31,
     "metadata": {},
     "output_type": "execute_result"
    }
   ],
   "source": [
    "len(bins)"
   ]
  },
  {
   "cell_type": "code",
   "execution_count": 32,
   "metadata": {},
   "outputs": [
    {
     "data": {
      "text/plain": [
       "array([1.6 , 2.14, 2.68, 3.22, 3.76, 4.3 , 4.84, 5.38, 5.92, 6.46, 7.  ])"
      ]
     },
     "execution_count": 32,
     "metadata": {},
     "output_type": "execute_result"
    }
   ],
   "source": [
    "bins[::3]"
   ]
  },
  {
   "cell_type": "code",
   "execution_count": 33,
   "metadata": {},
   "outputs": [
    {
     "data": {
      "text/plain": [
       "[1.6, 2.1, 2.7, 3.2, 3.8, 4.3, 4.8, 5.4, 5.9, 6.5, 7.0]"
      ]
     },
     "execution_count": 33,
     "metadata": {},
     "output_type": "execute_result"
    }
   ],
   "source": [
    "[round(b,1) for b in bins[::3]]"
   ]
  },
  {
   "cell_type": "code",
   "execution_count": 34,
   "metadata": {},
   "outputs": [
    {
     "data": {
      "text/plain": [
       "array(['2seater', 'compact', 'midsize', 'minivan', 'pickup', 'subcompact',\n",
       "       'suv'], dtype=object)"
      ]
     },
     "execution_count": 34,
     "metadata": {},
     "output_type": "execute_result"
    }
   ],
   "source": [
    "np.unique(df['class'])"
   ]
  },
  {
   "cell_type": "code",
   "execution_count": 36,
   "metadata": {},
   "outputs": [
    {
     "data": {
      "image/png": "[encoded data removed]",
      "text/plain": [
       "<Figure size 1280x640 with 1 Axes>"
      ]
     },
     "metadata": {
      "needs_background": "light"
     },
     "output_type": "display_data"
    }
   ],
   "source": [
    "plt.figure(figsize=(16,8),dpi=80) #创建画布\n",
    "n,bins,patches = plt.hist(vals,30,stacked=True) #绘制堆叠直方图\n",
    "\n",
    "#添加装饰\n",
    "plt.title('Stacked Histogram of $displ$ colored by $class$',fontsize=22) #添加标题\n",
    "plt.xlabel('displ',fontsize=15) #X轴的标题\n",
    "plt.ylabel('Frequency',fontsize=15) #Y轴标题\n",
    "plt.xticks(bins[::3],[round(b,1) for b in bins[::3]],fontsize=12) #设定X轴的刻度标签\n",
    "plt.yticks(fontsize=12) #设定Y轴刻度大小\n",
    "plt.ylim(0,25) #设定Y轴刻度范围\n",
    "plt.legend(np.unique(df['class']),frameon=False,fontsize=12);"
   ]
  },
  {
   "cell_type": "markdown",
   "metadata": {},
   "source": [
    "### 5.源码及图像解读"
   ]
  },
  {
   "cell_type": "code",
   "execution_count": 43,
   "metadata": {},
   "outputs": [
    {
     "data": {
      "image/png": "[encoded data removed]",
      "text/plain": [
       "<Figure size 960x540 with 1 Axes>"
      ]
     },
     "metadata": {
      "needs_background": "light"
     },
     "output_type": "display_data"
    }
   ],
   "source": [
    "# Import Data\n",
    "df = pd.read_csv('‪D:\\Python_data_processing__Data_processing\\Juanjiang_And_Caicai_Visualization\\data\\mpg_ggplot2.csv')\n",
    "\n",
    "# Prepare data\n",
    "x_var = 'displ' #横坐标所需特征         \n",
    "groupby_var = 'class' #分类变量\n",
    "df_agg = df.loc[:, [x_var, groupby_var]].groupby(groupby_var) #根据分类变量将所需数据分组\n",
    "vals = [df[x_var].values.tolist() for i, df in df_agg] #提取出每一组中的数据\n",
    "\n",
    "# Draw\n",
    "plt.figure(figsize=(16,9), dpi= 60)#创建画布并设定画布大小\n",
    "#colors = [plt.cm.Spectral(i/float(len(vals)-1)) for i in range(len(vals))]  #生成颜色列表\n",
    "colors = [plt.cm.Spectral(i/float(len(vals))) for i in range(len(vals))]\n",
    "n, bins, patches = plt.hist(vals, 30, stacked=True, density=False, color=colors[:len(vals)]) #绘制直方图\n",
    "\n",
    "# Decoration\n",
    "plt.legend({group:col for group, col in zip(np.unique(df[groupby_var]).tolist(), colors[:len(vals)])}) #添加图例\n",
    "plt.title(f\"Stacked Histogram of ${x_var}$ colored by ${groupby_var}$\", fontsize=22) #添加标题\n",
    "plt.xlabel(x_var)   #添加 X轴标题\n",
    "plt.ylabel(\"Frequency\")#添加 Y轴标题\n",
    "plt.ylim(0, 25) #设定Y轴刻度范围\n",
    "plt.xticks(ticks=bins[::3], labels=[round(b,1) for b in bins[::3]])#设定 X轴刻度\n",
    "plt.show() #本地显示图形"
   ]
  },
  {
   "cell_type": "code",
   "execution_count": 37,
   "metadata": {
    "collapsed": true,
    "jupyter": {
     "outputs_hidden": true
    }
   },
   "outputs": [
    {
     "data": {
      "text/plain": [
       "\u001b[1;31mSignature:\u001b[0m      \u001b[0mplt\u001b[0m\u001b[1;33m.\u001b[0m\u001b[0mcm\u001b[0m\u001b[1;33m.\u001b[0m\u001b[0mSpectral\u001b[0m\u001b[1;33m(\u001b[0m\u001b[0mX\u001b[0m\u001b[1;33m,\u001b[0m \u001b[0malpha\u001b[0m\u001b[1;33m=\u001b[0m\u001b[1;32mNone\u001b[0m\u001b[1;33m,\u001b[0m \u001b[0mbytes\u001b[0m\u001b[1;33m=\u001b[0m\u001b[1;32mFalse\u001b[0m\u001b[1;33m)\u001b[0m\u001b[1;33m\u001b[0m\u001b[1;33m\u001b[0m\u001b[0m\n",
       "\u001b[1;31mType:\u001b[0m           LinearSegmentedColormap\n",
       "\u001b[1;31mString form:\u001b[0m    <matplotlib.colors.LinearSegmentedColormap object at 0x0000026069AF01F0>\n",
       "\u001b[1;31mFile:\u001b[0m           c:\\anaconda\\lib\\site-packages\\matplotlib\\colors.py\n",
       "\u001b[1;31mDocstring:\u001b[0m     \n",
       "Colormap objects based on lookup tables using linear segments.\n",
       "\n",
       "The lookup table is generated using linear interpolation for each\n",
       "primary color, with the 0-1 domain divided into any number of\n",
       "segments.\n",
       "\u001b[1;31mInit docstring:\u001b[0m\n",
       "Create color map from linear mapping segments\n",
       "\n",
       "segmentdata argument is a dictionary with a red, green and blue\n",
       "entries. Each entry should be a list of *x*, *y0*, *y1* tuples,\n",
       "forming rows in a table. Entries for alpha are optional.\n",
       "\n",
       "Example: suppose you want red to increase from 0 to 1 over\n",
       "the bottom half, green to do the same over the middle half,\n",
       "and blue over the top half.  Then you would use::\n",
       "\n",
       "    cdict = {'red':   [(0.0,  0.0, 0.0),\n",
       "                       (0.5,  1.0, 1.0),\n",
       "                       (1.0,  1.0, 1.0)],\n",
       "\n",
       "             'green': [(0.0,  0.0, 0.0),\n",
       "                       (0.25, 0.0, 0.0),\n",
       "                       (0.75, 1.0, 1.0),\n",
       "                       (1.0,  1.0, 1.0)],\n",
       "\n",
       "             'blue':  [(0.0,  0.0, 0.0),\n",
       "                       (0.5,  0.0, 0.0),\n",
       "                       (1.0,  1.0, 1.0)]}\n",
       "\n",
       "Each row in the table for a given color is a sequence of\n",
       "*x*, *y0*, *y1* tuples.  In each sequence, *x* must increase\n",
       "monotonically from 0 to 1.  For any input value *z* falling\n",
       "between *x[i]* and *x[i+1]*, the output value of a given color\n",
       "will be linearly interpolated between *y1[i]* and *y0[i+1]*::\n",
       "\n",
       "    row i:   x  y0  y1\n",
       "                   /\n",
       "                  /\n",
       "    row i+1: x  y0  y1\n",
       "\n",
       "Hence y0 in the first row and y1 in the last row are never used.\n",
       "\n",
       "See Also\n",
       "--------\n",
       "LinearSegmentedColormap.from_list\n",
       "    Static method; factory function for generating a smoothly-varying\n",
       "    LinearSegmentedColormap.\n",
       "\n",
       "makeMappingArray\n",
       "    For information about making a mapping array.\n",
       "\u001b[1;31mCall docstring:\u001b[0m\n",
       "Parameters\n",
       "----------\n",
       "X : float or int, ndarray or scalar\n",
       "    The data value(s) to convert to RGBA.\n",
       "    For floats, X should be in the interval ``[0.0, 1.0]`` to\n",
       "    return the RGBA values ``X*100`` percent along the Colormap line.\n",
       "    For integers, X should be in the interval ``[0, Colormap.N)`` to\n",
       "    return RGBA values *indexed* from the Colormap with index ``X``.\n",
       "alpha : float, None\n",
       "    Alpha must be a scalar between 0 and 1, or None.\n",
       "bytes : bool\n",
       "    If False (default), the returned RGBA values will be floats in the\n",
       "    interval ``[0, 1]`` otherwise they will be uint8s in the interval\n",
       "    ``[0, 255]``.\n",
       "\n",
       "Returns\n",
       "-------\n",
       "Tuple of RGBA values if X is scalar, otherwise an array of\n",
       "RGBA values with a shape of ``X.shape + (4, )``.\n"
      ]
     },
     "metadata": {},
     "output_type": "display_data"
    }
   ],
   "source": [
    "plt.cm.Spectral?"
   ]
  },
  {
   "cell_type": "code",
   "execution_count": 38,
   "metadata": {},
   "outputs": [
    {
     "data": {
      "text/plain": [
       "(0.6280661284121491, 0.013302575932333718, 0.26082276047673975, 1.0)"
      ]
     },
     "execution_count": 38,
     "metadata": {},
     "output_type": "execute_result"
    }
   ],
   "source": [
    "plt.cm.Spectral(1) #RGBA色彩空间：红绿蓝+alpha"
   ]
  },
  {
   "cell_type": "code",
   "execution_count": 53,
   "metadata": {},
   "outputs": [
    {
     "data": {
      "text/plain": [
       "7"
      ]
     },
     "execution_count": 53,
     "metadata": {},
     "output_type": "execute_result"
    }
   ],
   "source": [
    "len(vals)"
   ]
  },
  {
   "cell_type": "code",
   "execution_count": 39,
   "metadata": {},
   "outputs": [
    {
     "data": {
      "text/plain": [
       "[(0.6196078431372549, 0.00392156862745098, 0.25882352941176473, 1.0),\n",
       " (0.8853517877739331, 0.3190311418685121, 0.29042675893886966, 1.0),\n",
       " (0.9873125720876587, 0.6473663975394078, 0.3642445213379469, 1.0),\n",
       " (0.9971549404075356, 0.9118031526336025, 0.6010765090349866, 1.0),\n",
       " (0.9288735101883892, 0.9715494040753557, 0.6380622837370243, 1.0),\n",
       " (0.6334486735870821, 0.8521337946943485, 0.6436755094194541, 1.0),\n",
       " (0.2800461361014994, 0.6269896193771626, 0.7024221453287197, 1.0)]"
      ]
     },
     "execution_count": 39,
     "metadata": {},
     "output_type": "execute_result"
    }
   ],
   "source": [
    "[plt.cm.Spectral(i/float(len(vals))) for i in range(len(vals))]"
   ]
  },
  {
   "cell_type": "code",
   "execution_count": 40,
   "metadata": {},
   "outputs": [
    {
     "data": {
      "text/plain": [
       "[(0.6196078431372549, 0.00392156862745098, 0.25882352941176473, 1.0),\n",
       " (0.9139561707035756, 0.36239907727797, 0.27935409457900806, 1.0),\n",
       " (0.9934640522875817, 0.7477124183006535, 0.4352941176470587, 1.0),\n",
       " (0.998077662437524, 0.9992310649750096, 0.7460207612456747, 1.0),\n",
       " (0.7477124183006538, 0.8980392156862746, 0.6274509803921569, 1.0),\n",
       " (0.3280276816608997, 0.6805074971164936, 0.6802768166089965, 1.0),\n",
       " (0.3686274509803922, 0.30980392156862746, 0.6352941176470588, 1.0)]"
      ]
     },
     "execution_count": 40,
     "metadata": {},
     "output_type": "execute_result"
    }
   ],
   "source": [
    "[plt.cm.Spectral(i/float(len(vals)-1)) for i in range(len(vals))]"
   ]
  },
  {
   "cell_type": "code",
   "execution_count": 44,
   "metadata": {},
   "outputs": [
    {
     "data": {
      "image/png": "[encoded data removed]",
      "text/plain": [
       "<Figure size 1280x720 with 1 Axes>"
      ]
     },
     "metadata": {
      "needs_background": "light"
     },
     "output_type": "display_data"
    }
   ],
   "source": [
    "# Prepare data\n",
    "x_var = 'displ' #横坐标所需特征         \n",
    "groupby_var = 'class' #分类变量\n",
    "df_agg = df.loc[:, [x_var, groupby_var]].groupby(groupby_var) \n",
    "vals = [df[x_var].values.tolist() for i, df in df_agg] \n",
    "\n",
    "# Draw\n",
    "plt.figure(figsize=(16,9), dpi=80)\n",
    "colors = [plt.cm.Spectral(i/float(len(vals))) for i in range(len(vals))]  #生成颜色列表\n",
    "n, bins, patches = plt.hist(vals, 30, stacked=True, density=False, color=colors[:len(vals)]) \n",
    "\n",
    "# Decoration\n",
    "plt.legend({group:col for group, col in zip(np.unique(df[groupby_var]).tolist(), colors[:len(vals)])}) \n",
    "plt.title(f\"Stacked Histogram of ${x_var}$ colored by ${groupby_var}$\", fontsize=22)\n",
    "plt.xlabel(x_var)\n",
    "plt.ylabel(\"Frequency\")\n",
    "plt.ylim(0, 25)\n",
    "plt.xticks(ticks=bins[::3], labels=[round(b,1) for b in bins[::3]])\n",
    "plt.show()"
   ]
  },
  {
   "cell_type": "markdown",
   "metadata": {},
   "source": [
    "**图形解读**"
   ]
  },
  {
   "cell_type": "markdown",
   "metadata": {},
   "source": [
    "- 从这样一个堆积直方图中，我们能够看出每一种类型车的排量基本处于什么样的位置\n",
    "- 还可以看出同一个排量下，有多少种类的车，每种车的占比如何   \n",
    "- 对于2seater两座车来说，基本上全部都是大排量\n",
    "- compact紧凑型车的排量基本上都比较小\n",
    "- 此外，我们还可以看出大部分类型车的排量都在5以下"
   ]
  },
  {
   "cell_type": "markdown",
   "metadata": {},
   "source": [
    "### <font color=bule> 21/50 分类变量直方图（Histogram for Categorical Variable）"
   ]
  },
  {
   "cell_type": "markdown",
   "metadata": {},
   "source": [
    "分类变量直方图与连续变量直方图非常的类似。它也可以显示每个变量的频率分布。   \n",
    "通过对条形图的不同着色，可以将分类变量与表示颜色的另一种分类变量相关联。"
   ]
  },
  {
   "cell_type": "markdown",
   "metadata": {},
   "source": [
    "<img src='http://pictes.oss-cn-beijing.aliyuncs.com/microclass-virtualisation/week4%20Distribution/%E5%88%86%E7%B1%BB%E5%8F%98%E9%87%8F%E7%9B%B4%E6%96%B9%E5%9B%BE.png' width=700>"
   ]
  },
  {
   "cell_type": "markdown",
   "metadata": {},
   "source": [
    "- 横坐标：汽车制造商manufacturer   \n",
    "- 纵坐标：频数  \n",
    "- 图例：汽车种类class"
   ]
  },
  {
   "cell_type": "code",
   "execution_count": 2,
   "metadata": {},
   "outputs": [],
   "source": [
    "# Import Data\n",
    "df = pd.read_csv('‪D:\\Python_data_processing__Data_processing\\Juanjiang_And_Caicai_Visualization\\data\\mpg_ggplot2.csv') #导入数据集"
   ]
  },
  {
   "cell_type": "code",
   "execution_count": 3,
   "metadata": {},
   "outputs": [
    {
     "data": {
      "text/html": [
       "<div>\n",
       "<style scoped>\n",
       "    .dataframe tbody tr th:only-of-type {\n",
       "        vertical-align: middle;\n",
       "    }\n",
       "\n",
       "    .dataframe tbody tr th {\n",
       "        vertical-align: top;\n",
       "    }\n",
       "\n",
       "    .dataframe thead th {\n",
       "        text-align: right;\n",
       "    }\n",
       "</style>\n",
       "<table border=\"1\" class=\"dataframe\">\n",
       "  <thead>\n",
       "    <tr style=\"text-align: right;\">\n",
       "      <th></th>\n",
       "      <th>manufacturer</th>\n",
       "      <th>model</th>\n",
       "      <th>displ</th>\n",
       "      <th>year</th>\n",
       "      <th>cyl</th>\n",
       "      <th>trans</th>\n",
       "      <th>drv</th>\n",
       "      <th>cty</th>\n",
       "      <th>hwy</th>\n",
       "      <th>fl</th>\n",
       "      <th>class</th>\n",
       "    </tr>\n",
       "  </thead>\n",
       "  <tbody>\n",
       "    <tr>\n",
       "      <th>0</th>\n",
       "      <td>audi</td>\n",
       "      <td>a4</td>\n",
       "      <td>1.8</td>\n",
       "      <td>1999</td>\n",
       "      <td>4</td>\n",
       "      <td>auto(l5)</td>\n",
       "      <td>f</td>\n",
       "      <td>18</td>\n",
       "      <td>29</td>\n",
       "      <td>p</td>\n",
       "      <td>compact</td>\n",
       "    </tr>\n",
       "    <tr>\n",
       "      <th>1</th>\n",
       "      <td>audi</td>\n",
       "      <td>a4</td>\n",
       "      <td>1.8</td>\n",
       "      <td>1999</td>\n",
       "      <td>4</td>\n",
       "      <td>manual(m5)</td>\n",
       "      <td>f</td>\n",
       "      <td>21</td>\n",
       "      <td>29</td>\n",
       "      <td>p</td>\n",
       "      <td>compact</td>\n",
       "    </tr>\n",
       "    <tr>\n",
       "      <th>2</th>\n",
       "      <td>audi</td>\n",
       "      <td>a4</td>\n",
       "      <td>2.0</td>\n",
       "      <td>2008</td>\n",
       "      <td>4</td>\n",
       "      <td>manual(m6)</td>\n",
       "      <td>f</td>\n",
       "      <td>20</td>\n",
       "      <td>31</td>\n",
       "      <td>p</td>\n",
       "      <td>compact</td>\n",
       "    </tr>\n",
       "    <tr>\n",
       "      <th>3</th>\n",
       "      <td>audi</td>\n",
       "      <td>a4</td>\n",
       "      <td>2.0</td>\n",
       "      <td>2008</td>\n",
       "      <td>4</td>\n",
       "      <td>auto(av)</td>\n",
       "      <td>f</td>\n",
       "      <td>21</td>\n",
       "      <td>30</td>\n",
       "      <td>p</td>\n",
       "      <td>compact</td>\n",
       "    </tr>\n",
       "    <tr>\n",
       "      <th>4</th>\n",
       "      <td>audi</td>\n",
       "      <td>a4</td>\n",
       "      <td>2.8</td>\n",
       "      <td>1999</td>\n",
       "      <td>6</td>\n",
       "      <td>auto(l5)</td>\n",
       "      <td>f</td>\n",
       "      <td>16</td>\n",
       "      <td>26</td>\n",
       "      <td>p</td>\n",
       "      <td>compact</td>\n",
       "    </tr>\n",
       "  </tbody>\n",
       "</table>\n",
       "</div>"
      ],
      "text/plain": [
       "  manufacturer model  displ  year  cyl       trans drv  cty  hwy fl    class\n",
       "0         audi    a4    1.8  1999    4    auto(l5)   f   18   29  p  compact\n",
       "1         audi    a4    1.8  1999    4  manual(m5)   f   21   29  p  compact\n",
       "2         audi    a4    2.0  2008    4  manual(m6)   f   20   31  p  compact\n",
       "3         audi    a4    2.0  2008    4    auto(av)   f   21   30  p  compact\n",
       "4         audi    a4    2.8  1999    6    auto(l5)   f   16   26  p  compact"
      ]
     },
     "execution_count": 3,
     "metadata": {},
     "output_type": "execute_result"
    }
   ],
   "source": [
    "df.head()"
   ]
  },
  {
   "cell_type": "code",
   "execution_count": 6,
   "metadata": {},
   "outputs": [
    {
     "data": {
      "text/plain": [
       "{'2seater': (0.6196078431372549,\n",
       "  0.00392156862745098,\n",
       "  0.25882352941176473,\n",
       "  1.0),\n",
       " 'compact': (0.9139561707035756, 0.36239907727797, 0.27935409457900806, 1.0),\n",
       " 'midsize': (0.9934640522875817, 0.7477124183006535, 0.4352941176470587, 1.0),\n",
       " 'minivan': (0.998077662437524, 0.9992310649750096, 0.7460207612456747, 1.0),\n",
       " 'pickup': (0.7477124183006538, 0.8980392156862746, 0.6274509803921569, 1.0),\n",
       " 'subcompact': (0.3280276816608997,\n",
       "  0.6805074971164936,\n",
       "  0.6802768166089965,\n",
       "  1.0),\n",
       " 'suv': (0.3686274509803922, 0.30980392156862746, 0.6352941176470588, 1.0)}"
      ]
     },
     "execution_count": 6,
     "metadata": {},
     "output_type": "execute_result"
    }
   ],
   "source": [
    "{group:col for group, col in zip(np.unique(df[groupby_var]).tolist(), colors[:len(vals)])}"
   ]
  },
  {
   "cell_type": "code",
   "execution_count": 8,
   "metadata": {},
   "outputs": [
    {
     "data": {
      "image/png": "[encoded data removed]",
      "text/plain": [
       "<Figure size 840x480 with 1 Axes>"
      ]
     },
     "metadata": {
      "needs_background": "light"
     },
     "output_type": "display_data"
    }
   ],
   "source": [
    "# Prepare data\n",
    "x_var = 'manufacturer'   #X轴特征\n",
    "groupby_var = 'class'    #分类标签（颜色标签）\n",
    "df_agg = df.loc[:, [x_var, groupby_var]].groupby(groupby_var) #根据颜色标签将X轴特征分组\n",
    "vals = [df[x_var].values.tolist() for i, df in df_agg]  #提取出每组特征\n",
    "\n",
    "# Draw\n",
    "plt.figure(figsize=(14,8), dpi= 60) #创建画布\n",
    "colors = [plt.cm.Spectral(i/float(len(vals)-1)) for i in range(len(vals))]  #创建颜色列表\n",
    "n, bins, patches = plt.hist(vals, df[x_var].unique().__len__(), stacked=True, density=False, color=colors[:len(vals)]) #绘制堆叠直方图\n",
    "\n",
    "# Decoration\n",
    "plt.legend({group:col for group, col in zip(np.unique(df[groupby_var]).tolist(), colors[:len(vals)])}) #添加图例\n",
    "# plt.legend(np.unique(df[groupby_var]),frameon=False,fontsize=15)\n",
    "plt.title(f\"Stacked Histogram of ${x_var}$ colored by ${groupby_var}$\", fontsize=22) #添加标题\n",
    "plt.xlabel(x_var,fontsize=20) #设定X轴标签\n",
    "plt.ylabel(\"Frequency\",fontsize=20) #设定Y轴标签\n",
    "plt.ylim(0, 40) #设定Y轴刻度范围\n",
    "plt.xticks(ticks=bins[:-1], labels=np.unique(df[x_var]).tolist(), rotation=60, horizontalalignment='right',fontsize=16) #设定X轴刻度标签\n",
    "plt.yticks(fontsize=16)#设定Y轴刻度字体大小\n",
    "plt.show() #本地显示"
   ]
  },
  {
   "cell_type": "code",
   "execution_count": 52,
   "metadata": {},
   "outputs": [
    {
     "data": {
      "text/plain": [
       "array(['audi', 'chevrolet', 'dodge', 'ford', 'honda', 'hyundai', 'jeep',\n",
       "       'land rover', 'lincoln', 'mercury', 'nissan', 'pontiac', 'subaru',\n",
       "       'toyota', 'volkswagen'], dtype=object)"
      ]
     },
     "execution_count": 52,
     "metadata": {},
     "output_type": "execute_result"
    }
   ],
   "source": [
    "df[x_var].unique() #去重，与np.unique()作用相同"
   ]
  },
  {
   "cell_type": "code",
   "execution_count": 54,
   "metadata": {},
   "outputs": [
    {
     "data": {
      "text/plain": [
       "array(['audi', 'chevrolet', 'dodge', 'ford', 'honda', 'hyundai', 'jeep',\n",
       "       'land rover', 'lincoln', 'mercury', 'nissan', 'pontiac', 'subaru',\n",
       "       'toyota', 'volkswagen'], dtype=object)"
      ]
     },
     "execution_count": 54,
     "metadata": {},
     "output_type": "execute_result"
    }
   ],
   "source": [
    "np.unique(df[x_var])"
   ]
  },
  {
   "cell_type": "code",
   "execution_count": 55,
   "metadata": {},
   "outputs": [
    {
     "data": {
      "text/plain": [
       "15"
      ]
     },
     "execution_count": 55,
     "metadata": {},
     "output_type": "execute_result"
    }
   ],
   "source": [
    "df[x_var].unique().__len__() #返回对象长度，与len()作用相同"
   ]
  },
  {
   "cell_type": "code",
   "execution_count": 56,
   "metadata": {},
   "outputs": [
    {
     "data": {
      "text/plain": [
       "15"
      ]
     },
     "execution_count": 56,
     "metadata": {},
     "output_type": "execute_result"
    }
   ],
   "source": [
    "len(df[x_var].unique())"
   ]
  },
  {
   "cell_type": "code",
   "execution_count": null,
   "metadata": {},
   "outputs": [],
   "source": []
  },
  {
   "cell_type": "code",
   "execution_count": null,
   "metadata": {},
   "outputs": [],
   "source": []
  }
 ],
 "metadata": {
  "kernelspec": {
   "display_name": "Python 3 (ipykernel)",
   "language": "python",
   "name": "python3"
  },
  "language_info": {
   "codemirror_mode": {
    "name": "ipython",
    "version": 3
   },
   "file_extension": ".py",
   "mimetype": "text/x-python",
   "name": "python",
   "nbconvert_exporter": "python",
   "pygments_lexer": "ipython3",
   "version": "3.8.5"
  }
 },
 "nbformat": 4,
 "nbformat_minor": 4
}
