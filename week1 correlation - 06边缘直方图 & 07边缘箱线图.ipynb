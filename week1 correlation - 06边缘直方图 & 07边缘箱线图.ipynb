{
 "cells": [
  {
   "cell_type": "markdown",
   "metadata": {},
   "source": [
    "# **菊安酱与菜菜的Python机器学习可视化**"
   ]
  },
  {
   "cell_type": "markdown",
   "metadata": {},
   "source": [
    "## 第一期 关联图 (3)"
   ]
  },
  {
   "cell_type": "markdown",
   "metadata": {},
   "source": [
    "### 扫码回复K进群，获取本课的ipy文件~！"
   ]
  },
  {
   "cell_type": "markdown",
   "metadata": {},
   "source": [
    "<img src=\"http://pictes.oss-cn-beijing.aliyuncs.com/microclass-virtualisation/%E4%BA%8C%E7%BB%B4%E7%A0%812.png\" />"
   ]
  },
  {
   "cell_type": "markdown",
   "metadata": {},
   "source": [
    "<img src=\"http://pictes.oss-cn-beijing.aliyuncs.com/microclass-virtualisation/week1correlation/line4.png\" align=\"center\" />"
   ]
  },
  {
   "cell_type": "markdown",
   "metadata": {},
   "source": [
    "**注意：本篇中可能遇见无法在matpotlib和seaborn中显示中文或者负号的问题**  \n",
    "如果你遇见了，请参考链接：https://www.jianshu.com/p/914b5f4ce6bf"
   ]
  },
  {
   "cell_type": "code",
   "execution_count": 72,
   "metadata": {},
   "outputs": [
    {
     "name": "stdout",
     "output_type": "stream",
     "text": [
      "C:\\Python\\lib\\site-packages\\matplotlib\\mpl-data\\matplotlibrc\n"
     ]
    }
   ],
   "source": [
    "import matplotlib\n",
    "print(matplotlib.matplotlib_fname())"
   ]
  },
  {
   "cell_type": "markdown",
   "metadata": {},
   "source": [
    "<img src=\"http://pictes.oss-cn-beijing.aliyuncs.com/microclass-virtualisation/week1correlation/line4.png\" align=\"center\" />"
   ]
  },
  {
   "cell_type": "markdown",
   "metadata": {},
   "source": [
    "### 06/50 边缘直方图"
   ]
  },
  {
   "cell_type": "markdown",
   "metadata": {},
   "source": [
    "边缘直方图是在使用散点图探索横纵坐标关系的基础上，还使用直方图对横坐标和纵坐标分别进行分布探索的图像。  \n",
    "这个图像在统计学的探索性分析（EDA）中常用，以探求数据是否符合统计学的一系列要求，比如说线性回归要求残差需满足正态分布，即因变量y满足正态分布等等。  \n",
    "在机器学习中，我们也会探索数据是否处于偏态，以指导是否需要对数据做归一化或者标准化等处理。"
   ]
  },
  {
   "cell_type": "markdown",
   "metadata": {},
   "source": [
    "<img src=\"http://pictes.oss-cn-beijing.aliyuncs.com/microclass-virtualisation/week1correlation/06%20%E7%9B%B4%E6%96%B9%E5%9B%BE.PNG\" align=\"center\" />"
   ]
  },
  {
   "cell_type": "markdown",
   "metadata": {},
   "source": [
    "横坐标：发动机排量(L)<br>\n",
    "纵坐标：公路里程/加仑  \n",
    "虽然没有显示图例不过散点有颜色：制造商的名称"
   ]
  },
  {
   "cell_type": "markdown",
   "metadata": {},
   "source": [
    "### 1. 导入需要的绘图库"
   ]
  },
  {
   "cell_type": "code",
   "execution_count": 1,
   "metadata": {},
   "outputs": [],
   "source": [
    "import numpy as np\n",
    "import pandas as pd\n",
    "import matplotlib as mpl\n",
    "import matplotlib.pyplot as plt\n",
    "import seaborn as sns\n",
    "%matplotlib inline"
   ]
  },
  {
   "cell_type": "code",
   "execution_count": 2,
   "metadata": {},
   "outputs": [],
   "source": [
    "plt.rcParams['font.sans-serif'] = ['simsun'] #用来正常显示中文标签\n",
    "plt.rcParams['axes.unicode_minus'] =  False #用来正常显示负号"
   ]
  },
  {
   "cell_type": "markdown",
   "metadata": {},
   "source": [
    "要绘制出这张图，我们不仅是了解绘图的函数这么简单了。之前绘制的图像都是一画布一图，或者一个画布上多个图，但多个图都是同类型的图。  \n",
    "现在要绘制的这张图上有三张图，并且这三张图的类型还不同：一张散点图，两张直方图。我们则我们首先需要来了解，如何构筑出可以容纳多个画布的图。"
   ]
  },
  {
   "cell_type": "markdown",
   "metadata": {},
   "source": [
    "### 2. 准备画布与子图"
   ]
  },
  {
   "cell_type": "markdown",
   "metadata": {},
   "source": [
    "#### **plt.figure，plt.GridSpec与fig.add_subplot**  "
   ]
  },
  {
   "cell_type": "markdown",
   "metadata": {},
   "source": [
    "> **plt.figure**：构建画布  \n",
    ">> figsize：画布大小  \n",
    ">> dpi：该图像分辨率  "
   ]
  },
  {
   "cell_type": "markdown",
   "metadata": {},
   "source": [
    "> **plt.GridSpec**：在画布上进行分割\n",
    ">> nrows：画布上存在多少行  \n",
    ">> ncols：画布上存在多少列  \n",
    ">> hspace：格子之间上下的间隔  \n",
    ">> wspace：格子之间左右的间隔"
   ]
  },
  {
   "cell_type": "code",
   "execution_count": 9,
   "metadata": {},
   "outputs": [
    {
     "data": {
      "text/plain": [
       "<Figure size 1280x800 with 0 Axes>"
      ]
     },
     "metadata": {},
     "output_type": "display_data"
    }
   ],
   "source": [
    "#创建画布与格子\n",
    "fig = plt.figure(figsize=(16, 10), dpi=80)\n",
    "grid = plt.GridSpec(4, 4, hspace=0.5, wspace=0.2)"
   ]
  },
  {
   "cell_type": "markdown",
   "metadata": {},
   "source": [
    "<img src=\"http://pictes.oss-cn-beijing.aliyuncs.com/microclass-virtualisation/week1correlation/plt.GridSpec%E5%9C%A8%E5%B9%B2%E5%95%A5.PNG\" align=\"center\" />"
   ]
  },
  {
   "cell_type": "markdown",
   "metadata": {},
   "source": [
    "> **fig.add_subplot**：在画布上建立子图\n",
    ">> \\*args：一个3位整数或三个独立的整数，用于描述子图的位置。如果三个整数按顺序为行，列和索引，则子图将采用行\\*列网格上的索引所对应的位置。索引从左上角的0开始，向右增加，最右及最下用-1表示。与Python中所有的索引一样，取前不取后。  "
   ]
  },
  {
   "cell_type": "code",
   "execution_count": 10,
   "metadata": {},
   "outputs": [],
   "source": [
    "#添加子图\n",
    "ax_main = fig.add_subplot(grid[:-1, :-1])\n",
    "ax_right = fig.add_subplot(grid[:-1, -1], xticklabels=[], yticklabels=[])\n",
    "ax_bottom = fig.add_subplot(grid[-1, 0:-1], xticklabels=[], yticklabels=[])\n",
    "#有了子图之后，就可以在每个子图上来进行绘图了"
   ]
  },
  {
   "cell_type": "markdown",
   "metadata": {},
   "source": [
    "<img src=\"http://pictes.oss-cn-beijing.aliyuncs.com/microclass-virtualisation/week1correlation/line4.png\" align=\"center\" />"
   ]
  },
  {
   "cell_type": "markdown",
   "metadata": {},
   "source": [
    "#### 小练习：你能写出创建下面五个子图的代码吗？"
   ]
  },
  {
   "cell_type": "markdown",
   "metadata": {},
   "source": [
    "<img src=\"http://pictes.oss-cn-beijing.aliyuncs.com/microclass-virtualisation/week1correlation/%E7%BB%83%E4%B9%A0%E9%A2%98.png\" align=\"center\" />"
   ]
  },
  {
   "cell_type": "markdown",
   "metadata": {},
   "source": [
    "#### 正确答案\n",
    "gs = plt.GridSpec(3, 3) <br>\n",
    "ax1 = plt.subplot(gs[0, :],xticklabels=[], yticklabels=[])<br>\n",
    "ax2 = plt.subplot(gs[1, :-1],xticklabels=[], yticklabels=[])<br>\n",
    "ax3 = plt.subplot(gs[1:, -1],xticklabels=[], yticklabels=[])<br>\n",
    "ax4 = plt.subplot(gs[-1, 0],xticklabels=[], yticklabels=[])<br>\n",
    "ax5 = plt.subplot(gs[-1, -2],xticklabels=[], yticklabels=[])"
   ]
  },
  {
   "cell_type": "markdown",
   "metadata": {},
   "source": [
    "<img src=\"http://pictes.oss-cn-beijing.aliyuncs.com/microclass-virtualisation/week1correlation/line4.png\" align=\"center\" />"
   ]
  },
  {
   "cell_type": "markdown",
   "metadata": {},
   "source": [
    "### 3. 认识绘制直方图的函数"
   ]
  },
  {
   "cell_type": "markdown",
   "metadata": {},
   "source": [
    "直方图是用来表示数据分布的图像，所谓的分布，就是“在一个连续型变量的不同取值范围内存在多少个值”的表示"
   ]
  },
  {
   "cell_type": "markdown",
   "metadata": {},
   "source": [
    "#### 条形图 vs 直方图\n",
    "> 1. 条形图中的“条”一般是分开的，而直方图中的“条”一般是没有距离的\n",
    "> 2. 条形图的横坐标一般都是**分类型变量的不同类别**（比如不同的人，不同的城市等等），纵坐标一般都是**这一类别上的值之和或者计数**（工资，人口等等），而直方图的横坐标一般是某个**连续型变量上不同的取值区间**（比如体重，价格等等），纵坐标是这一段取值范围内**样本的个数之和**  \n",
    "> 3. 所以条形图表示的是不同类别下的取值，核心是对比不同类别下的值的差异（所以条形图属于偏差图），而直方图表示的是不同取值区间内含有的样本个数，核心是查看某个变量的分布，以指导后续的预处理或者模型建立\n",
    "> 4. 也因此，条形图是和两个变量相关，而直方图一般只和一个变量以及我们在变量上进行的分箱有关"
   ]
  },
  {
   "cell_type": "markdown",
   "metadata": {},
   "source": [
    "<img src=\"http://pictes.oss-cn-beijing.aliyuncs.com/microclass-virtualisation/week1correlation/bar%20charts%20vs%20his.PNG\" align=\"center\" />"
   ]
  },
  {
   "cell_type": "markdown",
   "metadata": {},
   "source": [
    "#### **plt.hist()**"
   ]
  },
  {
   "cell_type": "markdown",
   "metadata": {},
   "source": [
    "> 重要参数\n",
    ">> x & bins：需要分析的变量以及把变量分成多少段  \n",
    ">> orientation：直方图的方向，可分为横向(horizontal)和纵向(vertical)  \n",
    ">> histtype：生成的直方图类型，可输入{'bar', 'barstacked', 'step',  'stepfilled'}四种类型，分别代表着：\n",
    ">>>'bar'是传统的条形直方图。 如果给出多个数据，则条并排排列  \n",
    ">>>'barstacked'是条形直方图，其中多个数据堆叠在一起  \n",
    ">>>'step'生成一个默认未填充的线条轮廓  \n",
    ">>>'stepfilled'生成一个默认填充的线条轮廓"
   ]
  },
  {
   "cell_type": "code",
   "execution_count": 11,
   "metadata": {},
   "outputs": [],
   "source": [
    "#构建数据\n",
    "X = np.random.randn(10000) #生成符合正态分布的随机数"
   ]
  },
  {
   "cell_type": "code",
   "execution_count": 15,
   "metadata": {
    "collapsed": true,
    "jupyter": {
     "outputs_hidden": true
    }
   },
   "outputs": [
    {
     "data": {
      "text/plain": [
       "(array([  1.,   1.,   0.,   0.,   0.,   1.,   4.,   2.,   5.,   6.,   9.,\n",
       "         16.,  15.,  11.,  22.,  20.,  29.,  25.,  32.,  33.,  60.,  58.,\n",
       "         55.,  87.,  93.,  99., 138., 131., 156., 148., 172., 184., 234.,\n",
       "        207., 256., 255., 248., 331., 297., 311., 290., 347., 347., 322.,\n",
       "        335., 345., 311., 362., 304., 298., 270., 272., 274., 212., 220.,\n",
       "        216., 167., 179., 155., 163., 101., 116., 111.,  96.,  81.,  55.,\n",
       "         49.,  45.,  36.,  31.,  29.,  24.,  21.,  15.,   7.,   9.,   8.,\n",
       "          7.,   2.,   2.,   1.,   4.,   4.,   1.,   1.,   0.,   1.,   0.,\n",
       "          0.,   1.,   0.,   0.,   0.,   0.,   0.,   0.,   0.,   0.,   0.,\n",
       "          1.]),\n",
       " array([-3.69339891, -3.60919793, -3.52499695, -3.44079597, -3.35659499,\n",
       "        -3.27239401, -3.18819302, -3.10399204, -3.01979106, -2.93559008,\n",
       "        -2.8513891 , -2.76718812, -2.68298714, -2.59878616, -2.51458518,\n",
       "        -2.43038419, -2.34618321, -2.26198223, -2.17778125, -2.09358027,\n",
       "        -2.00937929, -1.92517831, -1.84097733, -1.75677635, -1.67257536,\n",
       "        -1.58837438, -1.5041734 , -1.41997242, -1.33577144, -1.25157046,\n",
       "        -1.16736948, -1.0831685 , -0.99896752, -0.91476653, -0.83056555,\n",
       "        -0.74636457, -0.66216359, -0.57796261, -0.49376163, -0.40956065,\n",
       "        -0.32535967, -0.24115869, -0.1569577 , -0.07275672,  0.01144426,\n",
       "         0.09564524,  0.17984622,  0.2640472 ,  0.34824818,  0.43244916,\n",
       "         0.51665014,  0.60085113,  0.68505211,  0.76925309,  0.85345407,\n",
       "         0.93765505,  1.02185603,  1.10605701,  1.19025799,  1.27445897,\n",
       "         1.35865996,  1.44286094,  1.52706192,  1.6112629 ,  1.69546388,\n",
       "         1.77966486,  1.86386584,  1.94806682,  2.0322678 ,  2.11646879,\n",
       "         2.20066977,  2.28487075,  2.36907173,  2.45327271,  2.53747369,\n",
       "         2.62167467,  2.70587565,  2.79007663,  2.87427761,  2.9584786 ,\n",
       "         3.04267958,  3.12688056,  3.21108154,  3.29528252,  3.3794835 ,\n",
       "         3.46368448,  3.54788546,  3.63208644,  3.71628743,  3.80048841,\n",
       "         3.88468939,  3.96889037,  4.05309135,  4.13729233,  4.22149331,\n",
       "         4.30569429,  4.38989527,  4.47409626,  4.55829724,  4.64249822,\n",
       "         4.7266992 ]),\n",
       " [<matplotlib.patches.Polygon at 0x1c4e5e4a9d0>])"
      ]
     },
     "execution_count": 15,
     "metadata": {},
     "output_type": "execute_result"
    },
    {
     "data": {
      "image/png": "[encoded data removed]",
      "text/plain": [
       "<Figure size 432x288 with 1 Axes>"
      ]
     },
     "metadata": {
      "needs_background": "light"
     },
     "output_type": "display_data"
    }
   ],
   "source": [
    "plt.hist(x=X #需要分析的变量\n",
    "                           , bins=100 #需要把变量分成多少段，即形成多少个柱子的分布\n",
    "                           , histtype='stepfilled' \n",
    "                           , orientation='vertical' \n",
    "                           , color='deeppink'\n",
    "                          )"
   ]
  },
  {
   "cell_type": "code",
   "execution_count": 14,
   "metadata": {},
   "outputs": [
    {
     "data": {
      "image/png": "[encoded data removed]",
      "text/plain": [
       "<Figure size 432x288 with 1 Axes>"
      ]
     },
     "metadata": {
      "needs_background": "light"
     },
     "output_type": "display_data"
    }
   ],
   "source": [
    "n, bins, patches = plt.hist(x=X #需要分析的变量\n",
    "                           , bins=100 #需要把变量分成多少段，即形成多少个柱子的分布\n",
    "                           , histtype='stepfilled' \n",
    "                           , orientation='vertical' \n",
    "                           , color='deeppink'\n",
    "                          )\n",
    "#自动返回三项内容：每个箱子中含有多少个样本，在变量中划分出的箱子的宽度，用于创建直方图的补丁"
   ]
  },
  {
   "cell_type": "code",
   "execution_count": 16,
   "metadata": {},
   "outputs": [
    {
     "data": {
      "text/plain": [
       "array([  1.,   1.,   0.,   0.,   0.,   1.,   4.,   2.,   5.,   6.,   9.,\n",
       "        16.,  15.,  11.,  22.,  20.,  29.,  25.,  32.,  33.,  60.,  58.,\n",
       "        55.,  87.,  93.,  99., 138., 131., 156., 148., 172., 184., 234.,\n",
       "       207., 256., 255., 248., 331., 297., 311., 290., 347., 347., 322.,\n",
       "       335., 345., 311., 362., 304., 298., 270., 272., 274., 212., 220.,\n",
       "       216., 167., 179., 155., 163., 101., 116., 111.,  96.,  81.,  55.,\n",
       "        49.,  45.,  36.,  31.,  29.,  24.,  21.,  15.,   7.,   9.,   8.,\n",
       "         7.,   2.,   2.,   1.,   4.,   4.,   1.,   1.,   0.,   1.,   0.,\n",
       "         0.,   1.,   0.,   0.,   0.,   0.,   0.,   0.,   0.,   0.,   0.,\n",
       "         1.])"
      ]
     },
     "execution_count": 16,
     "metadata": {},
     "output_type": "execute_result"
    }
   ],
   "source": [
    "n"
   ]
  },
  {
   "cell_type": "code",
   "execution_count": 17,
   "metadata": {},
   "outputs": [
    {
     "data": {
      "text/plain": [
       "(100,)"
      ]
     },
     "execution_count": 17,
     "metadata": {},
     "output_type": "execute_result"
    }
   ],
   "source": [
    "n.shape"
   ]
  },
  {
   "cell_type": "code",
   "execution_count": 18,
   "metadata": {},
   "outputs": [
    {
     "data": {
      "text/plain": [
       "array([-3.69339891, -3.60919793, -3.52499695, -3.44079597, -3.35659499,\n",
       "       -3.27239401, -3.18819302, -3.10399204, -3.01979106, -2.93559008,\n",
       "       -2.8513891 , -2.76718812, -2.68298714, -2.59878616, -2.51458518,\n",
       "       -2.43038419, -2.34618321, -2.26198223, -2.17778125, -2.09358027,\n",
       "       -2.00937929, -1.92517831, -1.84097733, -1.75677635, -1.67257536,\n",
       "       -1.58837438, -1.5041734 , -1.41997242, -1.33577144, -1.25157046,\n",
       "       -1.16736948, -1.0831685 , -0.99896752, -0.91476653, -0.83056555,\n",
       "       -0.74636457, -0.66216359, -0.57796261, -0.49376163, -0.40956065,\n",
       "       -0.32535967, -0.24115869, -0.1569577 , -0.07275672,  0.01144426,\n",
       "        0.09564524,  0.17984622,  0.2640472 ,  0.34824818,  0.43244916,\n",
       "        0.51665014,  0.60085113,  0.68505211,  0.76925309,  0.85345407,\n",
       "        0.93765505,  1.02185603,  1.10605701,  1.19025799,  1.27445897,\n",
       "        1.35865996,  1.44286094,  1.52706192,  1.6112629 ,  1.69546388,\n",
       "        1.77966486,  1.86386584,  1.94806682,  2.0322678 ,  2.11646879,\n",
       "        2.20066977,  2.28487075,  2.36907173,  2.45327271,  2.53747369,\n",
       "        2.62167467,  2.70587565,  2.79007663,  2.87427761,  2.9584786 ,\n",
       "        3.04267958,  3.12688056,  3.21108154,  3.29528252,  3.3794835 ,\n",
       "        3.46368448,  3.54788546,  3.63208644,  3.71628743,  3.80048841,\n",
       "        3.88468939,  3.96889037,  4.05309135,  4.13729233,  4.22149331,\n",
       "        4.30569429,  4.38989527,  4.47409626,  4.55829724,  4.64249822,\n",
       "        4.7266992 ])"
      ]
     },
     "execution_count": 18,
     "metadata": {},
     "output_type": "execute_result"
    }
   ],
   "source": [
    "bins"
   ]
  },
  {
   "cell_type": "code",
   "execution_count": 19,
   "metadata": {},
   "outputs": [
    {
     "data": {
      "text/plain": [
       "(101,)"
      ]
     },
     "execution_count": 19,
     "metadata": {},
     "output_type": "execute_result"
    }
   ],
   "source": [
    "bins.shape"
   ]
  },
  {
   "cell_type": "code",
   "execution_count": 20,
   "metadata": {},
   "outputs": [
    {
     "data": {
      "text/plain": [
       "[<matplotlib.patches.Polygon at 0x1c4e5df9310>]"
      ]
     },
     "execution_count": 20,
     "metadata": {},
     "output_type": "execute_result"
    }
   ],
   "source": [
    "patches"
   ]
  },
  {
   "cell_type": "code",
   "execution_count": 21,
   "metadata": {},
   "outputs": [
    {
     "data": {
      "text/plain": [
       "[<matplotlib.patches.Polygon at 0x1c4e5df9310>]"
      ]
     },
     "execution_count": 21,
     "metadata": {},
     "output_type": "execute_result"
    }
   ],
   "source": [
    "[*patches]"
   ]
  },
  {
   "cell_type": "markdown",
   "metadata": {},
   "source": [
    "### 4. 认识数据"
   ]
  },
  {
   "cell_type": "code",
   "execution_count": 22,
   "metadata": {},
   "outputs": [],
   "source": [
    "df = pd.read_csv(\"D:\\Python_data_processing__Data_processing\\Juanjiang_And_Caicai_Visualization\\data\\mpg_ggplot2.csv\")"
   ]
  },
  {
   "cell_type": "code",
   "execution_count": 23,
   "metadata": {},
   "outputs": [
    {
     "data": {
      "text/html": [
       "<div>\n",
       "<style scoped>\n",
       "    .dataframe tbody tr th:only-of-type {\n",
       "        vertical-align: middle;\n",
       "    }\n",
       "\n",
       "    .dataframe tbody tr th {\n",
       "        vertical-align: top;\n",
       "    }\n",
       "\n",
       "    .dataframe thead th {\n",
       "        text-align: right;\n",
       "    }\n",
       "</style>\n",
       "<table border=\"1\" class=\"dataframe\">\n",
       "  <thead>\n",
       "    <tr style=\"text-align: right;\">\n",
       "      <th></th>\n",
       "      <th>manufacturer</th>\n",
       "      <th>model</th>\n",
       "      <th>displ</th>\n",
       "      <th>year</th>\n",
       "      <th>cyl</th>\n",
       "      <th>trans</th>\n",
       "      <th>drv</th>\n",
       "      <th>cty</th>\n",
       "      <th>hwy</th>\n",
       "      <th>fl</th>\n",
       "      <th>class</th>\n",
       "    </tr>\n",
       "  </thead>\n",
       "  <tbody>\n",
       "    <tr>\n",
       "      <th>0</th>\n",
       "      <td>audi</td>\n",
       "      <td>a4</td>\n",
       "      <td>1.8</td>\n",
       "      <td>1999</td>\n",
       "      <td>4</td>\n",
       "      <td>auto(l5)</td>\n",
       "      <td>f</td>\n",
       "      <td>18</td>\n",
       "      <td>29</td>\n",
       "      <td>p</td>\n",
       "      <td>compact</td>\n",
       "    </tr>\n",
       "    <tr>\n",
       "      <th>1</th>\n",
       "      <td>audi</td>\n",
       "      <td>a4</td>\n",
       "      <td>1.8</td>\n",
       "      <td>1999</td>\n",
       "      <td>4</td>\n",
       "      <td>manual(m5)</td>\n",
       "      <td>f</td>\n",
       "      <td>21</td>\n",
       "      <td>29</td>\n",
       "      <td>p</td>\n",
       "      <td>compact</td>\n",
       "    </tr>\n",
       "    <tr>\n",
       "      <th>2</th>\n",
       "      <td>audi</td>\n",
       "      <td>a4</td>\n",
       "      <td>2.0</td>\n",
       "      <td>2008</td>\n",
       "      <td>4</td>\n",
       "      <td>manual(m6)</td>\n",
       "      <td>f</td>\n",
       "      <td>20</td>\n",
       "      <td>31</td>\n",
       "      <td>p</td>\n",
       "      <td>compact</td>\n",
       "    </tr>\n",
       "    <tr>\n",
       "      <th>3</th>\n",
       "      <td>audi</td>\n",
       "      <td>a4</td>\n",
       "      <td>2.0</td>\n",
       "      <td>2008</td>\n",
       "      <td>4</td>\n",
       "      <td>auto(av)</td>\n",
       "      <td>f</td>\n",
       "      <td>21</td>\n",
       "      <td>30</td>\n",
       "      <td>p</td>\n",
       "      <td>compact</td>\n",
       "    </tr>\n",
       "    <tr>\n",
       "      <th>4</th>\n",
       "      <td>audi</td>\n",
       "      <td>a4</td>\n",
       "      <td>2.8</td>\n",
       "      <td>1999</td>\n",
       "      <td>6</td>\n",
       "      <td>auto(l5)</td>\n",
       "      <td>f</td>\n",
       "      <td>16</td>\n",
       "      <td>26</td>\n",
       "      <td>p</td>\n",
       "      <td>compact</td>\n",
       "    </tr>\n",
       "  </tbody>\n",
       "</table>\n",
       "</div>"
      ],
      "text/plain": [
       "  manufacturer model  displ  year  cyl       trans drv  cty  hwy fl    class\n",
       "0         audi    a4    1.8  1999    4    auto(l5)   f   18   29  p  compact\n",
       "1         audi    a4    1.8  1999    4  manual(m5)   f   21   29  p  compact\n",
       "2         audi    a4    2.0  2008    4  manual(m6)   f   20   31  p  compact\n",
       "3         audi    a4    2.0  2008    4    auto(av)   f   21   30  p  compact\n",
       "4         audi    a4    2.8  1999    6    auto(l5)   f   16   26  p  compact"
      ]
     },
     "execution_count": 23,
     "metadata": {},
     "output_type": "execute_result"
    }
   ],
   "source": [
    "df.head()"
   ]
  },
  {
   "cell_type": "code",
   "execution_count": 24,
   "metadata": {},
   "outputs": [
    {
     "data": {
      "text/plain": [
       "Index(['manufacturer', 'model', 'displ', 'year', 'cyl', 'trans', 'drv', 'cty',\n",
       "       'hwy', 'fl', 'class'],\n",
       "      dtype='object')"
      ]
     },
     "execution_count": 24,
     "metadata": {},
     "output_type": "execute_result"
    }
   ],
   "source": [
    "df.columns"
   ]
  },
  {
   "cell_type": "code",
   "execution_count": 25,
   "metadata": {},
   "outputs": [],
   "source": [
    "name = [\"汽车制造商\",\"型号名称\",\"发动机排量(L)\",\"制造年份\",\"气缸数量\",\"手动/自动\"\n",
    "              ,\"驱动类型\",\"城市里程/加仑\",\"公路里程/加仑\",\"汽油种类\",\"车辆种类\"]\n",
    "\n",
    "#驱动类型：四轮，前轮，后轮\n",
    "#能源种类：汽油，柴油，用电等等\n",
    "#车辆种类：皮卡，SUV，小型，中型等等\n",
    "#城市里程/加仑，公路里程/加仑：表示使用没加仑汽油能够跑的英里数，所以这个数值越大代表汽车越节能"
   ]
  },
  {
   "cell_type": "code",
   "execution_count": 26,
   "metadata": {},
   "outputs": [
    {
     "data": {
      "text/plain": [
       "[('manufacturer', '汽车制造商'),\n",
       " ('model', '型号名称'),\n",
       " ('displ', '发动机排量(L)'),\n",
       " ('year', '制造年份'),\n",
       " ('cyl', '气缸数量'),\n",
       " ('trans', '手动/自动'),\n",
       " ('drv', '驱动类型'),\n",
       " ('cty', '城市里程/加仑'),\n",
       " ('hwy', '公路里程/加仑'),\n",
       " ('fl', '汽油种类'),\n",
       " ('class', '车辆种类')]"
      ]
     },
     "execution_count": 26,
     "metadata": {},
     "output_type": "execute_result"
    }
   ],
   "source": [
    "[*zip(df.columns.values,np.array(name))]"
   ]
  },
  {
   "cell_type": "markdown",
   "metadata": {},
   "source": [
    "### 5. 绘制图像，代码详解"
   ]
  },
  {
   "cell_type": "markdown",
   "metadata": {},
   "source": [
    "<img src=\"http://pictes.oss-cn-beijing.aliyuncs.com/microclass-virtualisation/week1correlation/plt.GridSpec%E5%9C%A8%E5%B9%B2%E5%95%A5.PNG\" align=\"center\" />"
   ]
  },
  {
   "cell_type": "code",
   "execution_count": 49,
   "metadata": {},
   "outputs": [
    {
     "name": "stderr",
     "output_type": "stream",
     "text": [
      "<ipython-input-49-1da402c88f36>:40: UserWarning: FixedFormatter should only be used together with FixedLocator\n",
      "  ax_main.set_xticklabels(xlabels) #再将带一位小数的浮点数变成标尺\n"
     ]
    },
    {
     "data": {
      "image/png": "[encoded data removed]",
      "text/plain": [
       "<Figure size 1280x800 with 3 Axes>"
      ]
     },
     "metadata": {},
     "output_type": "display_data"
    }
   ],
   "source": [
    "#分割画布\n",
    "fig = plt.figure(figsize=(16, 10), dpi=80,facecolor=\"white\")\n",
    "grid = plt.GridSpec(4, 4, hspace=0.5, wspace=0.2)\n",
    "\n",
    "#在分割完毕的画布上确认子图的位置\n",
    "ax_main = fig.add_subplot(grid[:-1, :-1])\n",
    "ax_right = fig.add_subplot(grid[:-1, -1], xticklabels=[], yticklabels=[])\n",
    "ax_bottom = fig.add_subplot(grid[-1, 0:-1], xticklabels=[], yticklabels=[])\n",
    "\n",
    "#在中心绘制气泡图\n",
    "ax_main.scatter('displ', 'hwy'\n",
    "                , s=df.cty*4 #设置尺寸以影响气泡图，这里是城市里程/加仑\n",
    "                , data=df\n",
    "                , c=df.manufacturer.astype('category').cat.codes #这是按类别编码的一种写法\n",
    "                , cmap=\"tab20\" #colormap可以根据自己喜欢的随意修改\n",
    "                , edgecolors='gray', linewidths=.5, alpha=.9)\n",
    "\n",
    "#绘制底部的直方图\n",
    "ax_bottom.hist(df.displ, 40, histtype='stepfilled', orientation='vertical', color='deeppink')\n",
    "ax_bottom.invert_yaxis() #让y轴反向，为了美观所以让分布形成朝下的分布\n",
    "\n",
    "#绘制右边的直方图\n",
    "ax_right.hist(df.hwy, 40, histtype='stepfilled', orientation='horizontal', color='deeppink')\n",
    "\n",
    "#装饰图像\n",
    "plt.rcParams['font.sans-serif']=['Simhei']\n",
    "ax_main.set(title='边缘直方图 \\n 发动机排量 vs 公路里程/加仑'\n",
    "            , xlabel='发动机排量(L)'\n",
    "            , ylabel='公里路程/加仑')#设置标题，横坐标轴和纵坐标轴的名称\n",
    "ax_main.title.set_fontsize(20) #对标题设置字体大小\n",
    "\n",
    "for item in ([ax_main.xaxis.label, ax_main.yaxis.label] + ax_main.get_xticklabels() + ax_main.get_yticklabels()):\n",
    "    item.set_fontsize(14) #对所有横坐标纵坐标上的标题和标尺都设置字体\n",
    "\n",
    "for item in [ax_bottom,ax_right]:\n",
    "    item.set_xticks([])\n",
    "    item.set_yticks([]) #去掉两个直方图上的标尺\n",
    "    \n",
    "xlabels = ax_main.get_xticks().tolist() #将现有的标尺取出来，转化为带一位小数的浮点数\n",
    "ax_main.set_xticklabels(xlabels) #再将带一位小数的浮点数变成标尺\n",
    "plt.show()"
   ]
  },
  {
   "cell_type": "code",
   "execution_count": 33,
   "metadata": {},
   "outputs": [
    {
     "data": {
      "text/plain": [
       "Text(0.5, 1.0, '边缘直方图 \\n 发动机排量 vs 公路里程/加仑')"
      ]
     },
     "execution_count": 33,
     "metadata": {},
     "output_type": "execute_result"
    }
   ],
   "source": [
    "ax_main.title #标题的位置 + 标题的内容"
   ]
  },
  {
   "cell_type": "code",
   "execution_count": 27,
   "metadata": {},
   "outputs": [
    {
     "data": {
      "text/plain": [
       "0            audi\n",
       "1            audi\n",
       "2            audi\n",
       "3            audi\n",
       "4            audi\n",
       "          ...    \n",
       "229    volkswagen\n",
       "230    volkswagen\n",
       "231    volkswagen\n",
       "232    volkswagen\n",
       "233    volkswagen\n",
       "Name: manufacturer, Length: 234, dtype: object"
      ]
     },
     "execution_count": 27,
     "metadata": {},
     "output_type": "execute_result"
    }
   ],
   "source": [
    "df.manufacturer"
   ]
  },
  {
   "cell_type": "code",
   "execution_count": 28,
   "metadata": {},
   "outputs": [
    {
     "data": {
      "text/plain": [
       "0            audi\n",
       "1            audi\n",
       "2            audi\n",
       "3            audi\n",
       "4            audi\n",
       "          ...    \n",
       "229    volkswagen\n",
       "230    volkswagen\n",
       "231    volkswagen\n",
       "232    volkswagen\n",
       "233    volkswagen\n",
       "Name: manufacturer, Length: 234, dtype: category\n",
       "Categories (15, object): ['audi', 'chevrolet', 'dodge', 'ford', ..., 'pontiac', 'subaru', 'toyota', 'volkswagen']"
      ]
     },
     "execution_count": 28,
     "metadata": {},
     "output_type": "execute_result"
    }
   ],
   "source": [
    "df.manufacturer.astype('category')"
   ]
  },
  {
   "cell_type": "code",
   "execution_count": 30,
   "metadata": {},
   "outputs": [
    {
     "data": {
      "text/plain": [
       "<pandas.core.arrays.categorical.CategoricalAccessor object at 0x000001C4E5E79A30>"
      ]
     },
     "execution_count": 30,
     "metadata": {},
     "output_type": "execute_result"
    }
   ],
   "source": [
    "df.manufacturer.astype('category').cat"
   ]
  },
  {
   "cell_type": "code",
   "execution_count": 31,
   "metadata": {},
   "outputs": [
    {
     "data": {
      "text/plain": [
       "0       0\n",
       "1       0\n",
       "2       0\n",
       "3       0\n",
       "4       0\n",
       "       ..\n",
       "229    14\n",
       "230    14\n",
       "231    14\n",
       "232    14\n",
       "233    14\n",
       "Length: 234, dtype: int8"
      ]
     },
     "execution_count": 31,
     "metadata": {},
     "output_type": "execute_result"
    }
   ],
   "source": [
    "df.manufacturer.astype('category').cat.codes #常用的编码方式"
   ]
  },
  {
   "cell_type": "code",
   "execution_count": 39,
   "metadata": {},
   "outputs": [
    {
     "data": {
      "text/plain": [
       "[Text(0.5, 152.39393939393932, '发动机排量(L)'),\n",
       " Text(22.921875000000007, 0.5, '公里路程/加仑'),\n",
       " Text(1.0, 0, '1.0'),\n",
       " Text(2.0, 0, '2.0'),\n",
       " Text(3.0, 0, '3.0'),\n",
       " Text(4.0, 0, '4.0'),\n",
       " Text(5.0, 0, '5.0'),\n",
       " Text(6.0, 0, '6.0'),\n",
       " Text(7.0, 0, '7.0'),\n",
       " Text(8.0, 0, '8.0'),\n",
       " Text(0, 10.0, '10'),\n",
       " Text(0, 15.0, '15'),\n",
       " Text(0, 20.0, '20'),\n",
       " Text(0, 25.0, '25'),\n",
       " Text(0, 30.0, '30'),\n",
       " Text(0, 35.0, '35'),\n",
       " Text(0, 40.0, '40'),\n",
       " Text(0, 45.0, '45'),\n",
       " Text(0, 50.0, '50')]"
      ]
     },
     "execution_count": 39,
     "metadata": {},
     "output_type": "execute_result"
    }
   ],
   "source": [
    "([ax_main.xaxis.label, ax_main.yaxis.label] + ax_main.get_xticklabels() + ax_main.get_yticklabels())"
   ]
  },
  {
   "cell_type": "code",
   "execution_count": 34,
   "metadata": {},
   "outputs": [
    {
     "data": {
      "text/plain": [
       "Text(0.5, 152.39393939393932, '发动机排量(L)')"
      ]
     },
     "execution_count": 34,
     "metadata": {},
     "output_type": "execute_result"
    }
   ],
   "source": [
    "ax_main.xaxis.label #提取出我们的X轴的标签"
   ]
  },
  {
   "cell_type": "code",
   "execution_count": 35,
   "metadata": {},
   "outputs": [
    {
     "data": {
      "text/plain": [
       "Text(22.921875000000007, 0.5, '公里路程/加仑')"
      ]
     },
     "execution_count": 35,
     "metadata": {},
     "output_type": "execute_result"
    }
   ],
   "source": [
    "ax_main.yaxis.label"
   ]
  },
  {
   "cell_type": "code",
   "execution_count": 36,
   "metadata": {},
   "outputs": [
    {
     "data": {
      "text/plain": [
       "[Text(0.5, 152.39393939393932, '发动机排量(L)'),\n",
       " Text(22.921875000000007, 0.5, '公里路程/加仑')]"
      ]
     },
     "execution_count": 36,
     "metadata": {},
     "output_type": "execute_result"
    }
   ],
   "source": [
    "[ax_main.xaxis.label, ax_main.yaxis.label]"
   ]
  },
  {
   "cell_type": "code",
   "execution_count": 37,
   "metadata": {},
   "outputs": [
    {
     "data": {
      "text/plain": [
       "[Text(1.0, 0, '1.0'),\n",
       " Text(2.0, 0, '2.0'),\n",
       " Text(3.0, 0, '3.0'),\n",
       " Text(4.0, 0, '4.0'),\n",
       " Text(5.0, 0, '5.0'),\n",
       " Text(6.0, 0, '6.0'),\n",
       " Text(7.0, 0, '7.0'),\n",
       " Text(8.0, 0, '8.0')]"
      ]
     },
     "execution_count": 37,
     "metadata": {},
     "output_type": "execute_result"
    }
   ],
   "source": [
    "ax_main.get_xticklabels()"
   ]
  },
  {
   "cell_type": "code",
   "execution_count": 38,
   "metadata": {},
   "outputs": [
    {
     "data": {
      "text/plain": [
       "[Text(1.0, 0, '1.0'),\n",
       " Text(2.0, 0, '2.0'),\n",
       " Text(3.0, 0, '3.0'),\n",
       " Text(4.0, 0, '4.0'),\n",
       " Text(5.0, 0, '5.0'),\n",
       " Text(6.0, 0, '6.0'),\n",
       " Text(7.0, 0, '7.0'),\n",
       " Text(8.0, 0, '8.0'),\n",
       " Text(0, 10.0, '10'),\n",
       " Text(0, 15.0, '15'),\n",
       " Text(0, 20.0, '20'),\n",
       " Text(0, 25.0, '25'),\n",
       " Text(0, 30.0, '30'),\n",
       " Text(0, 35.0, '35'),\n",
       " Text(0, 40.0, '40'),\n",
       " Text(0, 45.0, '45'),\n",
       " Text(0, 50.0, '50')]"
      ]
     },
     "execution_count": 38,
     "metadata": {},
     "output_type": "execute_result"
    }
   ],
   "source": [
    "ax_main.get_xticklabels() + ax_main.get_yticklabels() #前两个数字表示位置，最后表示我们设定的标签"
   ]
  },
  {
   "cell_type": "code",
   "execution_count": 44,
   "metadata": {},
   "outputs": [
    {
     "data": {
      "text/plain": [
       "[1.0, 2.0, 3.0, 4.0, 5.0, 6.0, 7.0, 8.0]"
      ]
     },
     "execution_count": 44,
     "metadata": {},
     "output_type": "execute_result"
    }
   ],
   "source": [
    "ax_main.get_xticks().tolist()"
   ]
  },
  {
   "cell_type": "markdown",
   "metadata": {},
   "source": [
    "### 6. 解读图像"
   ]
  },
  {
   "cell_type": "markdown",
   "metadata": {},
   "source": [
    "<img src=\"http://pictes.oss-cn-beijing.aliyuncs.com/microclass-virtualisation/week1correlation/line4.png\" align=\"center\" />"
   ]
  },
  {
   "cell_type": "markdown",
   "metadata": {},
   "source": [
    "### 07/50 边缘箱线图"
   ]
  },
  {
   "cell_type": "markdown",
   "metadata": {},
   "source": [
    "边缘箱线图是在散点图的边缘分别画上对横纵坐标的箱线图，以对原始的散点图进行补充的图像。  "
   ]
  },
  {
   "cell_type": "markdown",
   "metadata": {},
   "source": [
    "<img src=\"http://pictes.oss-cn-beijing.aliyuncs.com/microclass-virtualisation/week1correlation/07%20%E7%AE%B1%E7%BA%BF%E5%9B%BE.PNG\" align=\"center\" />"
   ]
  },
  {
   "cell_type": "markdown",
   "metadata": {},
   "source": [
    "横坐标：发动机排量(L)<br>\n",
    "纵坐标：公路里程/加仑  \n",
    "虽然没有显示图例不过散点有颜色：制造商"
   ]
  },
  {
   "cell_type": "markdown",
   "metadata": {},
   "source": [
    "### 1. 导入需要的绘图库"
   ]
  },
  {
   "cell_type": "code",
   "execution_count": 51,
   "metadata": {},
   "outputs": [],
   "source": [
    "import numpy as np\n",
    "import pandas as pd\n",
    "import matplotlib as mpl\n",
    "import matplotlib.pyplot as plt\n",
    "import seaborn as sns\n",
    "%matplotlib inline"
   ]
  },
  {
   "cell_type": "markdown",
   "metadata": {},
   "source": [
    "### 2. 认识箱线图及绘制箱线图的函数"
   ]
  },
  {
   "cell_type": "markdown",
   "metadata": {},
   "source": [
    "箱线图，又叫做箱型图，箱图，是一种用于显示一个变量分布情况的统计图。其核心作用和直方图类似，我们在统计学和机器学习中也使用它来观察数据是否处于偏态，只不过直方图更著重于看到数据在整个取值区间上的分布，而箱线图更着重于观察变量上的重要分割点。箱线图能够精确地显示有关数据分布的关键数据节点，因此也常被用来作为查找异常值的方式。  \n",
    "  \n",
    "认识箱线图的第一步是学会阅读箱线图："
   ]
  },
  {
   "cell_type": "markdown",
   "metadata": {},
   "source": [
    "<img src=\"http://pictes.oss-cn-beijing.aliyuncs.com/microclass-virtualisation/week1correlation/%E7%AE%B1%E7%BA%BF%E5%9B%BE.PNG\" align=\"center\" />"
   ]
  },
  {
   "cell_type": "markdown",
   "metadata": {},
   "source": [
    "其中上四分位数就是直方图中占75%数据量的位置，下四分位数就是直方图中占25%数据量的位置。但这些在分布上代表了什么含义呢？"
   ]
  },
  {
   "cell_type": "markdown",
   "metadata": {},
   "source": [
    "### **箱线图 vs 直方图**"
   ]
  },
  {
   "cell_type": "markdown",
   "metadata": {},
   "source": [
    "直方图和箱线图都表达数据的分布，从下面的图可以看出来，两者是一一对应的。  \n",
    "当直方图的分布越接近正太分布，箱线图也会越对称  \n",
    "直方图的柱子较高较多的地方，就会是箱线图的箱子所在的地方  \n",
    "箱线图所显示的中位数一般都会非常接近直方图中最高的柱子（毕竟这个取值范围内的样本点最多）"
   ]
  },
  {
   "cell_type": "markdown",
   "metadata": {},
   "source": [
    "<img src=\"http://pictes.oss-cn-beijing.aliyuncs.com/microclass-virtualisation/week1correlation/%E7%9B%B4%E6%96%B9%E5%9B%BEvs%E7%AE%B1%E7%BA%BF%E5%9B%BE.PNG\" align=\"center\" />"
   ]
  },
  {
   "cell_type": "markdown",
   "metadata": {},
   "source": [
    "#### **sns.boxplot()**"
   ]
  },
  {
   "cell_type": "markdown",
   "metadata": {},
   "source": [
    "> **重要参数**\n",
    ">> x ：需要绘制箱线图的变量  \n",
    ">> ax ：需要绘制箱线图的子图  \n",
    ">> orient ：箱线图的方向，可选填\"v\"或者\"h\"来决定箱线图的方向  \n",
    ">> meanline ：是否显示均值线  "
   ]
  },
  {
   "cell_type": "code",
   "execution_count": 55,
   "metadata": {},
   "outputs": [],
   "source": [
    "#正态分布下的随机数\n",
    "# X = np.random.randn(1000)\n",
    "#严重偏态分布下的随机数\n",
    "X = np.random.randint(0,300,50).tolist() + np.random.randint(300,800,50).tolist() + np.random.randint(800,1000,900).tolist() "
   ]
  },
  {
   "cell_type": "code",
   "execution_count": 56,
   "metadata": {
    "collapsed": true,
    "jupyter": {
     "outputs_hidden": true
    }
   },
   "outputs": [
    {
     "data": {
      "text/plain": [
       "[264,\n",
       " 108,\n",
       " 185,\n",
       " 92,\n",
       " 129,\n",
       " 69,\n",
       " 2,\n",
       " 34,\n",
       " 245,\n",
       " 272,\n",
       " 138,\n",
       " 91,\n",
       " 108,\n",
       " 148,\n",
       " 107,\n",
       " 36,\n",
       " 213,\n",
       " 66,\n",
       " 67,\n",
       " 244,\n",
       " 194,\n",
       " 204,\n",
       " 269,\n",
       " 188,\n",
       " 184,\n",
       " 5,\n",
       " 190,\n",
       " 17,\n",
       " 298,\n",
       " 208,\n",
       " 164,\n",
       " 141,\n",
       " 224,\n",
       " 90,\n",
       " 91,\n",
       " 295,\n",
       " 183,\n",
       " 8,\n",
       " 196,\n",
       " 205,\n",
       " 60,\n",
       " 239,\n",
       " 170,\n",
       " 74,\n",
       " 269,\n",
       " 109,\n",
       " 110,\n",
       " 275,\n",
       " 49,\n",
       " 241,\n",
       " 499,\n",
       " 621,\n",
       " 788,\n",
       " 501,\n",
       " 515,\n",
       " 664,\n",
       " 546,\n",
       " 361,\n",
       " 393,\n",
       " 371,\n",
       " 711,\n",
       " 311,\n",
       " 420,\n",
       " 790,\n",
       " 460,\n",
       " 785,\n",
       " 444,\n",
       " 461,\n",
       " 576,\n",
       " 790,\n",
       " 709,\n",
       " 621,\n",
       " 427,\n",
       " 440,\n",
       " 687,\n",
       " 501,\n",
       " 670,\n",
       " 432,\n",
       " 356,\n",
       " 635,\n",
       " 460,\n",
       " 338,\n",
       " 463,\n",
       " 461,\n",
       " 353,\n",
       " 376,\n",
       " 337,\n",
       " 511,\n",
       " 418,\n",
       " 721,\n",
       " 696,\n",
       " 488,\n",
       " 513,\n",
       " 733,\n",
       " 349,\n",
       " 428,\n",
       " 372,\n",
       " 789,\n",
       " 386,\n",
       " 741,\n",
       " 974,\n",
       " 962,\n",
       " 949,\n",
       " 862,\n",
       " 852,\n",
       " 989,\n",
       " 985,\n",
       " 857,\n",
       " 869,\n",
       " 808,\n",
       " 995,\n",
       " 932,\n",
       " 909,\n",
       " 969,\n",
       " 910,\n",
       " 834,\n",
       " 837,\n",
       " 947,\n",
       " 872,\n",
       " 861,\n",
       " 818,\n",
       " 876,\n",
       " 989,\n",
       " 893,\n",
       " 905,\n",
       " 829,\n",
       " 895,\n",
       " 974,\n",
       " 983,\n",
       " 830,\n",
       " 849,\n",
       " 809,\n",
       " 975,\n",
       " 938,\n",
       " 851,\n",
       " 850,\n",
       " 856,\n",
       " 965,\n",
       " 918,\n",
       " 855,\n",
       " 956,\n",
       " 831,\n",
       " 957,\n",
       " 826,\n",
       " 864,\n",
       " 964,\n",
       " 991,\n",
       " 815,\n",
       " 863,\n",
       " 938,\n",
       " 986,\n",
       " 901,\n",
       " 980,\n",
       " 893,\n",
       " 870,\n",
       " 847,\n",
       " 955,\n",
       " 949,\n",
       " 959,\n",
       " 930,\n",
       " 962,\n",
       " 858,\n",
       " 968,\n",
       " 886,\n",
       " 853,\n",
       " 989,\n",
       " 985,\n",
       " 818,\n",
       " 809,\n",
       " 859,\n",
       " 862,\n",
       " 963,\n",
       " 845,\n",
       " 888,\n",
       " 959,\n",
       " 976,\n",
       " 818,\n",
       " 809,\n",
       " 987,\n",
       " 815,\n",
       " 833,\n",
       " 926,\n",
       " 991,\n",
       " 866,\n",
       " 838,\n",
       " 983,\n",
       " 951,\n",
       " 897,\n",
       " 834,\n",
       " 963,\n",
       " 965,\n",
       " 809,\n",
       " 872,\n",
       " 825,\n",
       " 930,\n",
       " 948,\n",
       " 980,\n",
       " 850,\n",
       " 804,\n",
       " 955,\n",
       " 880,\n",
       " 983,\n",
       " 853,\n",
       " 871,\n",
       " 948,\n",
       " 999,\n",
       " 977,\n",
       " 808,\n",
       " 896,\n",
       " 956,\n",
       " 860,\n",
       " 970,\n",
       " 860,\n",
       " 863,\n",
       " 970,\n",
       " 953,\n",
       " 881,\n",
       " 943,\n",
       " 820,\n",
       " 921,\n",
       " 967,\n",
       " 842,\n",
       " 842,\n",
       " 875,\n",
       " 948,\n",
       " 964,\n",
       " 807,\n",
       " 843,\n",
       " 983,\n",
       " 890,\n",
       " 826,\n",
       " 870,\n",
       " 808,\n",
       " 865,\n",
       " 834,\n",
       " 991,\n",
       " 843,\n",
       " 928,\n",
       " 868,\n",
       " 865,\n",
       " 922,\n",
       " 871,\n",
       " 868,\n",
       " 891,\n",
       " 922,\n",
       " 891,\n",
       " 896,\n",
       " 947,\n",
       " 807,\n",
       " 882,\n",
       " 998,\n",
       " 943,\n",
       " 967,\n",
       " 882,\n",
       " 843,\n",
       " 942,\n",
       " 806,\n",
       " 910,\n",
       " 842,\n",
       " 860,\n",
       " 844,\n",
       " 927,\n",
       " 952,\n",
       " 944,\n",
       " 876,\n",
       " 825,\n",
       " 807,\n",
       " 874,\n",
       " 984,\n",
       " 846,\n",
       " 903,\n",
       " 882,\n",
       " 970,\n",
       " 946,\n",
       " 831,\n",
       " 811,\n",
       " 823,\n",
       " 870,\n",
       " 955,\n",
       " 872,\n",
       " 843,\n",
       " 805,\n",
       " 899,\n",
       " 858,\n",
       " 873,\n",
       " 957,\n",
       " 902,\n",
       " 972,\n",
       " 866,\n",
       " 963,\n",
       " 813,\n",
       " 887,\n",
       " 981,\n",
       " 963,\n",
       " 945,\n",
       " 944,\n",
       " 952,\n",
       " 996,\n",
       " 986,\n",
       " 911,\n",
       " 809,\n",
       " 962,\n",
       " 947,\n",
       " 871,\n",
       " 836,\n",
       " 927,\n",
       " 993,\n",
       " 926,\n",
       " 871,\n",
       " 946,\n",
       " 858,\n",
       " 851,\n",
       " 915,\n",
       " 804,\n",
       " 880,\n",
       " 809,\n",
       " 948,\n",
       " 940,\n",
       " 902,\n",
       " 979,\n",
       " 938,\n",
       " 992,\n",
       " 887,\n",
       " 846,\n",
       " 978,\n",
       " 834,\n",
       " 893,\n",
       " 814,\n",
       " 976,\n",
       " 867,\n",
       " 850,\n",
       " 977,\n",
       " 916,\n",
       " 964,\n",
       " 886,\n",
       " 884,\n",
       " 976,\n",
       " 903,\n",
       " 918,\n",
       " 960,\n",
       " 877,\n",
       " 988,\n",
       " 945,\n",
       " 860,\n",
       " 921,\n",
       " 959,\n",
       " 824,\n",
       " 858,\n",
       " 902,\n",
       " 810,\n",
       " 835,\n",
       " 989,\n",
       " 996,\n",
       " 862,\n",
       " 865,\n",
       " 945,\n",
       " 965,\n",
       " 885,\n",
       " 886,\n",
       " 984,\n",
       " 892,\n",
       " 824,\n",
       " 842,\n",
       " 975,\n",
       " 987,\n",
       " 868,\n",
       " 917,\n",
       " 946,\n",
       " 975,\n",
       " 846,\n",
       " 920,\n",
       " 862,\n",
       " 920,\n",
       " 903,\n",
       " 926,\n",
       " 910,\n",
       " 979,\n",
       " 982,\n",
       " 848,\n",
       " 871,\n",
       " 947,\n",
       " 947,\n",
       " 938,\n",
       " 829,\n",
       " 935,\n",
       " 836,\n",
       " 993,\n",
       " 891,\n",
       " 958,\n",
       " 933,\n",
       " 856,\n",
       " 978,\n",
       " 881,\n",
       " 949,\n",
       " 939,\n",
       " 986,\n",
       " 905,\n",
       " 963,\n",
       " 899,\n",
       " 808,\n",
       " 904,\n",
       " 988,\n",
       " 900,\n",
       " 971,\n",
       " 808,\n",
       " 990,\n",
       " 940,\n",
       " 845,\n",
       " 968,\n",
       " 829,\n",
       " 916,\n",
       " 878,\n",
       " 846,\n",
       " 849,\n",
       " 879,\n",
       " 930,\n",
       " 804,\n",
       " 803,\n",
       " 952,\n",
       " 940,\n",
       " 874,\n",
       " 825,\n",
       " 818,\n",
       " 829,\n",
       " 890,\n",
       " 806,\n",
       " 801,\n",
       " 835,\n",
       " 984,\n",
       " 989,\n",
       " 945,\n",
       " 860,\n",
       " 978,\n",
       " 868,\n",
       " 921,\n",
       " 805,\n",
       " 815,\n",
       " 895,\n",
       " 944,\n",
       " 945,\n",
       " 859,\n",
       " 935,\n",
       " 953,\n",
       " 870,\n",
       " 979,\n",
       " 800,\n",
       " 865,\n",
       " 876,\n",
       " 846,\n",
       " 992,\n",
       " 959,\n",
       " 963,\n",
       " 909,\n",
       " 961,\n",
       " 956,\n",
       " 992,\n",
       " 995,\n",
       " 850,\n",
       " 991,\n",
       " 918,\n",
       " 953,\n",
       " 961,\n",
       " 877,\n",
       " 976,\n",
       " 926,\n",
       " 922,\n",
       " 977,\n",
       " 947,\n",
       " 880,\n",
       " 896,\n",
       " 817,\n",
       " 811,\n",
       " 899,\n",
       " 822,\n",
       " 804,\n",
       " 941,\n",
       " 873,\n",
       " 920,\n",
       " 998,\n",
       " 996,\n",
       " 946,\n",
       " 870,\n",
       " 945,\n",
       " 824,\n",
       " 897,\n",
       " 873,\n",
       " 893,\n",
       " 916,\n",
       " 834,\n",
       " 876,\n",
       " 932,\n",
       " 803,\n",
       " 973,\n",
       " 940,\n",
       " 919,\n",
       " 885,\n",
       " 968,\n",
       " 809,\n",
       " 906,\n",
       " 865,\n",
       " 942,\n",
       " 810,\n",
       " 842,\n",
       " 839,\n",
       " 949,\n",
       " 970,\n",
       " 808,\n",
       " 811,\n",
       " 988,\n",
       " 960,\n",
       " 939,\n",
       " 856,\n",
       " 973,\n",
       " 902,\n",
       " 863,\n",
       " 975,\n",
       " 916,\n",
       " 884,\n",
       " 843,\n",
       " 934,\n",
       " 864,\n",
       " 917,\n",
       " 976,\n",
       " 850,\n",
       " 981,\n",
       " 841,\n",
       " 986,\n",
       " 843,\n",
       " 987,\n",
       " 941,\n",
       " 823,\n",
       " 801,\n",
       " 819,\n",
       " 894,\n",
       " 870,\n",
       " 840,\n",
       " 918,\n",
       " 919,\n",
       " 962,\n",
       " 992,\n",
       " 899,\n",
       " 963,\n",
       " 888,\n",
       " 844,\n",
       " 896,\n",
       " 934,\n",
       " 924,\n",
       " 977,\n",
       " 962,\n",
       " 824,\n",
       " 931,\n",
       " 973,\n",
       " 915,\n",
       " 800,\n",
       " 977,\n",
       " 807,\n",
       " 842,\n",
       " 847,\n",
       " 961,\n",
       " 840,\n",
       " 984,\n",
       " 813,\n",
       " 856,\n",
       " 972,\n",
       " 852,\n",
       " 851,\n",
       " 951,\n",
       " 952,\n",
       " 959,\n",
       " 807,\n",
       " 833,\n",
       " 857,\n",
       " 988,\n",
       " 849,\n",
       " 987,\n",
       " 963,\n",
       " 847,\n",
       " 922,\n",
       " 918,\n",
       " 951,\n",
       " 918,\n",
       " 966,\n",
       " 994,\n",
       " 987,\n",
       " 963,\n",
       " 903,\n",
       " 823,\n",
       " 887,\n",
       " 848,\n",
       " 832,\n",
       " 892,\n",
       " 870,\n",
       " 809,\n",
       " 962,\n",
       " 870,\n",
       " 925,\n",
       " 825,\n",
       " 887,\n",
       " 939,\n",
       " 912,\n",
       " 962,\n",
       " 972,\n",
       " 912,\n",
       " 867,\n",
       " 879,\n",
       " 950,\n",
       " 946,\n",
       " 873,\n",
       " 913,\n",
       " 996,\n",
       " 997,\n",
       " 946,\n",
       " 998,\n",
       " 904,\n",
       " 862,\n",
       " 937,\n",
       " 907,\n",
       " 935,\n",
       " 934,\n",
       " 805,\n",
       " 822,\n",
       " 884,\n",
       " 804,\n",
       " 969,\n",
       " 930,\n",
       " 901,\n",
       " 950,\n",
       " 920,\n",
       " 988,\n",
       " 889,\n",
       " 819,\n",
       " 989,\n",
       " 896,\n",
       " 885,\n",
       " 993,\n",
       " 897,\n",
       " 850,\n",
       " 917,\n",
       " 980,\n",
       " 835,\n",
       " 992,\n",
       " 925,\n",
       " 841,\n",
       " 810,\n",
       " 800,\n",
       " 980,\n",
       " 941,\n",
       " 978,\n",
       " 851,\n",
       " 845,\n",
       " 934,\n",
       " 911,\n",
       " 811,\n",
       " 964,\n",
       " 912,\n",
       " 944,\n",
       " 930,\n",
       " 966,\n",
       " 968,\n",
       " 934,\n",
       " 871,\n",
       " 910,\n",
       " 862,\n",
       " 875,\n",
       " 873,\n",
       " 861,\n",
       " 927,\n",
       " 960,\n",
       " 914,\n",
       " 891,\n",
       " 839,\n",
       " 801,\n",
       " 982,\n",
       " 889,\n",
       " 920,\n",
       " 878,\n",
       " 971,\n",
       " 975,\n",
       " 951,\n",
       " 825,\n",
       " 972,\n",
       " 899,\n",
       " 897,\n",
       " 974,\n",
       " 870,\n",
       " 847,\n",
       " 931,\n",
       " 969,\n",
       " 817,\n",
       " 923,\n",
       " 966,\n",
       " 828,\n",
       " 896,\n",
       " 868,\n",
       " 844,\n",
       " 878,\n",
       " 998,\n",
       " 946,\n",
       " 969,\n",
       " 818,\n",
       " 824,\n",
       " 822,\n",
       " 963,\n",
       " 945,\n",
       " 958,\n",
       " 908,\n",
       " 967,\n",
       " 884,\n",
       " 861,\n",
       " 850,\n",
       " 926,\n",
       " 808,\n",
       " 934,\n",
       " 992,\n",
       " 856,\n",
       " 930,\n",
       " 840,\n",
       " 999,\n",
       " 932,\n",
       " 868,\n",
       " 859,\n",
       " 918,\n",
       " 931,\n",
       " 966,\n",
       " 897,\n",
       " 958,\n",
       " 885,\n",
       " 957,\n",
       " 885,\n",
       " 963,\n",
       " 943,\n",
       " 910,\n",
       " 870,\n",
       " 958,\n",
       " 980,\n",
       " 823,\n",
       " 907,\n",
       " 816,\n",
       " 905,\n",
       " 885,\n",
       " 812,\n",
       " 838,\n",
       " 992,\n",
       " 824,\n",
       " 969,\n",
       " 946,\n",
       " 946,\n",
       " 989,\n",
       " 905,\n",
       " 808,\n",
       " 974,\n",
       " 875,\n",
       " 810,\n",
       " 924,\n",
       " 941,\n",
       " 996,\n",
       " 928,\n",
       " 964,\n",
       " 961,\n",
       " 818,\n",
       " 878,\n",
       " 980,\n",
       " 972,\n",
       " 853,\n",
       " 979,\n",
       " 825,\n",
       " 913,\n",
       " 964,\n",
       " 907,\n",
       " 903,\n",
       " 949,\n",
       " 926,\n",
       " 909,\n",
       " 896,\n",
       " 832,\n",
       " 947,\n",
       " 812,\n",
       " 990,\n",
       " 982,\n",
       " 939,\n",
       " 944,\n",
       " 949,\n",
       " 997,\n",
       " 861,\n",
       " 881,\n",
       " 934,\n",
       " 850,\n",
       " 932,\n",
       " 943,\n",
       " 823,\n",
       " 914,\n",
       " 828,\n",
       " 987,\n",
       " 909,\n",
       " 818,\n",
       " 838,\n",
       " 910,\n",
       " 997,\n",
       " 947,\n",
       " 842,\n",
       " 931,\n",
       " 808,\n",
       " 998,\n",
       " 976,\n",
       " 823,\n",
       " 926,\n",
       " 866,\n",
       " 912,\n",
       " 891,\n",
       " 887,\n",
       " 851,\n",
       " 892,\n",
       " 809,\n",
       " 997,\n",
       " 993,\n",
       " 954,\n",
       " 958,\n",
       " 842,\n",
       " 845,\n",
       " 975,\n",
       " 898,\n",
       " 811,\n",
       " 930,\n",
       " 930,\n",
       " 815,\n",
       " 901,\n",
       " 927,\n",
       " 890,\n",
       " 979,\n",
       " 870,\n",
       " 816,\n",
       " 962,\n",
       " 939,\n",
       " 921,\n",
       " 866,\n",
       " 948,\n",
       " 909,\n",
       " 850,\n",
       " 930,\n",
       " 849,\n",
       " 995,\n",
       " 911,\n",
       " 942,\n",
       " 929,\n",
       " 935,\n",
       " 830,\n",
       " 818,\n",
       " 826,\n",
       " 829,\n",
       " 830,\n",
       " 902,\n",
       " 967,\n",
       " 903,\n",
       " 933,\n",
       " 889,\n",
       " 989,\n",
       " 800,\n",
       " 849,\n",
       " 901,\n",
       " 857,\n",
       " 982,\n",
       " 977,\n",
       " 989,\n",
       " 888,\n",
       " 884,\n",
       " 879,\n",
       " 814,\n",
       " 844,\n",
       " 841,\n",
       " 827,\n",
       " 971,\n",
       " 826,\n",
       " 988,\n",
       " 940,\n",
       " 996,\n",
       " 969,\n",
       " 951,\n",
       " 933,\n",
       " 901,\n",
       " 939,\n",
       " 902,\n",
       " 861,\n",
       " 861,\n",
       " 833,\n",
       " 976,\n",
       " 981,\n",
       " 810,\n",
       " 894,\n",
       " 939,\n",
       " 915,\n",
       " 851,\n",
       " 828,\n",
       " 837,\n",
       " 873,\n",
       " 955,\n",
       " 818,\n",
       " 851,\n",
       " 833,\n",
       " 933,\n",
       " 847,\n",
       " 933,\n",
       " 845,\n",
       " 926,\n",
       " 962,\n",
       " 965,\n",
       " 919,\n",
       " 954,\n",
       " 953,\n",
       " 924,\n",
       " 860,\n",
       " 986,\n",
       " 874,\n",
       " 806,\n",
       " 828,\n",
       " 893,\n",
       " 847,\n",
       " 975,\n",
       " 972,\n",
       " 987,\n",
       " 852,\n",
       " 919,\n",
       " 924,\n",
       " 977,\n",
       " 933,\n",
       " 908,\n",
       " 905,\n",
       " 906,\n",
       " 933,\n",
       " 875,\n",
       " 990,\n",
       " 983,\n",
       " 857,\n",
       " 874,\n",
       " 984,\n",
       " 975,\n",
       " 991,\n",
       " 966,\n",
       " 991,\n",
       " 822,\n",
       " 837,\n",
       " 965,\n",
       " 837,\n",
       " 859,\n",
       " 882,\n",
       " 833,\n",
       " 847,\n",
       " 812,\n",
       " 964,\n",
       " 851,\n",
       " 806,\n",
       " 860,\n",
       " 975,\n",
       " 997,\n",
       " 924,\n",
       " 918,\n",
       " 973,\n",
       " 953,\n",
       " 876,\n",
       " 819,\n",
       " 844,\n",
       " 890,\n",
       " 823,\n",
       " 958,\n",
       " 850,\n",
       " 988,\n",
       " 841,\n",
       " 903,\n",
       " 998,\n",
       " 925,\n",
       " 906,\n",
       " 904,\n",
       " 989,\n",
       " 988,\n",
       " 982,\n",
       " 862,\n",
       " 892,\n",
       " 905,\n",
       " 954,\n",
       " 921,\n",
       " 976,\n",
       " 843,\n",
       " 820,\n",
       " 810,\n",
       " 857,\n",
       " 934,\n",
       " 803,\n",
       " 902,\n",
       " 830,\n",
       " 984,\n",
       " 958,\n",
       " 925,\n",
       " 895,\n",
       " 811,\n",
       " 851,\n",
       " 994,\n",
       " 920,\n",
       " 967,\n",
       " 906,\n",
       " 885,\n",
       " 876]"
      ]
     },
     "execution_count": 56,
     "metadata": {},
     "output_type": "execute_result"
    }
   ],
   "source": [
    "X"
   ]
  },
  {
   "cell_type": "code",
   "execution_count": 57,
   "metadata": {},
   "outputs": [
    {
     "data": {
      "image/png": "[encoded data removed]",
      "text/plain": [
       "<Figure size 432x288 with 2 Axes>"
      ]
     },
     "metadata": {
      "needs_background": "light"
     },
     "output_type": "display_data"
    }
   ],
   "source": [
    "fig, (ax1,ax2) = plt.subplots(2)\n",
    "\n",
    "#直方图\n",
    "ax1.hist(X,bins=100)\n",
    "\n",
    "#箱线图\n",
    "sns.boxplot(x=X #研究的变量\n",
    "            ,ax=ax2 #绘制的子图\n",
    "            , orient=\"h\"\n",
    "            , color=\"red\"\n",
    "           ,meanline=True);"
   ]
  },
  {
   "cell_type": "markdown",
   "metadata": {},
   "source": [
    "来计算下极值？首先找出四分位距。NumPy中的percentile功能可以帮助我们找出位于分布a%处的分位数  "
   ]
  },
  {
   "cell_type": "code",
   "execution_count": 58,
   "metadata": {},
   "outputs": [],
   "source": [
    "Q3, Q1 = np.percentile(X, [75 ,25])"
   ]
  },
  {
   "cell_type": "code",
   "execution_count": 59,
   "metadata": {},
   "outputs": [],
   "source": [
    "iqr = Q3-Q1"
   ]
  },
  {
   "cell_type": "code",
   "execution_count": 60,
   "metadata": {},
   "outputs": [
    {
     "data": {
      "text/plain": [
       "113.25"
      ]
     },
     "execution_count": 60,
     "metadata": {},
     "output_type": "execute_result"
    }
   ],
   "source": [
    "iqr"
   ]
  },
  {
   "cell_type": "code",
   "execution_count": 61,
   "metadata": {},
   "outputs": [
    {
     "data": {
      "text/plain": [
       "2"
      ]
     },
     "execution_count": 61,
     "metadata": {},
     "output_type": "execute_result"
    }
   ],
   "source": [
    "min(X)"
   ]
  },
  {
   "cell_type": "code",
   "execution_count": 62,
   "metadata": {},
   "outputs": [
    {
     "data": {
      "text/plain": [
       "667.875"
      ]
     },
     "execution_count": 62,
     "metadata": {},
     "output_type": "execute_result"
    }
   ],
   "source": [
    "Q1 - 1.5*iqr"
   ]
  },
  {
   "cell_type": "code",
   "execution_count": 63,
   "metadata": {},
   "outputs": [
    {
     "data": {
      "text/plain": [
       "999"
      ]
     },
     "execution_count": 63,
     "metadata": {},
     "output_type": "execute_result"
    }
   ],
   "source": [
    "max(X)"
   ]
  },
  {
   "cell_type": "code",
   "execution_count": 64,
   "metadata": {},
   "outputs": [
    {
     "data": {
      "text/plain": [
       "1120.875"
      ]
     },
     "execution_count": 64,
     "metadata": {},
     "output_type": "execute_result"
    }
   ],
   "source": [
    "Q3 + 1.5*iqr"
   ]
  },
  {
   "cell_type": "markdown",
   "metadata": {},
   "source": [
    "### 3. 导入数据，绘制图像"
   ]
  },
  {
   "cell_type": "code",
   "execution_count": 65,
   "metadata": {},
   "outputs": [],
   "source": [
    "#导入数据\n",
    "df = pd.read_csv(\"D:\\Python_data_processing__Data_processing\\Juanjiang_And_Caicai_Visualization\\data\\mpg_ggplot2.csv\")"
   ]
  },
  {
   "cell_type": "code",
   "execution_count": 86,
   "metadata": {},
   "outputs": [
    {
     "data": {
      "image/png": "[encoded data removed]",
      "text/plain": [
       "<Figure size 1280x800 with 3 Axes>"
      ]
     },
     "metadata": {},
     "output_type": "display_data"
    }
   ],
   "source": [
    "#分割画布\n",
    "fig = plt.figure(figsize=(16, 10), dpi= 80,facecolor=\"white\")\n",
    "grid = plt.GridSpec(4, 4, hspace=0.5, wspace=0.2)\n",
    "\n",
    "#在分割完毕的画布上确认子图的位置\n",
    "ax_main = fig.add_subplot(grid[:-1, :-1])\n",
    "ax_right = fig.add_subplot(grid[:-1, -1], xticklabels=[], yticklabels=[])\n",
    "ax_bottom = fig.add_subplot(grid[-1, 0:-1], xticklabels=[], yticklabels=[])\n",
    "\n",
    "#在中心绘制气泡图\n",
    "ax_main.scatter('displ', 'hwy', s=df.cty*4\n",
    "                , c=df.manufacturer.astype('category').cat.codes\n",
    "                , alpha=.9, data=df, cmap=\"autumn\", linewidths=.5)\n",
    "\n",
    "#对右侧和下方绘制箱线图\n",
    "sns.boxplot(y=df.hwy, data=df, ax=ax_right, orient=\"v\", color=\"red\")\n",
    "sns.boxplot(x=df.displ, data=df, ax=ax_bottom, orient=\"h\",color='orange')\n",
    "\n",
    "#装饰图像\n",
    "#移除箱线图自带的坐标轴名称\n",
    "ax_bottom.set(xlabel='')\n",
    "ax_right.set(ylabel='')\n",
    "\n",
    "#设置标题，横坐标轴和纵坐标轴的名称\n",
    "plt.rcParams['font.sans-serif']=['Simhei']\n",
    "ax_main.set(title='边缘箱线图 \\n 发动机排量 vs 公路里程/加仑', xlabel='发动机排量(L)', ylabel='公里路程/加仑')\n",
    "\n",
    "#去掉两个直方图上的标尺\n",
    "for item in [ax_bottom,ax_right]:\n",
    "    item.set_xticks([])\n",
    "    item.set_yticks([])\n",
    "\n",
    "#对标题设置字体大小\n",
    "ax_main.title.set_fontsize(20) \n",
    "\n",
    "#对所有横坐标纵坐标上的标题和标尺都设置字体大小\n",
    "for item in ([ax_main.xaxis.label, ax_main.yaxis.label] + ax_main.get_xticklabels() + ax_main.get_yticklabels()):\n",
    "    item.set_fontsize(14) "
   ]
  },
  {
   "cell_type": "markdown",
   "metadata": {},
   "source": [
    "<img src=\"http://pictes.oss-cn-beijing.aliyuncs.com/microclass-virtualisation/week1correlation/line4.png\" align=\"center\" />"
   ]
  },
  {
   "cell_type": "markdown",
   "metadata": {},
   "source": [
    "还剩下两个相关图像，会由菊安酱给大家讲解哦~"
   ]
  },
  {
   "cell_type": "markdown",
   "metadata": {},
   "source": [
    "<img src=\"http://pictes.oss-cn-beijing.aliyuncs.com/microclass-virtualisation/week1correlation/line4.png\" align=\"center\" />"
   ]
  },
  {
   "cell_type": "code",
   "execution_count": null,
   "metadata": {},
   "outputs": [],
   "source": []
  }
 ],
 "metadata": {
  "kernelspec": {
   "display_name": "Python 3 (ipykernel)",
   "language": "python",
   "name": "python3"
  },
  "language_info": {
   "codemirror_mode": {
    "name": "ipython",
    "version": 3
   },
   "file_extension": ".py",
   "mimetype": "text/x-python",
   "name": "python",
   "nbconvert_exporter": "python",
   "pygments_lexer": "ipython3",
   "version": "3.8.5"
  },
  "toc-autonumbering": false
 },
 "nbformat": 4,
 "nbformat_minor": 4
}
