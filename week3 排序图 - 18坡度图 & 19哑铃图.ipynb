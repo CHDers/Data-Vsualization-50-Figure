{
 "cells": [
  {
   "cell_type": "markdown",
   "metadata": {},
   "source": [
    "# **菊安酱与菜菜的Python机器学习可视化**"
   ]
  },
  {
   "cell_type": "markdown",
   "metadata": {},
   "source": [
    "## 第三期 排序图 (2)"
   ]
  },
  {
   "cell_type": "markdown",
   "metadata": {},
   "source": [
    "<img src=\"http://pictes.oss-cn-beijing.aliyuncs.com/microclass-virtualisation/week1correlation/line4.png\" align=\"center\" />"
   ]
  },
  {
   "cell_type": "markdown",
   "metadata": {},
   "source": [
    "## <center>每周三晚上8点直播1小时，完整版2小时周日上线~</center>\n",
    "## <center>单数周菜菜直播，双数周菊安酱直播，哔哩哔哩与peixun.net同步开启</center>"
   ]
  },
  {
   "cell_type": "markdown",
   "metadata": {},
   "source": [
    "<img src=\"http://pictes.oss-cn-beijing.aliyuncs.com/microclass-virtualisation/week1correlation/line4.png\" align=\"center\" />"
   ]
  },
  {
   "cell_type": "markdown",
   "metadata": {},
   "source": [
    "**注意：本篇中可能遇见无法在matpotlib和seaborn中显示中文或者负号的问题**  \n",
    "如果你遇见了，请参考链接，可永久解决中文和负号问题：https://www.jianshu.com/p/914b5f4ce6bf  \n",
    "或者你也可以在每次需要负号和中文的时候执行下面的代码来避免中文或负号显示不出来："
   ]
  },
  {
   "cell_type": "code",
   "execution_count": 2,
   "metadata": {},
   "outputs": [],
   "source": [
    "plt.rcParams['font.sans-serif']=['Simhei'] \n",
    "plt.rcParams['axes.unicode_minus']=False"
   ]
  },
  {
   "cell_type": "markdown",
   "metadata": {},
   "source": [
    "<img src=\"http://pictes.oss-cn-beijing.aliyuncs.com/microclass-virtualisation/week1correlation/line4.png\" align=\"center\" />"
   ]
  },
  {
   "cell_type": "markdown",
   "metadata": {},
   "source": [
    "### 18/50 坡度图"
   ]
  },
  {
   "cell_type": "markdown",
   "metadata": {},
   "source": [
    "坡度图是对比两种不同类型下取值的最佳图像，最适合比较给定的人/项目/数据的“之前”和“之后”的位置和变化"
   ]
  },
  {
   "cell_type": "markdown",
   "metadata": {},
   "source": [
    "<img src=\"http://pictes.oss-cn-beijing.aliyuncs.com/microclass-virtualisation/week3%20Ranking/%E5%9D%A1%E5%BA%A6%E5%9B%BE%20%2B%20%E8%A7%A3%E9%87%8A.PNG\" align=\"center\" />"
   ]
  },
  {
   "cell_type": "markdown",
   "metadata": {},
   "source": [
    "横坐标：时间（前，后）<br>\n",
    "纵坐标：人均国内生产总值（人均GDP）<br>\n",
    "线条颜色：绿色表示上升，红色表示下降"
   ]
  },
  {
   "cell_type": "markdown",
   "metadata": {},
   "source": [
    "### 1. 导入需要的绘图库"
   ]
  },
  {
   "cell_type": "code",
   "execution_count": 1,
   "metadata": {},
   "outputs": [],
   "source": [
    "import numpy as np\n",
    "import pandas as pd\n",
    "import matplotlib as mpl\n",
    "import matplotlib.lines as mlines\n",
    "import matplotlib.pyplot as plt\n",
    "import seaborn as sns\n",
    "%matplotlib inline\n",
    "#如果你在使用Jupyter Notebook，你会需要这样一句命令来让你的图像显示"
   ]
  },
  {
   "cell_type": "markdown",
   "metadata": {},
   "source": [
    "### 2. 先来认识一下在两点之间连线的函数"
   ]
  },
  {
   "cell_type": "markdown",
   "metadata": {},
   "source": [
    "在两点之间绘制一条线，和绘制一整个折线图的思路并不相似  \n",
    "我们希望添加一个对象，但这个对象却不带有横纵坐标轴，而是在子图上可以加上的某个东西  \n",
    "这其实比较像我们之前添加凸包，添加画布上的矩形的思路：  \n",
    "我们首先需要创建一个直线对象，然后使用add这样的功能来将直线对象添加到图像上去  \n",
    "因此我们要认识两个函数，创造直线对象的函数，以及将直线对象添加到子图或者画布上的函数\n",
    "\n",
    "#### **matplotlib.lines.Line2D**: 创建直线对象"
   ]
  },
  {
   "cell_type": "markdown",
   "metadata": {},
   "source": [
    "> **重要参数**\n",
    ">> xdata：所有需要链接的点的横坐标  \n",
    ">> ydata：所有需要链接的点的纵坐标   \n",
    ">> marker：用于连线的点的形状  \n",
    ">> markersize：用于连线的点的尺寸"
   ]
  },
  {
   "cell_type": "markdown",
   "metadata": {},
   "source": [
    "#### **add_line()**：添加直线对象"
   ]
  },
  {
   "cell_type": "code",
   "execution_count": 5,
   "metadata": {},
   "outputs": [
    {
     "data": {
      "image/png": "[encoded data removed]",
      "text/plain": [
       "<Figure size 432x288 with 1 Axes>"
      ]
     },
     "metadata": {
      "needs_background": "light"
     },
     "output_type": "display_data"
    }
   ],
   "source": [
    "import matplotlib.lines as mlines #导入模块lines，专门用于直线绘图的模块\n",
    "\n",
    "X = [1,2,3,4,5]\n",
    "y = [14,13,20,19,7]\n",
    "\n",
    "fig, ax = plt.subplots(1,1) #一行一列\n",
    "ax.scatter(X,y);\n",
    "\n",
    "l = mlines.Line2D([1,2,3] #所有希望链接的点的横坐标\n",
    "                  ,[14,13,20] #所有希望链接的点的纵坐标\n",
    "                  , color='red' #线的颜色\n",
    "                  , linewidth=2 #线的宽度\n",
    "                  , marker='o' #绘制出来的点的形状\n",
    "                  , markersize=6 #点的大小\n",
    "                 )\n",
    "ax.add_line(l); #将对象添加到子图上"
   ]
  },
  {
   "cell_type": "code",
   "execution_count": 6,
   "metadata": {},
   "outputs": [],
   "source": [
    "#观察一下如果没有点图会发生什么样的现象？"
   ]
  },
  {
   "cell_type": "markdown",
   "metadata": {},
   "source": [
    "p1(x1,y1)\n",
    "p2(x2,y2)\n",
    "\n",
    "Line2D([x1,x2],[y1,y2])"
   ]
  },
  {
   "cell_type": "code",
   "execution_count": 7,
   "metadata": {},
   "outputs": [],
   "source": [
    "#将上述过程打包成函数\n",
    "def newline(p1, p2, color='black'): #在我们习惯的逻辑中，还是直接输入点的坐标更加容易\n",
    "    ax = plt.gca() #get current ax 获取的子图，如果没有子图就自己创建一个子图\n",
    "    l = mlines.Line2D([p1[0],p2[0]], [p1[1],p2[1]]\n",
    "                      , color='red' if p1[1]-p2[1] > 0 else 'green'\n",
    "                      , marker='o', markersize=6)\n",
    "    ax.add_line(l)\n",
    "    return l"
   ]
  },
  {
   "cell_type": "code",
   "execution_count": 8,
   "metadata": {},
   "outputs": [],
   "source": [
    "#使用列表推倒式来表达颜色"
   ]
  },
  {
   "cell_type": "code",
   "execution_count": 9,
   "metadata": {},
   "outputs": [],
   "source": [
    "if 2-1>0:\n",
    "    \"red\"\n",
    "else:\n",
    "    \"green\""
   ]
  },
  {
   "cell_type": "code",
   "execution_count": 10,
   "metadata": {},
   "outputs": [
    {
     "data": {
      "text/plain": [
       "'green'"
      ]
     },
     "execution_count": 10,
     "metadata": {},
     "output_type": "execute_result"
    }
   ],
   "source": [
    "#'red' if 2-1 > 0 else 'green'\n",
    "'red' if 1-2 > 0 else 'green'"
   ]
  },
  {
   "cell_type": "markdown",
   "metadata": {},
   "source": [
    "### 3. 认识数据，准备数据"
   ]
  },
  {
   "cell_type": "code",
   "execution_count": 11,
   "metadata": {},
   "outputs": [],
   "source": [
    "#导入数据\n",
    "df = pd.read_csv(\"D:\\Python_data_processing__Data_processing\\Juanjiang_And_Caicai_Visualization\\data\\gdppercap.csv\")"
   ]
  },
  {
   "cell_type": "code",
   "execution_count": 12,
   "metadata": {},
   "outputs": [
    {
     "data": {
      "text/html": [
       "<div>\n",
       "<style scoped>\n",
       "    .dataframe tbody tr th:only-of-type {\n",
       "        vertical-align: middle;\n",
       "    }\n",
       "\n",
       "    .dataframe tbody tr th {\n",
       "        vertical-align: top;\n",
       "    }\n",
       "\n",
       "    .dataframe thead th {\n",
       "        text-align: right;\n",
       "    }\n",
       "</style>\n",
       "<table border=\"1\" class=\"dataframe\">\n",
       "  <thead>\n",
       "    <tr style=\"text-align: right;\">\n",
       "      <th></th>\n",
       "      <th>continent</th>\n",
       "      <th>1952</th>\n",
       "      <th>1957</th>\n",
       "    </tr>\n",
       "  </thead>\n",
       "  <tbody>\n",
       "    <tr>\n",
       "      <th>0</th>\n",
       "      <td>Africa</td>\n",
       "      <td>1252.572466</td>\n",
       "      <td>1385.236062</td>\n",
       "    </tr>\n",
       "    <tr>\n",
       "      <th>1</th>\n",
       "      <td>Americas</td>\n",
       "      <td>4079.062552</td>\n",
       "      <td>4616.043733</td>\n",
       "    </tr>\n",
       "    <tr>\n",
       "      <th>2</th>\n",
       "      <td>Asia</td>\n",
       "      <td>5195.484004</td>\n",
       "      <td>4003.132940</td>\n",
       "    </tr>\n",
       "    <tr>\n",
       "      <th>3</th>\n",
       "      <td>Europe</td>\n",
       "      <td>5661.057435</td>\n",
       "      <td>6963.012816</td>\n",
       "    </tr>\n",
       "    <tr>\n",
       "      <th>4</th>\n",
       "      <td>Oceania</td>\n",
       "      <td>10298.085650</td>\n",
       "      <td>11598.522455</td>\n",
       "    </tr>\n",
       "  </tbody>\n",
       "</table>\n",
       "</div>"
      ],
      "text/plain": [
       "  continent          1952          1957\n",
       "0    Africa   1252.572466   1385.236062\n",
       "1  Americas   4079.062552   4616.043733\n",
       "2      Asia   5195.484004   4003.132940\n",
       "3    Europe   5661.057435   6963.012816\n",
       "4   Oceania  10298.085650  11598.522455"
      ]
     },
     "execution_count": 12,
     "metadata": {},
     "output_type": "execute_result"
    }
   ],
   "source": [
    "df #一个非常简单的数据集"
   ]
  },
  {
   "cell_type": "code",
   "execution_count": 16,
   "metadata": {},
   "outputs": [],
   "source": [
    "#从数据中调取需要的标签\n",
    "left_label = [str(c) + ', '+ str(round(y)) for c, y in zip(df.continent, df['1952'])]\n",
    "right_label = [str(c) + ', '+ str(round(y)) for c, y in zip(df.continent, df['1957'])]"
   ]
  },
  {
   "cell_type": "code",
   "execution_count": 17,
   "metadata": {},
   "outputs": [
    {
     "data": {
      "text/plain": [
       "['Africa, 1253',\n",
       " 'Americas, 4079',\n",
       " 'Asia, 5195',\n",
       " 'Europe, 5661',\n",
       " 'Oceania, 10298']"
      ]
     },
     "execution_count": 17,
     "metadata": {},
     "output_type": "execute_result"
    }
   ],
   "source": [
    "left_label"
   ]
  },
  {
   "cell_type": "code",
   "execution_count": 13,
   "metadata": {},
   "outputs": [
    {
     "data": {
      "text/plain": [
       "[('Africa', 1252.57246582115),\n",
       " ('Americas', 4079.0625522),\n",
       " ('Asia', 5195.484004039389),\n",
       " ('Europe', 5661.05743476),\n",
       " ('Oceania', 10298.08565)]"
      ]
     },
     "execution_count": 13,
     "metadata": {},
     "output_type": "execute_result"
    }
   ],
   "source": [
    "[*zip(df.continent, df['1952'])]"
   ]
  },
  {
   "cell_type": "code",
   "execution_count": 14,
   "metadata": {},
   "outputs": [
    {
     "data": {
      "text/plain": [
       "1253"
      ]
     },
     "execution_count": 14,
     "metadata": {},
     "output_type": "execute_result"
    }
   ],
   "source": [
    "round(1252.57246582115) #返回一个整数（四舍五入）"
   ]
  },
  {
   "cell_type": "code",
   "execution_count": 15,
   "metadata": {},
   "outputs": [
    {
     "name": "stdout",
     "output_type": "stream",
     "text": [
      "Africa, 1253\n",
      "Americas, 4079\n",
      "Asia, 5195\n",
      "Europe, 5661\n",
      "Oceania, 10298\n"
     ]
    }
   ],
   "source": [
    "for c, y in zip(df.continent, df['1952']):\n",
    "    print(str(c) + ', '+ str(round(y)))"
   ]
  },
  {
   "cell_type": "markdown",
   "metadata": {},
   "source": [
    "### 4. 代码解读"
   ]
  },
  {
   "cell_type": "code",
   "execution_count": 19,
   "metadata": {},
   "outputs": [
    {
     "data": {
      "text/plain": [
       "5"
      ]
     },
     "execution_count": 19,
     "metadata": {},
     "output_type": "execute_result"
    }
   ],
   "source": [
    "df.shape[0]"
   ]
  },
  {
   "cell_type": "code",
   "execution_count": 20,
   "metadata": {},
   "outputs": [
    {
     "data": {
      "text/plain": [
       "array([1, 1, 1, 1, 1])"
      ]
     },
     "execution_count": 20,
     "metadata": {},
     "output_type": "execute_result"
    }
   ],
   "source": [
    "np.repeat(1 #我需要进行重复的对象\n",
    "          , df.shape[0] #我想要重复的次数\n",
    "         ) #对我输入的对象进行n次重复，组成一个新的数组"
   ]
  },
  {
   "cell_type": "code",
   "execution_count": 22,
   "metadata": {},
   "outputs": [
    {
     "data": {
      "text/plain": [
       "array([  500,  2500,  4500,  6500,  8500, 10500, 12500])"
      ]
     },
     "execution_count": 22,
     "metadata": {},
     "output_type": "execute_result"
    }
   ],
   "source": [
    "np.arange(500, 13000, 2000)"
   ]
  },
  {
   "cell_type": "code",
   "execution_count": 23,
   "metadata": {},
   "outputs": [
    {
     "data": {
      "image/png": "[encoded data removed]",
      "text/plain": [
       "<Figure size 1120x1120 with 1 Axes>"
      ]
     },
     "metadata": {},
     "output_type": "display_data"
    }
   ],
   "source": [
    "#设置风格\n",
    "plt.style.use('seaborn-whitegrid')\n",
    "sns.set_style(\"white\")\n",
    "\n",
    "#从数据中调取需要的标签\n",
    "left_label = [str(c) + ', '+ str(round(y)) for c, y in zip(df.continent, df['1952'])]\n",
    "right_label = [str(c) + ', '+ str(round(y)) for c, y in zip(df.continent, df['1957'])]\n",
    "\n",
    "#定义绘制折线函数\n",
    "def newline(p1, p2, color='black'):\n",
    "    ax = plt.gca()\n",
    "    l = mlines.Line2D([p1[0],p2[0]], [p1[1],p2[1]], color='red' if p1[1]-p2[1] > 0 else 'green', marker='o', markersize=6)\n",
    "    ax.add_line(l)\n",
    "    return l\n",
    "\n",
    "#创建子图\n",
    "fig, ax = plt.subplots(1,1,figsize=(14,14), dpi=80)\n",
    "\n",
    "#绘制两条竖线\n",
    "ax.vlines(x=1, ymin=500, ymax=13000, color='black', alpha=0.7, linewidth=1, linestyles='dotted')\n",
    "ax.vlines(x=3, ymin=500, ymax=13000, color='black', alpha=0.7, linewidth=1, linestyles='dotted')\n",
    "\n",
    "#在两条线的每个数据点上打上散点\n",
    "ax.scatter(y=df['1952'], x=np.repeat(1, df.shape[0]), s=10, color='black', alpha=0.7)\n",
    "ax.scatter(y=df['1957'], x=np.repeat(3, df.shape[0]), s=10, color='black', alpha=0.7)\n",
    "\n",
    "#绘制折线\n",
    "for p1, p2, c in zip(df['1952'], df['1957'], df['continent']):\n",
    "    newline([1,p1], [3,p2])\n",
    "    #在每个数据点的旁边添加文字\n",
    "    ax.text(1-0.05, p1, c + ', ' + str(round(p1))\n",
    "            , horizontalalignment='right' #横向的左中右\n",
    "            , verticalalignment='center' #纵向的上中下\n",
    "            , fontdict={'size':14})\n",
    "    ax.text(3+0.05, p2, c + ', ' + str(round(p2))\n",
    "            , horizontalalignment='left'\n",
    "            , verticalalignment='center'\n",
    "            , fontdict={'size':14})\n",
    "\n",
    "#将“BEFORE”和“AFTER”字样放到图像中\n",
    "ax.text(1-0.05, 13000, 'BEFORE'\n",
    "        , horizontalalignment='right'\n",
    "        , verticalalignment='center'\n",
    "        , fontdict={'size':18\n",
    "                   , 'weight':700 #加粗文字\n",
    "                   })\n",
    "ax.text(3+0.05, 13000, 'AFTER', horizontalalignment='left', verticalalignment='center', fontdict={'size':18, 'weight':700})\n",
    "\n",
    "#装饰图像\n",
    "ax.set_title(\"Slopechart: Comparing GDP Per Capita between 1952 vs 1957\", fontdict={'size':22}) #标题\n",
    "ax.set(xlim=(0,4), ylim=(0,14000), ylabel='Mean GDP Per Capita') #横纵坐标的取值范围，纵坐标的标题\n",
    "ax.set_xticks([1,3]) #横坐标的标尺\n",
    "ax.set_xticklabels([\"1952\", \"1957\"]) #横坐标标尺的标题\n",
    "plt.yticks(np.arange(500, 13000, 2000), fontsize=12) #设置纵坐标的标尺\n",
    "#注意这里就出现了plt和ax的混用，在这里混用是因为要调整标尺的大小，而ax.set_yticks没有便利调整标尺大小的方式\n",
    "\n",
    "#将图像的横纵坐标透明化：核心Artisit：坐标轴，用spines表示\n",
    "plt.gca().spines[\"top\"].set_alpha(.0)\n",
    "plt.gca().spines[\"bottom\"].set_alpha(.0)\n",
    "plt.gca().spines[\"right\"].set_alpha(.0)\n",
    "plt.gca().spines[\"left\"].set_alpha(.0)\n",
    "plt.show()"
   ]
  },
  {
   "cell_type": "markdown",
   "metadata": {},
   "source": [
    "### 5. 解读图像"
   ]
  },
  {
   "cell_type": "code",
   "execution_count": 24,
   "metadata": {},
   "outputs": [],
   "source": [
    "#1952~1957年之间发生了什么呢？"
   ]
  },
  {
   "cell_type": "markdown",
   "metadata": {},
   "source": [
    "可以参考的历史事件：<br>\n",
    "1950 ~ 1953 朝鲜战争<br>\n",
    "1946 ~ 1954 第一次印尼战争<br>\n",
    "1952 ~ 1957 中国的第一个五年计划，劳动力需求激增，城乡人口逐渐失衡  \n",
    "从1952 ~ 1957，亚洲人口增加了1.4亿<br>"
   ]
  },
  {
   "cell_type": "markdown",
   "metadata": {},
   "source": [
    "<img src=\"http://pictes.oss-cn-beijing.aliyuncs.com/microclass-virtualisation/week1correlation/line4.png\" align=\"center\" />"
   ]
  },
  {
   "cell_type": "markdown",
   "metadata": {},
   "source": [
    "### 19/50 哑铃图"
   ]
  },
  {
   "cell_type": "markdown",
   "metadata": {},
   "source": [
    "哑铃图和坡度图非常类似，它的功能是展示给定的人/项目/数据的“之前”和“之后”的变化。通常来说前后指的是“时间”，但其实也可以是某个计划/项目执行前后，某个因素出现前后对不同对象的影响。"
   ]
  },
  {
   "cell_type": "markdown",
   "metadata": {},
   "source": [
    "\n",
    "\n",
    "<img src=\"http://pictes.oss-cn-beijing.aliyuncs.com/microclass-virtualisation/week3%20Ranking/%E5%93%91%E9%93%83%E5%9B%BE.PNG\" align=\"center\" />"
   ]
  },
  {
   "cell_type": "markdown",
   "metadata": {},
   "source": [
    "横坐标：医疗支出占人均GDP的百分比  \n",
    "纵坐标：城市名称  \n",
    "浅蓝色的点：2014年  \n",
    "深蓝色的点：2013年"
   ]
  },
  {
   "cell_type": "markdown",
   "metadata": {},
   "source": [
    "### 1. 导入需要的绘图库"
   ]
  },
  {
   "cell_type": "code",
   "execution_count": 1,
   "metadata": {},
   "outputs": [],
   "source": [
    "import numpy as np\n",
    "import pandas as pd\n",
    "import matplotlib as mpl\n",
    "import matplotlib.lines as mlines\n",
    "import matplotlib.pyplot as plt\n",
    "import seaborn as sns\n",
    "%matplotlib inline"
   ]
  },
  {
   "cell_type": "markdown",
   "metadata": {},
   "source": [
    "### 2. 探索数据，处理数据"
   ]
  },
  {
   "cell_type": "code",
   "execution_count": 5,
   "metadata": {},
   "outputs": [],
   "source": [
    "# Import Data\n",
    "df = pd.read_csv('D:\\python数据处理——数据\\橘安酱和菜菜的可视化全集\\data\\health.csv')"
   ]
  },
  {
   "cell_type": "code",
   "execution_count": 7,
   "metadata": {},
   "outputs": [
    {
     "data": {
      "text/html": [
       "<div>\n",
       "<style scoped>\n",
       "    .dataframe tbody tr th:only-of-type {\n",
       "        vertical-align: middle;\n",
       "    }\n",
       "\n",
       "    .dataframe tbody tr th {\n",
       "        vertical-align: top;\n",
       "    }\n",
       "\n",
       "    .dataframe thead th {\n",
       "        text-align: right;\n",
       "    }\n",
       "</style>\n",
       "<table border=\"1\" class=\"dataframe\">\n",
       "  <thead>\n",
       "    <tr style=\"text-align: right;\">\n",
       "      <th></th>\n",
       "      <th>Area</th>\n",
       "      <th>pct_2014</th>\n",
       "      <th>pct_2013</th>\n",
       "    </tr>\n",
       "  </thead>\n",
       "  <tbody>\n",
       "    <tr>\n",
       "      <th>0</th>\n",
       "      <td>Houston</td>\n",
       "      <td>0.19</td>\n",
       "      <td>0.22</td>\n",
       "    </tr>\n",
       "    <tr>\n",
       "      <th>1</th>\n",
       "      <td>Miami</td>\n",
       "      <td>0.19</td>\n",
       "      <td>0.24</td>\n",
       "    </tr>\n",
       "    <tr>\n",
       "      <th>2</th>\n",
       "      <td>Dallas</td>\n",
       "      <td>0.18</td>\n",
       "      <td>0.21</td>\n",
       "    </tr>\n",
       "    <tr>\n",
       "      <th>3</th>\n",
       "      <td>San Antonio</td>\n",
       "      <td>0.15</td>\n",
       "      <td>0.19</td>\n",
       "    </tr>\n",
       "    <tr>\n",
       "      <th>4</th>\n",
       "      <td>Atlanta</td>\n",
       "      <td>0.15</td>\n",
       "      <td>0.18</td>\n",
       "    </tr>\n",
       "  </tbody>\n",
       "</table>\n",
       "</div>"
      ],
      "text/plain": [
       "          Area  pct_2014  pct_2013\n",
       "0      Houston      0.19      0.22\n",
       "1        Miami      0.19      0.24\n",
       "2       Dallas      0.18      0.21\n",
       "3  San Antonio      0.15      0.19\n",
       "4      Atlanta      0.15      0.18"
      ]
     },
     "execution_count": 7,
     "metadata": {},
     "output_type": "execute_result"
    }
   ],
   "source": [
    "df.head()"
   ]
  },
  {
   "cell_type": "code",
   "execution_count": 8,
   "metadata": {},
   "outputs": [],
   "source": [
    "names = [\"地区\",\"2014年医疗费用百分比\",\"2013年医疗费用百分比\"]\n",
    "\n",
    "#猜测：这是不同地区的医疗费用占人均GDP的一个百分比"
   ]
  },
  {
   "cell_type": "code",
   "execution_count": 9,
   "metadata": {},
   "outputs": [
    {
     "data": {
      "text/html": [
       "<div>\n",
       "<style scoped>\n",
       "    .dataframe tbody tr th:only-of-type {\n",
       "        vertical-align: middle;\n",
       "    }\n",
       "\n",
       "    .dataframe tbody tr th {\n",
       "        vertical-align: top;\n",
       "    }\n",
       "\n",
       "    .dataframe thead th {\n",
       "        text-align: right;\n",
       "    }\n",
       "</style>\n",
       "<table border=\"1\" class=\"dataframe\">\n",
       "  <thead>\n",
       "    <tr style=\"text-align: right;\">\n",
       "      <th></th>\n",
       "      <th>Area</th>\n",
       "      <th>pct_2014</th>\n",
       "      <th>pct_2013</th>\n",
       "    </tr>\n",
       "  </thead>\n",
       "  <tbody>\n",
       "    <tr>\n",
       "      <th>25</th>\n",
       "      <td>Boston</td>\n",
       "      <td>0.04</td>\n",
       "      <td>0.04</td>\n",
       "    </tr>\n",
       "    <tr>\n",
       "      <th>23</th>\n",
       "      <td>Pittsburgh</td>\n",
       "      <td>0.06</td>\n",
       "      <td>0.07</td>\n",
       "    </tr>\n",
       "    <tr>\n",
       "      <th>22</th>\n",
       "      <td>Baltimore</td>\n",
       "      <td>0.06</td>\n",
       "      <td>0.09</td>\n",
       "    </tr>\n",
       "    <tr>\n",
       "      <th>24</th>\n",
       "      <td>Minneapolis</td>\n",
       "      <td>0.06</td>\n",
       "      <td>0.08</td>\n",
       "    </tr>\n",
       "    <tr>\n",
       "      <th>21</th>\n",
       "      <td>San Francisco</td>\n",
       "      <td>0.08</td>\n",
       "      <td>0.11</td>\n",
       "    </tr>\n",
       "    <tr>\n",
       "      <th>20</th>\n",
       "      <td>Seattle</td>\n",
       "      <td>0.08</td>\n",
       "      <td>0.12</td>\n",
       "    </tr>\n",
       "    <tr>\n",
       "      <th>19</th>\n",
       "      <td>Philadelphia</td>\n",
       "      <td>0.08</td>\n",
       "      <td>0.10</td>\n",
       "    </tr>\n",
       "    <tr>\n",
       "      <th>18</th>\n",
       "      <td>Detroit</td>\n",
       "      <td>0.09</td>\n",
       "      <td>0.11</td>\n",
       "    </tr>\n",
       "    <tr>\n",
       "      <th>17</th>\n",
       "      <td>St. Louis</td>\n",
       "      <td>0.09</td>\n",
       "      <td>0.10</td>\n",
       "    </tr>\n",
       "    <tr>\n",
       "      <th>16</th>\n",
       "      <td>Portland</td>\n",
       "      <td>0.09</td>\n",
       "      <td>0.13</td>\n",
       "    </tr>\n",
       "    <tr>\n",
       "      <th>15</th>\n",
       "      <td>Washington, D.C.</td>\n",
       "      <td>0.09</td>\n",
       "      <td>0.11</td>\n",
       "    </tr>\n",
       "    <tr>\n",
       "      <th>14</th>\n",
       "      <td>Denver</td>\n",
       "      <td>0.10</td>\n",
       "      <td>0.14</td>\n",
       "    </tr>\n",
       "    <tr>\n",
       "      <th>13</th>\n",
       "      <td>New York</td>\n",
       "      <td>0.10</td>\n",
       "      <td>0.12</td>\n",
       "    </tr>\n",
       "    <tr>\n",
       "      <th>12</th>\n",
       "      <td>Chicago</td>\n",
       "      <td>0.11</td>\n",
       "      <td>0.14</td>\n",
       "    </tr>\n",
       "    <tr>\n",
       "      <th>11</th>\n",
       "      <td>All Metro Areas</td>\n",
       "      <td>0.11</td>\n",
       "      <td>0.14</td>\n",
       "    </tr>\n",
       "    <tr>\n",
       "      <th>10</th>\n",
       "      <td>San Diego</td>\n",
       "      <td>0.12</td>\n",
       "      <td>0.16</td>\n",
       "    </tr>\n",
       "    <tr>\n",
       "      <th>9</th>\n",
       "      <td>Charlotte</td>\n",
       "      <td>0.13</td>\n",
       "      <td>0.15</td>\n",
       "    </tr>\n",
       "    <tr>\n",
       "      <th>8</th>\n",
       "      <td>Phoenix</td>\n",
       "      <td>0.13</td>\n",
       "      <td>0.17</td>\n",
       "    </tr>\n",
       "    <tr>\n",
       "      <th>7</th>\n",
       "      <td>Riverside, Calif.</td>\n",
       "      <td>0.14</td>\n",
       "      <td>0.19</td>\n",
       "    </tr>\n",
       "    <tr>\n",
       "      <th>6</th>\n",
       "      <td>Tampa</td>\n",
       "      <td>0.14</td>\n",
       "      <td>0.17</td>\n",
       "    </tr>\n",
       "    <tr>\n",
       "      <th>5</th>\n",
       "      <td>Los Angeles</td>\n",
       "      <td>0.14</td>\n",
       "      <td>0.20</td>\n",
       "    </tr>\n",
       "    <tr>\n",
       "      <th>4</th>\n",
       "      <td>Atlanta</td>\n",
       "      <td>0.15</td>\n",
       "      <td>0.18</td>\n",
       "    </tr>\n",
       "    <tr>\n",
       "      <th>3</th>\n",
       "      <td>San Antonio</td>\n",
       "      <td>0.15</td>\n",
       "      <td>0.19</td>\n",
       "    </tr>\n",
       "    <tr>\n",
       "      <th>2</th>\n",
       "      <td>Dallas</td>\n",
       "      <td>0.18</td>\n",
       "      <td>0.21</td>\n",
       "    </tr>\n",
       "    <tr>\n",
       "      <th>1</th>\n",
       "      <td>Miami</td>\n",
       "      <td>0.19</td>\n",
       "      <td>0.24</td>\n",
       "    </tr>\n",
       "    <tr>\n",
       "      <th>0</th>\n",
       "      <td>Houston</td>\n",
       "      <td>0.19</td>\n",
       "      <td>0.22</td>\n",
       "    </tr>\n",
       "  </tbody>\n",
       "</table>\n",
       "</div>"
      ],
      "text/plain": [
       "                 Area  pct_2014  pct_2013\n",
       "25             Boston      0.04      0.04\n",
       "23         Pittsburgh      0.06      0.07\n",
       "22          Baltimore      0.06      0.09\n",
       "24        Minneapolis      0.06      0.08\n",
       "21      San Francisco      0.08      0.11\n",
       "20            Seattle      0.08      0.12\n",
       "19       Philadelphia      0.08      0.10\n",
       "18            Detroit      0.09      0.11\n",
       "17          St. Louis      0.09      0.10\n",
       "16           Portland      0.09      0.13\n",
       "15   Washington, D.C.      0.09      0.11\n",
       "14             Denver      0.10      0.14\n",
       "13           New York      0.10      0.12\n",
       "12            Chicago      0.11      0.14\n",
       "11    All Metro Areas      0.11      0.14\n",
       "10          San Diego      0.12      0.16\n",
       "9           Charlotte      0.13      0.15\n",
       "8             Phoenix      0.13      0.17\n",
       "7   Riverside, Calif.      0.14      0.19\n",
       "6               Tampa      0.14      0.17\n",
       "5         Los Angeles      0.14      0.20\n",
       "4             Atlanta      0.15      0.18\n",
       "3         San Antonio      0.15      0.19\n",
       "2              Dallas      0.18      0.21\n",
       "1               Miami      0.19      0.24\n",
       "0             Houston      0.19      0.22"
      ]
     },
     "execution_count": 9,
     "metadata": {},
     "output_type": "execute_result"
    }
   ],
   "source": [
    "#观察图像，首先我们的数据是有序的，从上到下，我们的2014年的费用占比是越来越大的\n",
    "df.sort_values('pct_2014', inplace=True)\n",
    "df"
   ]
  },
  {
   "cell_type": "code",
   "execution_count": 10,
   "metadata": {},
   "outputs": [],
   "source": [
    "#绘制直线，需要坐标点，而我们的纵坐标是城市名称，不可能直接导入进行绘图\n",
    "#因此我们需要把城市排过序后的索引变成一列特征\n",
    "df.reset_index(inplace=True)"
   ]
  },
  {
   "cell_type": "code",
   "execution_count": 11,
   "metadata": {},
   "outputs": [
    {
     "data": {
      "text/html": [
       "<div>\n",
       "<style scoped>\n",
       "    .dataframe tbody tr th:only-of-type {\n",
       "        vertical-align: middle;\n",
       "    }\n",
       "\n",
       "    .dataframe tbody tr th {\n",
       "        vertical-align: top;\n",
       "    }\n",
       "\n",
       "    .dataframe thead th {\n",
       "        text-align: right;\n",
       "    }\n",
       "</style>\n",
       "<table border=\"1\" class=\"dataframe\">\n",
       "  <thead>\n",
       "    <tr style=\"text-align: right;\">\n",
       "      <th></th>\n",
       "      <th>index</th>\n",
       "      <th>Area</th>\n",
       "      <th>pct_2014</th>\n",
       "      <th>pct_2013</th>\n",
       "    </tr>\n",
       "  </thead>\n",
       "  <tbody>\n",
       "    <tr>\n",
       "      <th>0</th>\n",
       "      <td>25</td>\n",
       "      <td>Boston</td>\n",
       "      <td>0.04</td>\n",
       "      <td>0.04</td>\n",
       "    </tr>\n",
       "    <tr>\n",
       "      <th>1</th>\n",
       "      <td>23</td>\n",
       "      <td>Pittsburgh</td>\n",
       "      <td>0.06</td>\n",
       "      <td>0.07</td>\n",
       "    </tr>\n",
       "    <tr>\n",
       "      <th>2</th>\n",
       "      <td>22</td>\n",
       "      <td>Baltimore</td>\n",
       "      <td>0.06</td>\n",
       "      <td>0.09</td>\n",
       "    </tr>\n",
       "    <tr>\n",
       "      <th>3</th>\n",
       "      <td>24</td>\n",
       "      <td>Minneapolis</td>\n",
       "      <td>0.06</td>\n",
       "      <td>0.08</td>\n",
       "    </tr>\n",
       "    <tr>\n",
       "      <th>4</th>\n",
       "      <td>21</td>\n",
       "      <td>San Francisco</td>\n",
       "      <td>0.08</td>\n",
       "      <td>0.11</td>\n",
       "    </tr>\n",
       "  </tbody>\n",
       "</table>\n",
       "</div>"
      ],
      "text/plain": [
       "   index           Area  pct_2014  pct_2013\n",
       "0     25         Boston      0.04      0.04\n",
       "1     23     Pittsburgh      0.06      0.07\n",
       "2     22      Baltimore      0.06      0.09\n",
       "3     24    Minneapolis      0.06      0.08\n",
       "4     21  San Francisco      0.08      0.11"
      ]
     },
     "execution_count": 11,
     "metadata": {},
     "output_type": "execute_result"
    }
   ],
   "source": [
    "df.head()"
   ]
  },
  {
   "cell_type": "markdown",
   "metadata": {},
   "source": [
    "### 3. 代码详解"
   ]
  },
  {
   "cell_type": "code",
   "execution_count": 12,
   "metadata": {},
   "outputs": [
    {
     "data": {
      "text/plain": [
       "index                     0\n",
       "Area        All Metro Areas\n",
       "pct_2014               0.04\n",
       "pct_2013               0.04\n",
       "dtype: object"
      ]
     },
     "execution_count": 12,
     "metadata": {},
     "output_type": "execute_result"
    }
   ],
   "source": [
    "df.min()"
   ]
  },
  {
   "cell_type": "code",
   "execution_count": 13,
   "metadata": {},
   "outputs": [
    {
     "data": {
      "text/plain": [
       "index                     25\n",
       "Area        Washington, D.C.\n",
       "pct_2014                0.19\n",
       "pct_2013                0.24\n",
       "dtype: object"
      ]
     },
     "execution_count": 13,
     "metadata": {},
     "output_type": "execute_result"
    }
   ],
   "source": [
    "df.max()"
   ]
  },
  {
   "cell_type": "code",
   "execution_count": 17,
   "metadata": {},
   "outputs": [
    {
     "data": {
      "image/png": "[encoded data removed]",
      "text/plain": [
       "<Figure size 1120x1120 with 1 Axes>"
      ]
     },
     "metadata": {},
     "output_type": "display_data"
    }
   ],
   "source": [
    "#定义绘制折线的函数\n",
    "def newline(p1, p2, color='black'):\n",
    "    ax = plt.gca()\n",
    "    l = mlines.Line2D([p1[0],p2[0]], [p1[1],p2[1]], color='skyblue')\n",
    "    ax.add_line(l)\n",
    "    return l\n",
    "\n",
    "#建立子图和画布\n",
    "fig, ax = plt.subplots(1,1,figsize=(14,14)\n",
    "                       , facecolor='#f7f7f7' #除了颜色的名字，也可以通过输入颜色的编码来找到颜色\n",
    "                       , dpi=80)\n",
    "\n",
    "#绘制四条竖线\n",
    "ax.vlines(x=.05, ymin=0, ymax=26, color='black', alpha=1, linewidth=1, linestyles='dotted')\n",
    "ax.vlines(x=.10, ymin=0, ymax=26, color='black', alpha=1, linewidth=1, linestyles='dotted')\n",
    "ax.vlines(x=.15, ymin=0, ymax=26, color='black', alpha=1, linewidth=1, linestyles='dotted')\n",
    "ax.vlines(x=.20, ymin=0, ymax=26, color='black', alpha=1, linewidth=1, linestyles='dotted')\n",
    "\n",
    "#绘制需要连线的点\n",
    "ax.scatter(y=df['index'], x=df['pct_2013'], s=50, color='#0e668b', alpha=0.7)\n",
    "ax.scatter(y=df['index'], x=df['pct_2014'], s=50, color='#a3c4dc', alpha=0.7)\n",
    "\n",
    "#将线链接起来\n",
    "for i, p1, p2 in zip(df['index'], df['pct_2013'], df['pct_2014']):\n",
    "    newline([p1, i], [p2, i])\n",
    "\n",
    "#装饰\n",
    "ax.set_facecolor('#f7f7f7') #子图的背景色\n",
    "plt.rcParams['font.sans-serif']=['Simhei'] \n",
    "ax.set_title(\"医疗支出占人均GDP的百分比 - 2014 vs 2013\", fontdict={'size':22}) #标题，为了避免混淆，改成了 2014 vs 2013\n",
    "ax.set(xlim=(0, .25), ylim=(-1, 27)) \n",
    "ax.set_ylabel(\"Area\",fontsize=22) #增加了y轴的名称以及修改了标尺\n",
    "\n",
    "#设置xy轴上的标尺&标题\n",
    "ax.set_xticks([.05, .1, .15, .20])\n",
    "ax.set_yticks(range(26)) #只能设置标尺\n",
    "ax.set_yticklabels(df.Area,fontdict={'size':16}) #设置的是标尺的名称，可以设置字体大小\n",
    "ax.set_xticklabels(['5%', '10%', '15%', '20%'],fontdict={'size':18})\n",
    "\n",
    "plt.show()"
   ]
  },
  {
   "cell_type": "markdown",
   "metadata": {},
   "source": [
    "### 4. 解读图像"
   ]
  },
  {
   "cell_type": "markdown",
   "metadata": {},
   "source": [
    "<img src=\"http://pictes.oss-cn-beijing.aliyuncs.com/microclass-virtualisation/week1correlation/line4.png\" align=\"center\" />"
   ]
  },
  {
   "cell_type": "code",
   "execution_count": null,
   "metadata": {},
   "outputs": [],
   "source": []
  }
 ],
 "metadata": {
  "kernelspec": {
   "display_name": "Python 3",
   "language": "python",
   "name": "python3"
  },
  "language_info": {
   "codemirror_mode": {
    "name": "ipython",
    "version": 3
   },
   "file_extension": ".py",
   "mimetype": "text/x-python",
   "name": "python",
   "nbconvert_exporter": "python",
   "pygments_lexer": "ipython3",
   "version": "3.8.5"
  }
 },
 "nbformat": 4,
 "nbformat_minor": 4
}
